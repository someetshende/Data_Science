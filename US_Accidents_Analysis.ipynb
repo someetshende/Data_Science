{
  "nbformat": 4,
  "nbformat_minor": 0,
  "metadata": {
    "colab": {
      "provenance": [],
      "authorship_tag": "ABX9TyMrZX4yHehNnUIKHnl+Y9w/",
      "include_colab_link": true
    },
    "kernelspec": {
      "name": "python3",
      "display_name": "Python 3"
    },
    "language_info": {
      "name": "python"
    }
  },
  "cells": [
    {
      "cell_type": "markdown",
      "metadata": {
        "id": "view-in-github",
        "colab_type": "text"
      },
      "source": [
        "<a href=\"https://colab.research.google.com/github/someetshende/someetshende/blob/main/US_Accidents_Analysis.ipynb\" target=\"_parent\"><img src=\"https://colab.research.google.com/assets/colab-badge.svg\" alt=\"Open In Colab\"/></a>"
      ]
    },
    {
      "cell_type": "markdown",
      "source": [
        "# US Accidents (2016 - 2021)\n",
        "# TODO - talk about Exploratory Data Analysis\n",
        "# Talk about the dataset (Source, what it contains, how it is useful)\n",
        "# 1. Kaggle DataSet\n",
        "# 2. Can be used to prevent accidents\n",
        "# 3. information about road accidents"
      ],
      "metadata": {
        "id": "oGgvsIQ8hFs2"
      }
    },
    {
      "cell_type": "code",
      "source": [
        "pip install opendatasets --upgrade --quiet"
      ],
      "metadata": {
        "id": "IUYLJc6TQmY1"
      },
      "execution_count": 1,
      "outputs": []
    },
    {
      "cell_type": "code",
      "source": [
        "import opendatasets as od"
      ],
      "metadata": {
        "id": "vi1zInshRMAg"
      },
      "execution_count": 2,
      "outputs": []
    },
    {
      "cell_type": "markdown",
      "source": [
        "# Data Download"
      ],
      "metadata": {
        "id": "20SQ-7ZmhLSu"
      }
    },
    {
      "cell_type": "code",
      "source": [
        "download_url = 'https://www.kaggle.com/datasets/sobhanmoosavi/us-accidents'\n",
        "od.download(download_url)"
      ],
      "metadata": {
        "colab": {
          "base_uri": "https://localhost:8080/"
        },
        "id": "dzJbPppZQsaH",
        "outputId": "cc122fec-1054-4a74-88b8-7ccaa6cc5591"
      },
      "execution_count": 3,
      "outputs": [
        {
          "output_type": "stream",
          "name": "stdout",
          "text": [
            "Please provide your Kaggle credentials to download this dataset. Learn more: http://bit.ly/kaggle-creds\n",
            "Your Kaggle username: someetshende\n",
            "Your Kaggle Key: ··········\n",
            "Downloading us-accidents.zip to ./us-accidents\n"
          ]
        },
        {
          "output_type": "stream",
          "name": "stderr",
          "text": [
            "100%|██████████| 269M/269M [00:02<00:00, 129MB/s]\n"
          ]
        },
        {
          "output_type": "stream",
          "name": "stdout",
          "text": [
            "\n"
          ]
        }
      ]
    },
    {
      "cell_type": "code",
      "source": [
        "data_filename = './us-accidents/US_Accidents_Dec21_updated.csv'"
      ],
      "metadata": {
        "id": "VLRt8pmUQsSn"
      },
      "execution_count": 4,
      "outputs": []
    },
    {
      "cell_type": "markdown",
      "source": [
        "# Data Preparation and Cleaning\n",
        "\n",
        "# load files using pandas\n",
        "# fix any missing or incorrect values\n",
        "# look at some information from it like data and column"
      ],
      "metadata": {
        "id": "YdjmID7mhRad"
      }
    },
    {
      "cell_type": "code",
      "source": [
        "import pandas as pd\n",
        "df = pd.read_csv(data_filename)"
      ],
      "metadata": {
        "id": "k1RGIp6-Qvgn"
      },
      "execution_count": 5,
      "outputs": []
    },
    {
      "cell_type": "code",
      "source": [
        "df.head()"
      ],
      "metadata": {
        "colab": {
          "base_uri": "https://localhost:8080/",
          "height": 507
        },
        "id": "nM4dCZUrQvZw",
        "outputId": "354d7c9a-4512-4710-d7c6-32125f8ee70f"
      },
      "execution_count": 8,
      "outputs": [
        {
          "output_type": "execute_result",
          "data": {
            "text/plain": [
              "    ID  Severity           Start_Time             End_Time  Start_Lat  \\\n",
              "0  A-1         3  2016-02-08 00:37:08  2016-02-08 06:37:08  40.108910   \n",
              "1  A-2         2  2016-02-08 05:56:20  2016-02-08 11:56:20  39.865420   \n",
              "2  A-3         2  2016-02-08 06:15:39  2016-02-08 12:15:39  39.102660   \n",
              "3  A-4         2  2016-02-08 06:51:45  2016-02-08 12:51:45  41.062130   \n",
              "4  A-5         3  2016-02-08 07:53:43  2016-02-08 13:53:43  39.172393   \n",
              "\n",
              "   Start_Lng    End_Lat    End_Lng  Distance(mi)  \\\n",
              "0 -83.092860  40.112060 -83.031870         3.230   \n",
              "1 -84.062800  39.865010 -84.048730         0.747   \n",
              "2 -84.524680  39.102090 -84.523960         0.055   \n",
              "3 -81.537840  41.062170 -81.535470         0.123   \n",
              "4 -84.492792  39.170476 -84.501798         0.500   \n",
              "\n",
              "                                         Description  ...  Roundabout Station  \\\n",
              "0  Between Sawmill Rd/Exit 20 and OH-315/Olentang...  ...       False   False   \n",
              "1                 At OH-4/OH-235/Exit 41 - Accident.  ...       False   False   \n",
              "2                   At I-71/US-50/Exit 1 - Accident.  ...       False   False   \n",
              "3                    At Dart Ave/Exit 21 - Accident.  ...       False   False   \n",
              "4                 At Mitchell Ave/Exit 6 - Accident.  ...       False   False   \n",
              "\n",
              "    Stop Traffic_Calming Traffic_Signal Turning_Loop Sunrise_Sunset  \\\n",
              "0  False           False          False        False          Night   \n",
              "1  False           False          False        False          Night   \n",
              "2  False           False          False        False          Night   \n",
              "3  False           False          False        False          Night   \n",
              "4  False           False          False        False            Day   \n",
              "\n",
              "  Civil_Twilight Nautical_Twilight Astronomical_Twilight  \n",
              "0          Night             Night                 Night  \n",
              "1          Night             Night                 Night  \n",
              "2          Night             Night                   Day  \n",
              "3          Night               Day                   Day  \n",
              "4            Day               Day                   Day  \n",
              "\n",
              "[5 rows x 47 columns]"
            ],
            "text/html": [
              "\n",
              "  <div id=\"df-846297f9-e32f-4059-b3e1-67958bb4add9\">\n",
              "    <div class=\"colab-df-container\">\n",
              "      <div>\n",
              "<style scoped>\n",
              "    .dataframe tbody tr th:only-of-type {\n",
              "        vertical-align: middle;\n",
              "    }\n",
              "\n",
              "    .dataframe tbody tr th {\n",
              "        vertical-align: top;\n",
              "    }\n",
              "\n",
              "    .dataframe thead th {\n",
              "        text-align: right;\n",
              "    }\n",
              "</style>\n",
              "<table border=\"1\" class=\"dataframe\">\n",
              "  <thead>\n",
              "    <tr style=\"text-align: right;\">\n",
              "      <th></th>\n",
              "      <th>ID</th>\n",
              "      <th>Severity</th>\n",
              "      <th>Start_Time</th>\n",
              "      <th>End_Time</th>\n",
              "      <th>Start_Lat</th>\n",
              "      <th>Start_Lng</th>\n",
              "      <th>End_Lat</th>\n",
              "      <th>End_Lng</th>\n",
              "      <th>Distance(mi)</th>\n",
              "      <th>Description</th>\n",
              "      <th>...</th>\n",
              "      <th>Roundabout</th>\n",
              "      <th>Station</th>\n",
              "      <th>Stop</th>\n",
              "      <th>Traffic_Calming</th>\n",
              "      <th>Traffic_Signal</th>\n",
              "      <th>Turning_Loop</th>\n",
              "      <th>Sunrise_Sunset</th>\n",
              "      <th>Civil_Twilight</th>\n",
              "      <th>Nautical_Twilight</th>\n",
              "      <th>Astronomical_Twilight</th>\n",
              "    </tr>\n",
              "  </thead>\n",
              "  <tbody>\n",
              "    <tr>\n",
              "      <th>0</th>\n",
              "      <td>A-1</td>\n",
              "      <td>3</td>\n",
              "      <td>2016-02-08 00:37:08</td>\n",
              "      <td>2016-02-08 06:37:08</td>\n",
              "      <td>40.108910</td>\n",
              "      <td>-83.092860</td>\n",
              "      <td>40.112060</td>\n",
              "      <td>-83.031870</td>\n",
              "      <td>3.230</td>\n",
              "      <td>Between Sawmill Rd/Exit 20 and OH-315/Olentang...</td>\n",
              "      <td>...</td>\n",
              "      <td>False</td>\n",
              "      <td>False</td>\n",
              "      <td>False</td>\n",
              "      <td>False</td>\n",
              "      <td>False</td>\n",
              "      <td>False</td>\n",
              "      <td>Night</td>\n",
              "      <td>Night</td>\n",
              "      <td>Night</td>\n",
              "      <td>Night</td>\n",
              "    </tr>\n",
              "    <tr>\n",
              "      <th>1</th>\n",
              "      <td>A-2</td>\n",
              "      <td>2</td>\n",
              "      <td>2016-02-08 05:56:20</td>\n",
              "      <td>2016-02-08 11:56:20</td>\n",
              "      <td>39.865420</td>\n",
              "      <td>-84.062800</td>\n",
              "      <td>39.865010</td>\n",
              "      <td>-84.048730</td>\n",
              "      <td>0.747</td>\n",
              "      <td>At OH-4/OH-235/Exit 41 - Accident.</td>\n",
              "      <td>...</td>\n",
              "      <td>False</td>\n",
              "      <td>False</td>\n",
              "      <td>False</td>\n",
              "      <td>False</td>\n",
              "      <td>False</td>\n",
              "      <td>False</td>\n",
              "      <td>Night</td>\n",
              "      <td>Night</td>\n",
              "      <td>Night</td>\n",
              "      <td>Night</td>\n",
              "    </tr>\n",
              "    <tr>\n",
              "      <th>2</th>\n",
              "      <td>A-3</td>\n",
              "      <td>2</td>\n",
              "      <td>2016-02-08 06:15:39</td>\n",
              "      <td>2016-02-08 12:15:39</td>\n",
              "      <td>39.102660</td>\n",
              "      <td>-84.524680</td>\n",
              "      <td>39.102090</td>\n",
              "      <td>-84.523960</td>\n",
              "      <td>0.055</td>\n",
              "      <td>At I-71/US-50/Exit 1 - Accident.</td>\n",
              "      <td>...</td>\n",
              "      <td>False</td>\n",
              "      <td>False</td>\n",
              "      <td>False</td>\n",
              "      <td>False</td>\n",
              "      <td>False</td>\n",
              "      <td>False</td>\n",
              "      <td>Night</td>\n",
              "      <td>Night</td>\n",
              "      <td>Night</td>\n",
              "      <td>Day</td>\n",
              "    </tr>\n",
              "    <tr>\n",
              "      <th>3</th>\n",
              "      <td>A-4</td>\n",
              "      <td>2</td>\n",
              "      <td>2016-02-08 06:51:45</td>\n",
              "      <td>2016-02-08 12:51:45</td>\n",
              "      <td>41.062130</td>\n",
              "      <td>-81.537840</td>\n",
              "      <td>41.062170</td>\n",
              "      <td>-81.535470</td>\n",
              "      <td>0.123</td>\n",
              "      <td>At Dart Ave/Exit 21 - Accident.</td>\n",
              "      <td>...</td>\n",
              "      <td>False</td>\n",
              "      <td>False</td>\n",
              "      <td>False</td>\n",
              "      <td>False</td>\n",
              "      <td>False</td>\n",
              "      <td>False</td>\n",
              "      <td>Night</td>\n",
              "      <td>Night</td>\n",
              "      <td>Day</td>\n",
              "      <td>Day</td>\n",
              "    </tr>\n",
              "    <tr>\n",
              "      <th>4</th>\n",
              "      <td>A-5</td>\n",
              "      <td>3</td>\n",
              "      <td>2016-02-08 07:53:43</td>\n",
              "      <td>2016-02-08 13:53:43</td>\n",
              "      <td>39.172393</td>\n",
              "      <td>-84.492792</td>\n",
              "      <td>39.170476</td>\n",
              "      <td>-84.501798</td>\n",
              "      <td>0.500</td>\n",
              "      <td>At Mitchell Ave/Exit 6 - Accident.</td>\n",
              "      <td>...</td>\n",
              "      <td>False</td>\n",
              "      <td>False</td>\n",
              "      <td>False</td>\n",
              "      <td>False</td>\n",
              "      <td>False</td>\n",
              "      <td>False</td>\n",
              "      <td>Day</td>\n",
              "      <td>Day</td>\n",
              "      <td>Day</td>\n",
              "      <td>Day</td>\n",
              "    </tr>\n",
              "  </tbody>\n",
              "</table>\n",
              "<p>5 rows × 47 columns</p>\n",
              "</div>\n",
              "      <button class=\"colab-df-convert\" onclick=\"convertToInteractive('df-846297f9-e32f-4059-b3e1-67958bb4add9')\"\n",
              "              title=\"Convert this dataframe to an interactive table.\"\n",
              "              style=\"display:none;\">\n",
              "        \n",
              "  <svg xmlns=\"http://www.w3.org/2000/svg\" height=\"24px\"viewBox=\"0 0 24 24\"\n",
              "       width=\"24px\">\n",
              "    <path d=\"M0 0h24v24H0V0z\" fill=\"none\"/>\n",
              "    <path d=\"M18.56 5.44l.94 2.06.94-2.06 2.06-.94-2.06-.94-.94-2.06-.94 2.06-2.06.94zm-11 1L8.5 8.5l.94-2.06 2.06-.94-2.06-.94L8.5 2.5l-.94 2.06-2.06.94zm10 10l.94 2.06.94-2.06 2.06-.94-2.06-.94-.94-2.06-.94 2.06-2.06.94z\"/><path d=\"M17.41 7.96l-1.37-1.37c-.4-.4-.92-.59-1.43-.59-.52 0-1.04.2-1.43.59L10.3 9.45l-7.72 7.72c-.78.78-.78 2.05 0 2.83L4 21.41c.39.39.9.59 1.41.59.51 0 1.02-.2 1.41-.59l7.78-7.78 2.81-2.81c.8-.78.8-2.07 0-2.86zM5.41 20L4 18.59l7.72-7.72 1.47 1.35L5.41 20z\"/>\n",
              "  </svg>\n",
              "      </button>\n",
              "      \n",
              "  <style>\n",
              "    .colab-df-container {\n",
              "      display:flex;\n",
              "      flex-wrap:wrap;\n",
              "      gap: 12px;\n",
              "    }\n",
              "\n",
              "    .colab-df-convert {\n",
              "      background-color: #E8F0FE;\n",
              "      border: none;\n",
              "      border-radius: 50%;\n",
              "      cursor: pointer;\n",
              "      display: none;\n",
              "      fill: #1967D2;\n",
              "      height: 32px;\n",
              "      padding: 0 0 0 0;\n",
              "      width: 32px;\n",
              "    }\n",
              "\n",
              "    .colab-df-convert:hover {\n",
              "      background-color: #E2EBFA;\n",
              "      box-shadow: 0px 1px 2px rgba(60, 64, 67, 0.3), 0px 1px 3px 1px rgba(60, 64, 67, 0.15);\n",
              "      fill: #174EA6;\n",
              "    }\n",
              "\n",
              "    [theme=dark] .colab-df-convert {\n",
              "      background-color: #3B4455;\n",
              "      fill: #D2E3FC;\n",
              "    }\n",
              "\n",
              "    [theme=dark] .colab-df-convert:hover {\n",
              "      background-color: #434B5C;\n",
              "      box-shadow: 0px 1px 3px 1px rgba(0, 0, 0, 0.15);\n",
              "      filter: drop-shadow(0px 1px 2px rgba(0, 0, 0, 0.3));\n",
              "      fill: #FFFFFF;\n",
              "    }\n",
              "  </style>\n",
              "\n",
              "      <script>\n",
              "        const buttonEl =\n",
              "          document.querySelector('#df-846297f9-e32f-4059-b3e1-67958bb4add9 button.colab-df-convert');\n",
              "        buttonEl.style.display =\n",
              "          google.colab.kernel.accessAllowed ? 'block' : 'none';\n",
              "\n",
              "        async function convertToInteractive(key) {\n",
              "          const element = document.querySelector('#df-846297f9-e32f-4059-b3e1-67958bb4add9');\n",
              "          const dataTable =\n",
              "            await google.colab.kernel.invokeFunction('convertToInteractive',\n",
              "                                                     [key], {});\n",
              "          if (!dataTable) return;\n",
              "\n",
              "          const docLinkHtml = 'Like what you see? Visit the ' +\n",
              "            '<a target=\"_blank\" href=https://colab.research.google.com/notebooks/data_table.ipynb>data table notebook</a>'\n",
              "            + ' to learn more about interactive tables.';\n",
              "          element.innerHTML = '';\n",
              "          dataTable['output_type'] = 'display_data';\n",
              "          await google.colab.output.renderOutput(dataTable, element);\n",
              "          const docLink = document.createElement('div');\n",
              "          docLink.innerHTML = docLinkHtml;\n",
              "          element.appendChild(docLink);\n",
              "        }\n",
              "      </script>\n",
              "    </div>\n",
              "  </div>\n",
              "  "
            ]
          },
          "metadata": {},
          "execution_count": 8
        }
      ]
    },
    {
      "cell_type": "code",
      "source": [
        "df.columns"
      ],
      "metadata": {
        "colab": {
          "base_uri": "https://localhost:8080/"
        },
        "id": "ylBLPWpWTdl4",
        "outputId": "6361cfdd-f336-46ab-8ea4-739e025c8303"
      },
      "execution_count": 9,
      "outputs": [
        {
          "output_type": "execute_result",
          "data": {
            "text/plain": [
              "Index(['ID', 'Severity', 'Start_Time', 'End_Time', 'Start_Lat', 'Start_Lng',\n",
              "       'End_Lat', 'End_Lng', 'Distance(mi)', 'Description', 'Number', 'Street',\n",
              "       'Side', 'City', 'County', 'State', 'Zipcode', 'Country', 'Timezone',\n",
              "       'Airport_Code', 'Weather_Timestamp', 'Temperature(F)', 'Wind_Chill(F)',\n",
              "       'Humidity(%)', 'Pressure(in)', 'Visibility(mi)', 'Wind_Direction',\n",
              "       'Wind_Speed(mph)', 'Precipitation(in)', 'Weather_Condition', 'Amenity',\n",
              "       'Bump', 'Crossing', 'Give_Way', 'Junction', 'No_Exit', 'Railway',\n",
              "       'Roundabout', 'Station', 'Stop', 'Traffic_Calming', 'Traffic_Signal',\n",
              "       'Turning_Loop', 'Sunrise_Sunset', 'Civil_Twilight', 'Nautical_Twilight',\n",
              "       'Astronomical_Twilight'],\n",
              "      dtype='object')"
            ]
          },
          "metadata": {},
          "execution_count": 9
        }
      ]
    },
    {
      "cell_type": "code",
      "source": [
        "len(df.columns)"
      ],
      "metadata": {
        "colab": {
          "base_uri": "https://localhost:8080/"
        },
        "id": "Y48hL-ywTdjJ",
        "outputId": "34382b90-3771-46f2-f167-7fe3c6c60689"
      },
      "execution_count": 10,
      "outputs": [
        {
          "output_type": "execute_result",
          "data": {
            "text/plain": [
              "47"
            ]
          },
          "metadata": {},
          "execution_count": 10
        }
      ]
    },
    {
      "cell_type": "code",
      "source": [
        "len(df)"
      ],
      "metadata": {
        "colab": {
          "base_uri": "https://localhost:8080/"
        },
        "id": "kExVpbDqTdgJ",
        "outputId": "2e294691-4bcb-4db1-858b-6b27cebf47eb"
      },
      "execution_count": 11,
      "outputs": [
        {
          "output_type": "execute_result",
          "data": {
            "text/plain": [
              "2845342"
            ]
          },
          "metadata": {},
          "execution_count": 11
        }
      ]
    },
    {
      "cell_type": "code",
      "source": [
        "df.info()"
      ],
      "metadata": {
        "colab": {
          "base_uri": "https://localhost:8080/"
        },
        "id": "pk-tTLYjTddZ",
        "outputId": "c9b9f3b2-aa2e-464d-a153-1466099f3baa"
      },
      "execution_count": 12,
      "outputs": [
        {
          "output_type": "stream",
          "name": "stdout",
          "text": [
            "<class 'pandas.core.frame.DataFrame'>\n",
            "RangeIndex: 2845342 entries, 0 to 2845341\n",
            "Data columns (total 47 columns):\n",
            " #   Column                 Dtype  \n",
            "---  ------                 -----  \n",
            " 0   ID                     object \n",
            " 1   Severity               int64  \n",
            " 2   Start_Time             object \n",
            " 3   End_Time               object \n",
            " 4   Start_Lat              float64\n",
            " 5   Start_Lng              float64\n",
            " 6   End_Lat                float64\n",
            " 7   End_Lng                float64\n",
            " 8   Distance(mi)           float64\n",
            " 9   Description            object \n",
            " 10  Number                 float64\n",
            " 11  Street                 object \n",
            " 12  Side                   object \n",
            " 13  City                   object \n",
            " 14  County                 object \n",
            " 15  State                  object \n",
            " 16  Zipcode                object \n",
            " 17  Country                object \n",
            " 18  Timezone               object \n",
            " 19  Airport_Code           object \n",
            " 20  Weather_Timestamp      object \n",
            " 21  Temperature(F)         float64\n",
            " 22  Wind_Chill(F)          float64\n",
            " 23  Humidity(%)            float64\n",
            " 24  Pressure(in)           float64\n",
            " 25  Visibility(mi)         float64\n",
            " 26  Wind_Direction         object \n",
            " 27  Wind_Speed(mph)        float64\n",
            " 28  Precipitation(in)      float64\n",
            " 29  Weather_Condition      object \n",
            " 30  Amenity                bool   \n",
            " 31  Bump                   bool   \n",
            " 32  Crossing               bool   \n",
            " 33  Give_Way               bool   \n",
            " 34  Junction               bool   \n",
            " 35  No_Exit                bool   \n",
            " 36  Railway                bool   \n",
            " 37  Roundabout             bool   \n",
            " 38  Station                bool   \n",
            " 39  Stop                   bool   \n",
            " 40  Traffic_Calming        bool   \n",
            " 41  Traffic_Signal         bool   \n",
            " 42  Turning_Loop           bool   \n",
            " 43  Sunrise_Sunset         object \n",
            " 44  Civil_Twilight         object \n",
            " 45  Nautical_Twilight      object \n",
            " 46  Astronomical_Twilight  object \n",
            "dtypes: bool(13), float64(13), int64(1), object(20)\n",
            "memory usage: 773.4+ MB\n"
          ]
        }
      ]
    },
    {
      "cell_type": "code",
      "source": [
        "df.describe()"
      ],
      "metadata": {
        "colab": {
          "base_uri": "https://localhost:8080/",
          "height": 364
        },
        "id": "NBJJ1HfATdaA",
        "outputId": "a18d2521-9357-4645-ee00-10b01fecadb8"
      },
      "execution_count": 13,
      "outputs": [
        {
          "output_type": "execute_result",
          "data": {
            "text/plain": [
              "           Severity     Start_Lat     Start_Lng       End_Lat       End_Lng  \\\n",
              "count  2.845342e+06  2.845342e+06  2.845342e+06  2.845342e+06  2.845342e+06   \n",
              "mean   2.137572e+00  3.624520e+01 -9.711463e+01  3.624532e+01 -9.711439e+01   \n",
              "std    4.787216e-01  5.363797e+00  1.831782e+01  5.363873e+00  1.831763e+01   \n",
              "min    1.000000e+00  2.456603e+01 -1.245481e+02  2.456601e+01 -1.245457e+02   \n",
              "25%    2.000000e+00  3.344517e+01 -1.180331e+02  3.344628e+01 -1.180333e+02   \n",
              "50%    2.000000e+00  3.609861e+01 -9.241808e+01  3.609799e+01 -9.241772e+01   \n",
              "75%    2.000000e+00  4.016024e+01 -8.037243e+01  4.016105e+01 -8.037338e+01   \n",
              "max    4.000000e+00  4.900058e+01 -6.711317e+01  4.907500e+01 -6.710924e+01   \n",
              "\n",
              "       Distance(mi)        Number  Temperature(F)  Wind_Chill(F)  \\\n",
              "count  2.845342e+06  1.101431e+06    2.776068e+06   2.375699e+06   \n",
              "mean   7.026779e-01  8.089408e+03    6.179356e+01   5.965823e+01   \n",
              "std    1.560361e+00  1.836009e+04    1.862263e+01   2.116097e+01   \n",
              "min    0.000000e+00  0.000000e+00   -8.900000e+01  -8.900000e+01   \n",
              "25%    5.200000e-02  1.270000e+03    5.000000e+01   4.600000e+01   \n",
              "50%    2.440000e-01  4.007000e+03    6.400000e+01   6.300000e+01   \n",
              "75%    7.640000e-01  9.567000e+03    7.600000e+01   7.600000e+01   \n",
              "max    1.551860e+02  9.999997e+06    1.960000e+02   1.960000e+02   \n",
              "\n",
              "        Humidity(%)  Pressure(in)  Visibility(mi)  Wind_Speed(mph)  \\\n",
              "count  2.772250e+06  2.786142e+06    2.774796e+06     2.687398e+06   \n",
              "mean   6.436545e+01  2.947234e+01    9.099391e+00     7.395044e+00   \n",
              "std    2.287457e+01  1.045286e+00    2.717546e+00     5.527454e+00   \n",
              "min    1.000000e+00  0.000000e+00    0.000000e+00     0.000000e+00   \n",
              "25%    4.800000e+01  2.931000e+01    1.000000e+01     3.500000e+00   \n",
              "50%    6.700000e+01  2.982000e+01    1.000000e+01     7.000000e+00   \n",
              "75%    8.300000e+01  3.001000e+01    1.000000e+01     1.000000e+01   \n",
              "max    1.000000e+02  5.890000e+01    1.400000e+02     1.087000e+03   \n",
              "\n",
              "       Precipitation(in)  \n",
              "count       2.295884e+06  \n",
              "mean        7.016940e-03  \n",
              "std         9.348831e-02  \n",
              "min         0.000000e+00  \n",
              "25%         0.000000e+00  \n",
              "50%         0.000000e+00  \n",
              "75%         0.000000e+00  \n",
              "max         2.400000e+01  "
            ],
            "text/html": [
              "\n",
              "  <div id=\"df-fb9e5515-8f96-42d0-8f1e-8f492b8442e0\">\n",
              "    <div class=\"colab-df-container\">\n",
              "      <div>\n",
              "<style scoped>\n",
              "    .dataframe tbody tr th:only-of-type {\n",
              "        vertical-align: middle;\n",
              "    }\n",
              "\n",
              "    .dataframe tbody tr th {\n",
              "        vertical-align: top;\n",
              "    }\n",
              "\n",
              "    .dataframe thead th {\n",
              "        text-align: right;\n",
              "    }\n",
              "</style>\n",
              "<table border=\"1\" class=\"dataframe\">\n",
              "  <thead>\n",
              "    <tr style=\"text-align: right;\">\n",
              "      <th></th>\n",
              "      <th>Severity</th>\n",
              "      <th>Start_Lat</th>\n",
              "      <th>Start_Lng</th>\n",
              "      <th>End_Lat</th>\n",
              "      <th>End_Lng</th>\n",
              "      <th>Distance(mi)</th>\n",
              "      <th>Number</th>\n",
              "      <th>Temperature(F)</th>\n",
              "      <th>Wind_Chill(F)</th>\n",
              "      <th>Humidity(%)</th>\n",
              "      <th>Pressure(in)</th>\n",
              "      <th>Visibility(mi)</th>\n",
              "      <th>Wind_Speed(mph)</th>\n",
              "      <th>Precipitation(in)</th>\n",
              "    </tr>\n",
              "  </thead>\n",
              "  <tbody>\n",
              "    <tr>\n",
              "      <th>count</th>\n",
              "      <td>2.845342e+06</td>\n",
              "      <td>2.845342e+06</td>\n",
              "      <td>2.845342e+06</td>\n",
              "      <td>2.845342e+06</td>\n",
              "      <td>2.845342e+06</td>\n",
              "      <td>2.845342e+06</td>\n",
              "      <td>1.101431e+06</td>\n",
              "      <td>2.776068e+06</td>\n",
              "      <td>2.375699e+06</td>\n",
              "      <td>2.772250e+06</td>\n",
              "      <td>2.786142e+06</td>\n",
              "      <td>2.774796e+06</td>\n",
              "      <td>2.687398e+06</td>\n",
              "      <td>2.295884e+06</td>\n",
              "    </tr>\n",
              "    <tr>\n",
              "      <th>mean</th>\n",
              "      <td>2.137572e+00</td>\n",
              "      <td>3.624520e+01</td>\n",
              "      <td>-9.711463e+01</td>\n",
              "      <td>3.624532e+01</td>\n",
              "      <td>-9.711439e+01</td>\n",
              "      <td>7.026779e-01</td>\n",
              "      <td>8.089408e+03</td>\n",
              "      <td>6.179356e+01</td>\n",
              "      <td>5.965823e+01</td>\n",
              "      <td>6.436545e+01</td>\n",
              "      <td>2.947234e+01</td>\n",
              "      <td>9.099391e+00</td>\n",
              "      <td>7.395044e+00</td>\n",
              "      <td>7.016940e-03</td>\n",
              "    </tr>\n",
              "    <tr>\n",
              "      <th>std</th>\n",
              "      <td>4.787216e-01</td>\n",
              "      <td>5.363797e+00</td>\n",
              "      <td>1.831782e+01</td>\n",
              "      <td>5.363873e+00</td>\n",
              "      <td>1.831763e+01</td>\n",
              "      <td>1.560361e+00</td>\n",
              "      <td>1.836009e+04</td>\n",
              "      <td>1.862263e+01</td>\n",
              "      <td>2.116097e+01</td>\n",
              "      <td>2.287457e+01</td>\n",
              "      <td>1.045286e+00</td>\n",
              "      <td>2.717546e+00</td>\n",
              "      <td>5.527454e+00</td>\n",
              "      <td>9.348831e-02</td>\n",
              "    </tr>\n",
              "    <tr>\n",
              "      <th>min</th>\n",
              "      <td>1.000000e+00</td>\n",
              "      <td>2.456603e+01</td>\n",
              "      <td>-1.245481e+02</td>\n",
              "      <td>2.456601e+01</td>\n",
              "      <td>-1.245457e+02</td>\n",
              "      <td>0.000000e+00</td>\n",
              "      <td>0.000000e+00</td>\n",
              "      <td>-8.900000e+01</td>\n",
              "      <td>-8.900000e+01</td>\n",
              "      <td>1.000000e+00</td>\n",
              "      <td>0.000000e+00</td>\n",
              "      <td>0.000000e+00</td>\n",
              "      <td>0.000000e+00</td>\n",
              "      <td>0.000000e+00</td>\n",
              "    </tr>\n",
              "    <tr>\n",
              "      <th>25%</th>\n",
              "      <td>2.000000e+00</td>\n",
              "      <td>3.344517e+01</td>\n",
              "      <td>-1.180331e+02</td>\n",
              "      <td>3.344628e+01</td>\n",
              "      <td>-1.180333e+02</td>\n",
              "      <td>5.200000e-02</td>\n",
              "      <td>1.270000e+03</td>\n",
              "      <td>5.000000e+01</td>\n",
              "      <td>4.600000e+01</td>\n",
              "      <td>4.800000e+01</td>\n",
              "      <td>2.931000e+01</td>\n",
              "      <td>1.000000e+01</td>\n",
              "      <td>3.500000e+00</td>\n",
              "      <td>0.000000e+00</td>\n",
              "    </tr>\n",
              "    <tr>\n",
              "      <th>50%</th>\n",
              "      <td>2.000000e+00</td>\n",
              "      <td>3.609861e+01</td>\n",
              "      <td>-9.241808e+01</td>\n",
              "      <td>3.609799e+01</td>\n",
              "      <td>-9.241772e+01</td>\n",
              "      <td>2.440000e-01</td>\n",
              "      <td>4.007000e+03</td>\n",
              "      <td>6.400000e+01</td>\n",
              "      <td>6.300000e+01</td>\n",
              "      <td>6.700000e+01</td>\n",
              "      <td>2.982000e+01</td>\n",
              "      <td>1.000000e+01</td>\n",
              "      <td>7.000000e+00</td>\n",
              "      <td>0.000000e+00</td>\n",
              "    </tr>\n",
              "    <tr>\n",
              "      <th>75%</th>\n",
              "      <td>2.000000e+00</td>\n",
              "      <td>4.016024e+01</td>\n",
              "      <td>-8.037243e+01</td>\n",
              "      <td>4.016105e+01</td>\n",
              "      <td>-8.037338e+01</td>\n",
              "      <td>7.640000e-01</td>\n",
              "      <td>9.567000e+03</td>\n",
              "      <td>7.600000e+01</td>\n",
              "      <td>7.600000e+01</td>\n",
              "      <td>8.300000e+01</td>\n",
              "      <td>3.001000e+01</td>\n",
              "      <td>1.000000e+01</td>\n",
              "      <td>1.000000e+01</td>\n",
              "      <td>0.000000e+00</td>\n",
              "    </tr>\n",
              "    <tr>\n",
              "      <th>max</th>\n",
              "      <td>4.000000e+00</td>\n",
              "      <td>4.900058e+01</td>\n",
              "      <td>-6.711317e+01</td>\n",
              "      <td>4.907500e+01</td>\n",
              "      <td>-6.710924e+01</td>\n",
              "      <td>1.551860e+02</td>\n",
              "      <td>9.999997e+06</td>\n",
              "      <td>1.960000e+02</td>\n",
              "      <td>1.960000e+02</td>\n",
              "      <td>1.000000e+02</td>\n",
              "      <td>5.890000e+01</td>\n",
              "      <td>1.400000e+02</td>\n",
              "      <td>1.087000e+03</td>\n",
              "      <td>2.400000e+01</td>\n",
              "    </tr>\n",
              "  </tbody>\n",
              "</table>\n",
              "</div>\n",
              "      <button class=\"colab-df-convert\" onclick=\"convertToInteractive('df-fb9e5515-8f96-42d0-8f1e-8f492b8442e0')\"\n",
              "              title=\"Convert this dataframe to an interactive table.\"\n",
              "              style=\"display:none;\">\n",
              "        \n",
              "  <svg xmlns=\"http://www.w3.org/2000/svg\" height=\"24px\"viewBox=\"0 0 24 24\"\n",
              "       width=\"24px\">\n",
              "    <path d=\"M0 0h24v24H0V0z\" fill=\"none\"/>\n",
              "    <path d=\"M18.56 5.44l.94 2.06.94-2.06 2.06-.94-2.06-.94-.94-2.06-.94 2.06-2.06.94zm-11 1L8.5 8.5l.94-2.06 2.06-.94-2.06-.94L8.5 2.5l-.94 2.06-2.06.94zm10 10l.94 2.06.94-2.06 2.06-.94-2.06-.94-.94-2.06-.94 2.06-2.06.94z\"/><path d=\"M17.41 7.96l-1.37-1.37c-.4-.4-.92-.59-1.43-.59-.52 0-1.04.2-1.43.59L10.3 9.45l-7.72 7.72c-.78.78-.78 2.05 0 2.83L4 21.41c.39.39.9.59 1.41.59.51 0 1.02-.2 1.41-.59l7.78-7.78 2.81-2.81c.8-.78.8-2.07 0-2.86zM5.41 20L4 18.59l7.72-7.72 1.47 1.35L5.41 20z\"/>\n",
              "  </svg>\n",
              "      </button>\n",
              "      \n",
              "  <style>\n",
              "    .colab-df-container {\n",
              "      display:flex;\n",
              "      flex-wrap:wrap;\n",
              "      gap: 12px;\n",
              "    }\n",
              "\n",
              "    .colab-df-convert {\n",
              "      background-color: #E8F0FE;\n",
              "      border: none;\n",
              "      border-radius: 50%;\n",
              "      cursor: pointer;\n",
              "      display: none;\n",
              "      fill: #1967D2;\n",
              "      height: 32px;\n",
              "      padding: 0 0 0 0;\n",
              "      width: 32px;\n",
              "    }\n",
              "\n",
              "    .colab-df-convert:hover {\n",
              "      background-color: #E2EBFA;\n",
              "      box-shadow: 0px 1px 2px rgba(60, 64, 67, 0.3), 0px 1px 3px 1px rgba(60, 64, 67, 0.15);\n",
              "      fill: #174EA6;\n",
              "    }\n",
              "\n",
              "    [theme=dark] .colab-df-convert {\n",
              "      background-color: #3B4455;\n",
              "      fill: #D2E3FC;\n",
              "    }\n",
              "\n",
              "    [theme=dark] .colab-df-convert:hover {\n",
              "      background-color: #434B5C;\n",
              "      box-shadow: 0px 1px 3px 1px rgba(0, 0, 0, 0.15);\n",
              "      filter: drop-shadow(0px 1px 2px rgba(0, 0, 0, 0.3));\n",
              "      fill: #FFFFFF;\n",
              "    }\n",
              "  </style>\n",
              "\n",
              "      <script>\n",
              "        const buttonEl =\n",
              "          document.querySelector('#df-fb9e5515-8f96-42d0-8f1e-8f492b8442e0 button.colab-df-convert');\n",
              "        buttonEl.style.display =\n",
              "          google.colab.kernel.accessAllowed ? 'block' : 'none';\n",
              "\n",
              "        async function convertToInteractive(key) {\n",
              "          const element = document.querySelector('#df-fb9e5515-8f96-42d0-8f1e-8f492b8442e0');\n",
              "          const dataTable =\n",
              "            await google.colab.kernel.invokeFunction('convertToInteractive',\n",
              "                                                     [key], {});\n",
              "          if (!dataTable) return;\n",
              "\n",
              "          const docLinkHtml = 'Like what you see? Visit the ' +\n",
              "            '<a target=\"_blank\" href=https://colab.research.google.com/notebooks/data_table.ipynb>data table notebook</a>'\n",
              "            + ' to learn more about interactive tables.';\n",
              "          element.innerHTML = '';\n",
              "          dataTable['output_type'] = 'display_data';\n",
              "          await google.colab.output.renderOutput(dataTable, element);\n",
              "          const docLink = document.createElement('div');\n",
              "          docLink.innerHTML = docLinkHtml;\n",
              "          element.appendChild(docLink);\n",
              "        }\n",
              "      </script>\n",
              "    </div>\n",
              "  </div>\n",
              "  "
            ]
          },
          "metadata": {},
          "execution_count": 13
        }
      ]
    },
    {
      "cell_type": "code",
      "source": [
        "numerics = ['int16', 'int32', 'int64', 'float16', 'float32', 'float64']\n",
        "\n",
        "numeric_df = df.select_dtypes(include=numerics)\n",
        "\n",
        "len(numeric_df.columns)\n"
      ],
      "metadata": {
        "colab": {
          "base_uri": "https://localhost:8080/"
        },
        "id": "Ns7F3l7kTdWg",
        "outputId": "beb690ab-3ab9-41fe-a053-07158618f97e"
      },
      "execution_count": 14,
      "outputs": [
        {
          "output_type": "execute_result",
          "data": {
            "text/plain": [
              "14"
            ]
          },
          "metadata": {},
          "execution_count": 14
        }
      ]
    },
    {
      "cell_type": "markdown",
      "source": [
        "# Percentage of missing values per column"
      ],
      "metadata": {
        "id": "yI4wfVgog-Re"
      }
    },
    {
      "cell_type": "code",
      "source": [
        "missing_percentages = df.isna().sum().sort_values(ascending = False) / len(df)\n",
        "missing_percentages"
      ],
      "metadata": {
        "id": "berXFZggQvXI",
        "colab": {
          "base_uri": "https://localhost:8080/"
        },
        "outputId": "c72eb9fa-d019-4e75-919a-df87d8b1ffdb"
      },
      "execution_count": 15,
      "outputs": [
        {
          "output_type": "execute_result",
          "data": {
            "text/plain": [
              "Number                   6.129003e-01\n",
              "Precipitation(in)        1.931079e-01\n",
              "Wind_Chill(F)            1.650568e-01\n",
              "Wind_Speed(mph)          5.550967e-02\n",
              "Wind_Direction           2.592834e-02\n",
              "Humidity(%)              2.568830e-02\n",
              "Weather_Condition        2.482514e-02\n",
              "Visibility(mi)           2.479350e-02\n",
              "Temperature(F)           2.434646e-02\n",
              "Pressure(in)             2.080593e-02\n",
              "Weather_Timestamp        1.783125e-02\n",
              "Airport_Code             3.356011e-03\n",
              "Timezone                 1.285961e-03\n",
              "Nautical_Twilight        1.007612e-03\n",
              "Civil_Twilight           1.007612e-03\n",
              "Sunrise_Sunset           1.007612e-03\n",
              "Astronomical_Twilight    1.007612e-03\n",
              "Zipcode                  4.635647e-04\n",
              "City                     4.814887e-05\n",
              "Street                   7.029032e-07\n",
              "Country                  0.000000e+00\n",
              "Junction                 0.000000e+00\n",
              "Start_Time               0.000000e+00\n",
              "End_Time                 0.000000e+00\n",
              "Start_Lat                0.000000e+00\n",
              "Turning_Loop             0.000000e+00\n",
              "Traffic_Signal           0.000000e+00\n",
              "Traffic_Calming          0.000000e+00\n",
              "Stop                     0.000000e+00\n",
              "Station                  0.000000e+00\n",
              "Roundabout               0.000000e+00\n",
              "Railway                  0.000000e+00\n",
              "No_Exit                  0.000000e+00\n",
              "Crossing                 0.000000e+00\n",
              "Give_Way                 0.000000e+00\n",
              "Bump                     0.000000e+00\n",
              "Amenity                  0.000000e+00\n",
              "Start_Lng                0.000000e+00\n",
              "End_Lat                  0.000000e+00\n",
              "End_Lng                  0.000000e+00\n",
              "Distance(mi)             0.000000e+00\n",
              "Description              0.000000e+00\n",
              "Severity                 0.000000e+00\n",
              "Side                     0.000000e+00\n",
              "County                   0.000000e+00\n",
              "State                    0.000000e+00\n",
              "ID                       0.000000e+00\n",
              "dtype: float64"
            ]
          },
          "metadata": {},
          "execution_count": 15
        }
      ]
    },
    {
      "cell_type": "code",
      "source": [
        "missing_percentages[missing_percentages != 0].plot(kind = 'barh')"
      ],
      "metadata": {
        "colab": {
          "base_uri": "https://localhost:8080/",
          "height": 282
        },
        "id": "vyM04RwDQ6AS",
        "outputId": "a42fd5f1-c995-45ba-b489-762d747af86f"
      },
      "execution_count": 16,
      "outputs": [
        {
          "output_type": "execute_result",
          "data": {
            "text/plain": [
              "<matplotlib.axes._subplots.AxesSubplot at 0x7f95e2178220>"
            ]
          },
          "metadata": {},
          "execution_count": 16
        },
        {
          "output_type": "display_data",
          "data": {
            "text/plain": [
              "<Figure size 432x288 with 1 Axes>"
            ],
            "image/png": "[encoded data removed]"
          },
          "metadata": {}
        }
      ]
    },
    {
      "cell_type": "code",
      "source": [
        "# Removing columns with most missing values (Optional)"
      ],
      "metadata": {
        "id": "v4mJ7HKUQyIY"
      },
      "execution_count": null,
      "outputs": []
    },
    {
      "cell_type": "markdown",
      "source": [
        "# Exploratory Data Analysis and Visualization\n",
        "\n",
        "1. Columns we will analayse : \n",
        "  1. City\n",
        "  2. Start lat, Start Lon\n",
        "  3. Start time\n",
        "  4. Temprature \n",
        "  5. Weather Condition\n",
        "  \n"
      ],
      "metadata": {
        "id": "fJ9wUDqJTVxo"
      }
    },
    {
      "cell_type": "code",
      "source": [
        "df.columns"
      ],
      "metadata": {
        "colab": {
          "base_uri": "https://localhost:8080/"
        },
        "id": "-KUrjK4nTU6D",
        "outputId": "3360a27a-6c31-4b3b-df8f-c577ae9b3794"
      },
      "execution_count": 17,
      "outputs": [
        {
          "output_type": "execute_result",
          "data": {
            "text/plain": [
              "Index(['ID', 'Severity', 'Start_Time', 'End_Time', 'Start_Lat', 'Start_Lng',\n",
              "       'End_Lat', 'End_Lng', 'Distance(mi)', 'Description', 'Number', 'Street',\n",
              "       'Side', 'City', 'County', 'State', 'Zipcode', 'Country', 'Timezone',\n",
              "       'Airport_Code', 'Weather_Timestamp', 'Temperature(F)', 'Wind_Chill(F)',\n",
              "       'Humidity(%)', 'Pressure(in)', 'Visibility(mi)', 'Wind_Direction',\n",
              "       'Wind_Speed(mph)', 'Precipitation(in)', 'Weather_Condition', 'Amenity',\n",
              "       'Bump', 'Crossing', 'Give_Way', 'Junction', 'No_Exit', 'Railway',\n",
              "       'Roundabout', 'Station', 'Stop', 'Traffic_Calming', 'Traffic_Signal',\n",
              "       'Turning_Loop', 'Sunrise_Sunset', 'Civil_Twilight', 'Nautical_Twilight',\n",
              "       'Astronomical_Twilight'],\n",
              "      dtype='object')"
            ]
          },
          "metadata": {},
          "execution_count": 17
        }
      ]
    },
    {
      "cell_type": "code",
      "source": [
        "df.City"
      ],
      "metadata": {
        "colab": {
          "base_uri": "https://localhost:8080/"
        },
        "id": "dRtPXsoWTCtx",
        "outputId": "ccce57ad-1a10-442f-c384-66cb7a484e8d"
      },
      "execution_count": 18,
      "outputs": [
        {
          "output_type": "execute_result",
          "data": {
            "text/plain": [
              "0               Dublin\n",
              "1               Dayton\n",
              "2           Cincinnati\n",
              "3                Akron\n",
              "4           Cincinnati\n",
              "              ...     \n",
              "2845337      Riverside\n",
              "2845338      San Diego\n",
              "2845339         Orange\n",
              "2845340    Culver City\n",
              "2845341       Highland\n",
              "Name: City, Length: 2845342, dtype: object"
            ]
          },
          "metadata": {},
          "execution_count": 18
        }
      ]
    },
    {
      "cell_type": "code",
      "source": [
        "cities = df.City.unique()\n",
        "len(cities)"
      ],
      "metadata": {
        "id": "cwEo-GtJQyDg",
        "colab": {
          "base_uri": "https://localhost:8080/"
        },
        "outputId": "7f7ac313-1557-4d25-c130-1c0fcd2c4e8e"
      },
      "execution_count": 19,
      "outputs": [
        {
          "output_type": "execute_result",
          "data": {
            "text/plain": [
              "11682"
            ]
          },
          "metadata": {},
          "execution_count": 19
        }
      ]
    },
    {
      "cell_type": "code",
      "source": [
        "cities_by_accidents = df.City.value_counts()\n",
        "cities_by_accidents"
      ],
      "metadata": {
        "id": "zDHDG66FQx9o",
        "colab": {
          "base_uri": "https://localhost:8080/"
        },
        "outputId": "bb914ea0-9d01-475a-fa1c-72b939846d0d"
      },
      "execution_count": 20,
      "outputs": [
        {
          "output_type": "execute_result",
          "data": {
            "text/plain": [
              "Miami                           106966\n",
              "Los Angeles                      68956\n",
              "Orlando                          54691\n",
              "Dallas                           41979\n",
              "Houston                          39448\n",
              "                                 ...  \n",
              "Ridgedale                            1\n",
              "Sekiu                                1\n",
              "Wooldridge                           1\n",
              "Bullock                              1\n",
              "American Fork-Pleasant Grove         1\n",
              "Name: City, Length: 11681, dtype: int64"
            ]
          },
          "metadata": {},
          "execution_count": 20
        }
      ]
    },
    {
      "cell_type": "code",
      "source": [
        "cities_by_accidents[:20]"
      ],
      "metadata": {
        "colab": {
          "base_uri": "https://localhost:8080/"
        },
        "id": "Z5w2xqU2aKfO",
        "outputId": "5fdf472d-8550-4ce5-a025-8f7603b0f2e5"
      },
      "execution_count": 21,
      "outputs": [
        {
          "output_type": "execute_result",
          "data": {
            "text/plain": [
              "Miami           106966\n",
              "Los Angeles      68956\n",
              "Orlando          54691\n",
              "Dallas           41979\n",
              "Houston          39448\n",
              "Charlotte        33152\n",
              "Sacramento       32559\n",
              "San Diego        26627\n",
              "Raleigh          22840\n",
              "Minneapolis      22768\n",
              "Portland         20944\n",
              "Nashville        20267\n",
              "Austin           18301\n",
              "Baton Rouge      18182\n",
              "Phoenix          17143\n",
              "Saint Paul       16869\n",
              "New Orleans      16251\n",
              "Atlanta          15622\n",
              "Jacksonville     14967\n",
              "Richmond         14349\n",
              "Name: City, dtype: int64"
            ]
          },
          "metadata": {},
          "execution_count": 21
        }
      ]
    },
    {
      "cell_type": "code",
      "source": [
        "'New York' in df.City\n",
        "'NY' in df.State\n",
        "# it means data for NY is not present in the data."
      ],
      "metadata": {
        "colab": {
          "base_uri": "https://localhost:8080/"
        },
        "id": "Q938tBlzartO",
        "outputId": "cf3f5e95-811d-42a5-ec90-65b2058ae31d"
      },
      "execution_count": 22,
      "outputs": [
        {
          "output_type": "execute_result",
          "data": {
            "text/plain": [
              "False"
            ]
          },
          "metadata": {},
          "execution_count": 22
        }
      ]
    },
    {
      "cell_type": "code",
      "source": [
        "cities_by_accidents[:20].plot(kind='barh')"
      ],
      "metadata": {
        "colab": {
          "base_uri": "https://localhost:8080/",
          "height": 282
        },
        "id": "oZlVX78JccBX",
        "outputId": "a9fa6d09-0370-4cb4-ec80-1d2addb4d18f"
      },
      "execution_count": 23,
      "outputs": [
        {
          "output_type": "execute_result",
          "data": {
            "text/plain": [
              "<matplotlib.axes._subplots.AxesSubplot at 0x7f95e2073b20>"
            ]
          },
          "metadata": {},
          "execution_count": 23
        },
        {
          "output_type": "display_data",
          "data": {
            "text/plain": [
              "<Figure size 432x288 with 1 Axes>"
            ],
            "image/png": "[encoded data removed]"
          },
          "metadata": {}
        }
      ]
    },
    {
      "cell_type": "code",
      "source": [
        "import seaborn as sns\n",
        "sns.set_style('darkgrid')"
      ],
      "metadata": {
        "id": "T3fa5GFJQx6Y"
      },
      "execution_count": 6,
      "outputs": []
    },
    {
      "cell_type": "code",
      "source": [
        "sns.histplot(cities_by_accidents, log_scale = True)\n",
        "\n",
        "# plot shows most cities have less than 2.5k accidents approx"
      ],
      "metadata": {
        "id": "Iq_CATRQQ0RT",
        "colab": {
          "base_uri": "https://localhost:8080/",
          "height": 300
        },
        "outputId": "bc335505-bc51-471c-fef4-96ddf7f5d397"
      },
      "execution_count": 24,
      "outputs": [
        {
          "output_type": "execute_result",
          "data": {
            "text/plain": [
              "<matplotlib.axes._subplots.AxesSubplot at 0x7f95e20739d0>"
            ]
          },
          "metadata": {},
          "execution_count": 24
        },
        {
          "output_type": "display_data",
          "data": {
            "text/plain": [
              "<Figure size 432x288 with 1 Axes>"
            ],
            "image/png": "[encoded data removed]"
          },
          "metadata": {}
        }
      ]
    },
    {
      "cell_type": "code",
      "source": [
        "high_accident_cities = cities_by_accidents[cities_by_accidents >= 1000]\n",
        "low_accident_cities = cities_by_accidents[cities_by_accidents < 1000]"
      ],
      "metadata": {
        "id": "bSVcRsHHQ0N-"
      },
      "execution_count": 25,
      "outputs": []
    },
    {
      "cell_type": "code",
      "source": [
        "len(high_accident_cities) / len(cities) * 100"
      ],
      "metadata": {
        "colab": {
          "base_uri": "https://localhost:8080/"
        },
        "id": "0ywI5qBEg--W",
        "outputId": "8b534739-cab3-4c4e-c1d9-1dd3580ddf97"
      },
      "execution_count": 26,
      "outputs": [
        {
          "output_type": "execute_result",
          "data": {
            "text/plain": [
              "4.245848313644924"
            ]
          },
          "metadata": {},
          "execution_count": 26
        }
      ]
    },
    {
      "cell_type": "code",
      "source": [
        "sns.distplot(high_accident_cities)"
      ],
      "metadata": {
        "colab": {
          "base_uri": "https://localhost:8080/",
          "height": 351
        },
        "id": "ExiuGX18g-7A",
        "outputId": "7d0f242e-c191-4e2e-a2a8-e7edb47f2afd"
      },
      "execution_count": 27,
      "outputs": [
        {
          "output_type": "stream",
          "name": "stderr",
          "text": [
            "/usr/local/lib/python3.8/dist-packages/seaborn/distributions.py:2619: FutureWarning: `distplot` is a deprecated function and will be removed in a future version. Please adapt your code to use either `displot` (a figure-level function with similar flexibility) or `histplot` (an axes-level function for histograms).\n",
            "  warnings.warn(msg, FutureWarning)\n"
          ]
        },
        {
          "output_type": "execute_result",
          "data": {
            "text/plain": [
              "<matplotlib.axes._subplots.AxesSubplot at 0x7f95e18e5070>"
            ]
          },
          "metadata": {},
          "execution_count": 27
        },
        {
          "output_type": "display_data",
          "data": {
            "text/plain": [
              "<Figure size 432x288 with 1 Axes>"
            ],
            "image/png": "[encoded data removed]"
          },
          "metadata": {}
        }
      ]
    },
    {
      "cell_type": "code",
      "source": [
        "sns.distplot(low_accident_cities)"
      ],
      "metadata": {
        "colab": {
          "base_uri": "https://localhost:8080/",
          "height": 351
        },
        "id": "YMVRHVLPg-4b",
        "outputId": "a5b18948-0216-444d-93f5-7184e486b680"
      },
      "execution_count": 28,
      "outputs": [
        {
          "output_type": "stream",
          "name": "stderr",
          "text": [
            "/usr/local/lib/python3.8/dist-packages/seaborn/distributions.py:2619: FutureWarning: `distplot` is a deprecated function and will be removed in a future version. Please adapt your code to use either `displot` (a figure-level function with similar flexibility) or `histplot` (an axes-level function for histograms).\n",
            "  warnings.warn(msg, FutureWarning)\n"
          ]
        },
        {
          "output_type": "execute_result",
          "data": {
            "text/plain": [
              "<matplotlib.axes._subplots.AxesSubplot at 0x7f95df778e50>"
            ]
          },
          "metadata": {},
          "execution_count": 28
        },
        {
          "output_type": "display_data",
          "data": {
            "text/plain": [
              "<Figure size 432x288 with 1 Axes>"
            ],
            "image/png": "[encoded data removed]"
          },
          "metadata": {}
        }
      ]
    },
    {
      "cell_type": "code",
      "source": [
        "cities_by_accidents[cities_by_accidents == 1]\n",
        "# over 1100 cites have accidents reported is 1"
      ],
      "metadata": {
        "colab": {
          "base_uri": "https://localhost:8080/"
        },
        "id": "zuNIVIEkg-12",
        "outputId": "8f082dff-d7e1-42ec-8d08-438cc5c48a4c"
      },
      "execution_count": 29,
      "outputs": [
        {
          "output_type": "execute_result",
          "data": {
            "text/plain": [
              "Carney                          1\n",
              "Waverly Hall                    1\n",
              "Center Sandwich                 1\n",
              "Glen Flora                      1\n",
              "Sulphur Springs                 1\n",
              "                               ..\n",
              "Ridgedale                       1\n",
              "Sekiu                           1\n",
              "Wooldridge                      1\n",
              "Bullock                         1\n",
              "American Fork-Pleasant Grove    1\n",
              "Name: City, Length: 1110, dtype: int64"
            ]
          },
          "metadata": {},
          "execution_count": 29
        }
      ]
    },
    {
      "cell_type": "markdown",
      "source": [
        "## Column : Start_time"
      ],
      "metadata": {
        "id": "8__aPfSHmo05"
      }
    },
    {
      "cell_type": "code",
      "source": [
        "df.Start_Time[:5]"
      ],
      "metadata": {
        "id": "oxUCUgFbg-y5",
        "colab": {
          "base_uri": "https://localhost:8080/"
        },
        "outputId": "9d3c6025-c630-4be7-cc86-e0b3ba6c4b94"
      },
      "execution_count": 30,
      "outputs": [
        {
          "output_type": "execute_result",
          "data": {
            "text/plain": [
              "0    2016-02-08 00:37:08\n",
              "1    2016-02-08 05:56:20\n",
              "2    2016-02-08 06:15:39\n",
              "3    2016-02-08 06:51:45\n",
              "4    2016-02-08 07:53:43\n",
              "Name: Start_Time, dtype: object"
            ]
          },
          "metadata": {},
          "execution_count": 30
        }
      ]
    },
    {
      "cell_type": "code",
      "source": [
        "df.Start_Time = pd.to_datetime(df.Start_Time)\n",
        "df.Start_Time[5].hour"
      ],
      "metadata": {
        "id": "dyTuQutjg-wL",
        "colab": {
          "base_uri": "https://localhost:8080/"
        },
        "outputId": "0d3f1a9e-cd23-4aef-e0d0-f2fc4eb7ed77"
      },
      "execution_count": 31,
      "outputs": [
        {
          "output_type": "execute_result",
          "data": {
            "text/plain": [
              "8"
            ]
          },
          "metadata": {},
          "execution_count": 31
        }
      ]
    },
    {
      "cell_type": "code",
      "source": [
        "df.Start_Time.dt.hour"
      ],
      "metadata": {
        "id": "62ivWYK8g-tS",
        "colab": {
          "base_uri": "https://localhost:8080/"
        },
        "outputId": "4706d916-0a31-4572-fe43-0caa17ae86a7"
      },
      "execution_count": 32,
      "outputs": [
        {
          "output_type": "execute_result",
          "data": {
            "text/plain": [
              "0           0\n",
              "1           5\n",
              "2           6\n",
              "3           6\n",
              "4           7\n",
              "           ..\n",
              "2845337    18\n",
              "2845338    19\n",
              "2845339    19\n",
              "2845340    19\n",
              "2845341    18\n",
              "Name: Start_Time, Length: 2845342, dtype: int64"
            ]
          },
          "metadata": {},
          "execution_count": 32
        }
      ]
    },
    {
      "cell_type": "code",
      "source": [
        "sns.distplot(df.Start_Time.dt.hour, bins=24, kde= False, norm_hist = True)"
      ],
      "metadata": {
        "id": "_9l5Awo7mn_i",
        "colab": {
          "base_uri": "https://localhost:8080/",
          "height": 352
        },
        "outputId": "905a2711-4a77-48fe-c795-55b225d5af3c"
      },
      "execution_count": 33,
      "outputs": [
        {
          "output_type": "stream",
          "name": "stderr",
          "text": [
            "/usr/local/lib/python3.8/dist-packages/seaborn/distributions.py:2619: FutureWarning: `distplot` is a deprecated function and will be removed in a future version. Please adapt your code to use either `displot` (a figure-level function with similar flexibility) or `histplot` (an axes-level function for histograms).\n",
            "  warnings.warn(msg, FutureWarning)\n"
          ]
        },
        {
          "output_type": "execute_result",
          "data": {
            "text/plain": [
              "<matplotlib.axes._subplots.AxesSubplot at 0x7f95e21f3d00>"
            ]
          },
          "metadata": {},
          "execution_count": 33
        },
        {
          "output_type": "display_data",
          "data": {
            "text/plain": [
              "<Figure size 432x288 with 1 Axes>"
            ],
            "image/png": "[encoded data removed]"
          },
          "metadata": {}
        }
      ]
    },
    {
      "cell_type": "markdown",
      "source": [
        "- High percantage of accident occur between 3 to 5 pm"
      ],
      "metadata": {
        "id": "gArTF-NHegax"
      }
    },
    {
      "cell_type": "code",
      "source": [
        "sns.distplot(df.Start_Time.dt.dayofweek, bins=7, kde= False, norm_hist = True)"
      ],
      "metadata": {
        "id": "rellY0UImn8F",
        "colab": {
          "base_uri": "https://localhost:8080/",
          "height": 297
        },
        "outputId": "7cdebf5a-2d05-45cb-8de0-7ee6a7b627ed"
      },
      "execution_count": 34,
      "outputs": [
        {
          "output_type": "execute_result",
          "data": {
            "text/plain": [
              "<matplotlib.axes._subplots.AxesSubplot at 0x7f95dce5ffd0>"
            ]
          },
          "metadata": {},
          "execution_count": 34
        },
        {
          "output_type": "display_data",
          "data": {
            "text/plain": [
              "<Figure size 432x288 with 1 Axes>"
            ],
            "image/png": "[encoded data removed]"
          },
          "metadata": {}
        }
      ]
    },
    {
      "cell_type": "markdown",
      "source": [
        "- On X Axis we have 0 - 1 where 0 is Monday and so on till Sunday"
      ],
      "metadata": {
        "id": "Smtp7YVuhHh0"
      }
    },
    {
      "cell_type": "markdown",
      "source": [
        "### Q. Is the distribution of accidents on weekends same as the weekdays"
      ],
      "metadata": {
        "id": "ktmyg957hgA7"
      }
    },
    {
      "cell_type": "code",
      "source": [
        "sundays_start_time = df.Start_Time[df.Start_Time.dt.dayofweek == 6]"
      ],
      "metadata": {
        "id": "NDgJfvDnmn5m"
      },
      "execution_count": 35,
      "outputs": []
    },
    {
      "cell_type": "code",
      "source": [
        "sns.distplot(sundays_start_time.dt.hour,bins = 24, kde= False, norm_hist = True)"
      ],
      "metadata": {
        "id": "R2zWv_1Gg-qm",
        "colab": {
          "base_uri": "https://localhost:8080/",
          "height": 297
        },
        "outputId": "cb2810d6-8382-4f5b-f9b2-bc7fd8cf8770"
      },
      "execution_count": 36,
      "outputs": [
        {
          "output_type": "execute_result",
          "data": {
            "text/plain": [
              "<matplotlib.axes._subplots.AxesSubplot at 0x7f95df78c970>"
            ]
          },
          "metadata": {},
          "execution_count": 36
        },
        {
          "output_type": "display_data",
          "data": {
            "text/plain": [
              "<Figure size 432x288 with 1 Axes>"
            ],
            "image/png": "[encoded data removed]"
          },
          "metadata": {}
        }
      ]
    },
    {
      "cell_type": "code",
      "source": [
        "mondays_start_time = df.Start_Time[df.Start_Time.dt.dayofweek == 2]\n",
        "sns.distplot(mondays_start_time.dt.hour,bins = 24, kde= False, norm_hist = True)"
      ],
      "metadata": {
        "colab": {
          "base_uri": "https://localhost:8080/",
          "height": 297
        },
        "id": "kb_NSV6revjc",
        "outputId": "44568ee9-15ef-4b24-f99e-404e9fd351e5"
      },
      "execution_count": 41,
      "outputs": [
        {
          "output_type": "execute_result",
          "data": {
            "text/plain": [
              "<matplotlib.axes._subplots.AxesSubplot at 0x7f95dcb33460>"
            ]
          },
          "metadata": {},
          "execution_count": 41
        },
        {
          "output_type": "display_data",
          "data": {
            "text/plain": [
              "<Figure size 432x288 with 1 Axes>"
            ],
            "image/png": "[encoded data removed]"
          },
          "metadata": {}
        }
      ]
    },
    {
      "cell_type": "markdown",
      "source": [
        "On sundays the peak accidents occur between 10am to 5 pm unlike weekdays"
      ],
      "metadata": {
        "id": "RErF-a8IgpIA"
      }
    },
    {
      "cell_type": "code",
      "source": [
        "sns.distplot(df.Start_Time.dt.month,bins = 12, kde= False, norm_hist = True)"
      ],
      "metadata": {
        "id": "KBoviV3bg-fT",
        "colab": {
          "base_uri": "https://localhost:8080/",
          "height": 352
        },
        "outputId": "d1a29090-5312-4801-b2ca-55e7df949742"
      },
      "execution_count": 43,
      "outputs": [
        {
          "output_type": "stream",
          "name": "stderr",
          "text": [
            "/usr/local/lib/python3.8/dist-packages/seaborn/distributions.py:2619: FutureWarning: `distplot` is a deprecated function and will be removed in a future version. Please adapt your code to use either `displot` (a figure-level function with similar flexibility) or `histplot` (an axes-level function for histograms).\n",
            "  warnings.warn(msg, FutureWarning)\n"
          ]
        },
        {
          "output_type": "execute_result",
          "data": {
            "text/plain": [
              "<matplotlib.axes._subplots.AxesSubplot at 0x7f95dc01e340>"
            ]
          },
          "metadata": {},
          "execution_count": 43
        },
        {
          "output_type": "display_data",
          "data": {
            "text/plain": [
              "<Figure size 432x288 with 1 Axes>"
            ],
            "image/png": "[encoded data removed]"
          },
          "metadata": {}
        }
      ]
    },
    {
      "cell_type": "markdown",
      "source": [
        "Month wise trend shows max accidents to occur during year end mostly November December maybe due to snowfall or weather condition"
      ],
      "metadata": {
        "id": "UHuhd_5I5AKX"
      }
    },
    {
      "cell_type": "code",
      "source": [
        "df.Weather_Condition.value_counts().plot(kind='pie')"
      ],
      "metadata": {
        "colab": {
          "base_uri": "https://localhost:8080/",
          "height": 265
        },
        "id": "mMJ7PCdme4hh",
        "outputId": "54745d04-fc4b-4896-869a-8ed679fe482d"
      },
      "execution_count": 52,
      "outputs": [
        {
          "output_type": "execute_result",
          "data": {
            "text/plain": [
              "<matplotlib.axes._subplots.AxesSubplot at 0x7f95dbbc7160>"
            ]
          },
          "metadata": {},
          "execution_count": 52
        },
        {
          "output_type": "display_data",
          "data": {
            "text/plain": [
              "<Figure size 432x288 with 1 Axes>"
            ],
            "image/png": "[encoded data removed]"
          },
          "metadata": {}
        }
      ]
    },
    {
      "cell_type": "markdown",
      "source": [
        "# Start Longitude & Start Latitude"
      ],
      "metadata": {
        "id": "gujo5b8dIK4u"
      }
    },
    {
      "cell_type": "code",
      "source": [
        "df.Start_Lat, df.Start_Lng"
      ],
      "metadata": {
        "id": "PVbDQjt6Q0Ko",
        "colab": {
          "base_uri": "https://localhost:8080/"
        },
        "outputId": "26111512-73cd-4b3d-a21c-d04c4762ebf3"
      },
      "execution_count": 54,
      "outputs": [
        {
          "output_type": "execute_result",
          "data": {
            "text/plain": [
              "(0          40.108910\n",
              " 1          39.865420\n",
              " 2          39.102660\n",
              " 3          41.062130\n",
              " 4          39.172393\n",
              "              ...    \n",
              " 2845337    34.002480\n",
              " 2845338    32.766960\n",
              " 2845339    33.775450\n",
              " 2845340    33.992460\n",
              " 2845341    34.133930\n",
              " Name: Start_Lat, Length: 2845342, dtype: float64, 0          -83.092860\n",
              " 1          -84.062800\n",
              " 2          -84.524680\n",
              " 3          -81.537840\n",
              " 4          -84.492792\n",
              "               ...    \n",
              " 2845337   -117.379360\n",
              " 2845338   -117.148060\n",
              " 2845339   -117.847790\n",
              " 2845340   -118.403020\n",
              " 2845341   -117.230920\n",
              " Name: Start_Lng, Length: 2845342, dtype: float64)"
            ]
          },
          "metadata": {},
          "execution_count": 54
        }
      ]
    },
    {
      "cell_type": "code",
      "source": [
        "sns.scatterplot(x=df.Start_Lng,y=df.Start_Lat)"
      ],
      "metadata": {
        "colab": {
          "base_uri": "https://localhost:8080/",
          "height": 299
        },
        "id": "nakG8D4wIhaw",
        "outputId": "1d0fd7ac-0ef2-4477-f11e-68d37880dfe5"
      },
      "execution_count": 57,
      "outputs": [
        {
          "output_type": "execute_result",
          "data": {
            "text/plain": [
              "<matplotlib.axes._subplots.AxesSubplot at 0x7f95dc0010d0>"
            ]
          },
          "metadata": {},
          "execution_count": 57
        },
        {
          "output_type": "display_data",
          "data": {
            "text/plain": [
              "<Figure size 432x288 with 1 Axes>"
            ],
            "image/png": "[encoded data removed]"
          },
          "metadata": {}
        }
      ]
    },
    {
      "cell_type": "code",
      "source": [
        "sample_df = df.sample(int(0.1 * len(df)))\n",
        "sns.scatterplot(x=sample_df.Start_Lng,y=sample_df.Start_Lat, size =0.001)"
      ],
      "metadata": {
        "colab": {
          "base_uri": "https://localhost:8080/",
          "height": 299
        },
        "id": "w7i3SuA7IhQi",
        "outputId": "ea51b9dc-1aca-4ba4-f61e-a6b3bb07bfe7"
      },
      "execution_count": 59,
      "outputs": [
        {
          "output_type": "execute_result",
          "data": {
            "text/plain": [
              "<matplotlib.axes._subplots.AxesSubplot at 0x7f95da11cf40>"
            ]
          },
          "metadata": {},
          "execution_count": 59
        },
        {
          "output_type": "display_data",
          "data": {
            "text/plain": [
              "<Figure size 432x288 with 1 Axes>"
            ],
            "image/png": "[encoded data removed]"
          },
          "metadata": {}
        }
      ]
    },
    {
      "cell_type": "code",
      "source": [
        "import folium"
      ],
      "metadata": {
        "id": "5WAZHE5QIhJW"
      },
      "execution_count": 60,
      "outputs": []
    },
    {
      "cell_type": "code",
      "source": [
        "lat, lon = df.Start_Lat[0], df.Start_Lng[0]\n",
        "lat,lon"
      ],
      "metadata": {
        "colab": {
          "base_uri": "https://localhost:8080/"
        },
        "id": "3rIIpiE1aDK7",
        "outputId": "115edfb8-a076-4a1c-e939-7be385c007d0"
      },
      "execution_count": 68,
      "outputs": [
        {
          "output_type": "execute_result",
          "data": {
            "text/plain": [
              "(40.10891, -83.09286)"
            ]
          },
          "metadata": {},
          "execution_count": 68
        }
      ]
    },
    {
      "cell_type": "code",
      "source": [
        "map = folium.Map()\n",
        "for lat,lon in \n",
        "marker = folium.Marker((lat,lon))\n",
        "marker.add_to(map)\n",
        "map"
      ],
      "metadata": {
        "id": "dXEXagONQ0G_",
        "colab": {
          "base_uri": "https://localhost:8080/",
          "height": 866
        },
        "outputId": "779dd278-34dc-4670-8f9f-42b696158888"
      },
      "execution_count": 69,
      "outputs": [
        {
          "output_type": "execute_result",
          "data": {
            "text/plain": [
              "<folium.folium.Map at 0x7f95d81c86a0>"
            ],
            "text/html": [
              "<div style=\"width:100%;\"><div style=\"position:relative;width:100%;height:0;padding-bottom:60%;\"><span style=\"color:#565656\">Make this Notebook Trusted to load map: File -> Trust Notebook</span><iframe srcdoc=\"&lt;!DOCTYPE html&gt;\n",
              "&lt;html&gt;\n",
              "&lt;head&gt;\n",
              "    \n",
              "    &lt;meta http-equiv=&quot;content-type&quot; content=&quot;text/html; charset=UTF-8&quot; /&gt;\n",
              "    \n",
              "        &lt;script&gt;\n",
              "            L_NO_TOUCH = false;\n",
              "            L_DISABLE_3D = false;\n",
              "        &lt;/script&gt;\n",
              "    \n",
              "    &lt;style&gt;html, body {width: 100%;height: 100%;margin: 0;padding: 0;}&lt;/style&gt;\n",
              "    &lt;style&gt;#map {position:absolute;top:0;bottom:0;right:0;left:0;}&lt;/style&gt;\n",
              "    &lt;script src=&quot;https://cdn.jsdelivr.net/npm/leaflet@1.6.0/dist/leaflet.js&quot;&gt;&lt;/script&gt;\n",
              "    &lt;script src=&quot;https://code.jquery.com/jquery-1.12.4.min.js&quot;&gt;&lt;/script&gt;\n",
              "    &lt;script src=&quot;https://maxcdn.bootstrapcdn.com/bootstrap/3.2.0/js/bootstrap.min.js&quot;&gt;&lt;/script&gt;\n",
              "    &lt;script src=&quot;https://cdnjs.cloudflare.com/ajax/libs/Leaflet.awesome-markers/2.0.2/leaflet.awesome-markers.js&quot;&gt;&lt;/script&gt;\n",
              "    &lt;link rel=&quot;stylesheet&quot; href=&quot;https://cdn.jsdelivr.net/npm/leaflet@1.6.0/dist/leaflet.css&quot;/&gt;\n",
              "    &lt;link rel=&quot;stylesheet&quot; href=&quot;https://maxcdn.bootstrapcdn.com/bootstrap/3.2.0/css/bootstrap.min.css&quot;/&gt;\n",
              "    &lt;link rel=&quot;stylesheet&quot; href=&quot;https://maxcdn.bootstrapcdn.com/bootstrap/3.2.0/css/bootstrap-theme.min.css&quot;/&gt;\n",
              "    &lt;link rel=&quot;stylesheet&quot; href=&quot;https://maxcdn.bootstrapcdn.com/font-awesome/4.6.3/css/font-awesome.min.css&quot;/&gt;\n",
              "    &lt;link rel=&quot;stylesheet&quot; href=&quot;https://cdnjs.cloudflare.com/ajax/libs/Leaflet.awesome-markers/2.0.2/leaflet.awesome-markers.css&quot;/&gt;\n",
              "    &lt;link rel=&quot;stylesheet&quot; href=&quot;https://cdn.jsdelivr.net/gh/python-visualization/folium/folium/templates/leaflet.awesome.rotate.min.css&quot;/&gt;\n",
              "    \n",
              "            &lt;meta name=&quot;viewport&quot; content=&quot;width=device-width,\n",
              "                initial-scale=1.0, maximum-scale=1.0, user-scalable=no&quot; /&gt;\n",
              "            &lt;style&gt;\n",
              "                #map_73554523813a673247842beca40e5f93 {\n",
              "                    position: relative;\n",
              "                    width: 100.0%;\n",
              "                    height: 100.0%;\n",
              "                    left: 0.0%;\n",
              "                    top: 0.0%;\n",
              "                }\n",
              "            &lt;/style&gt;\n",
              "        \n",
              "&lt;/head&gt;\n",
              "&lt;body&gt;\n",
              "    \n",
              "    \n",
              "            &lt;div class=&quot;folium-map&quot; id=&quot;map_73554523813a673247842beca40e5f93&quot; &gt;&lt;/div&gt;\n",
              "        \n",
              "&lt;/body&gt;\n",
              "&lt;script&gt;\n",
              "    \n",
              "    \n",
              "            var map_73554523813a673247842beca40e5f93 = L.map(\n",
              "                &quot;map_73554523813a673247842beca40e5f93&quot;,\n",
              "                {\n",
              "                    center: [0, 0],\n",
              "                    crs: L.CRS.EPSG3857,\n",
              "                    zoom: 1,\n",
              "                    zoomControl: true,\n",
              "                    preferCanvas: false,\n",
              "                }\n",
              "            );\n",
              "\n",
              "            \n",
              "\n",
              "        \n",
              "    \n",
              "            var tile_layer_f22b2018539e10acc493671cd4736100 = L.tileLayer(\n",
              "                &quot;https://{s}.tile.openstreetmap.org/{z}/{x}/{y}.png&quot;,\n",
              "                {&quot;attribution&quot;: &quot;Data by \\u0026copy; \\u003ca href=\\&quot;http://openstreetmap.org\\&quot;\\u003eOpenStreetMap\\u003c/a\\u003e, under \\u003ca href=\\&quot;http://www.openstreetmap.org/copyright\\&quot;\\u003eODbL\\u003c/a\\u003e.&quot;, &quot;detectRetina&quot;: false, &quot;maxNativeZoom&quot;: 18, &quot;maxZoom&quot;: 18, &quot;minZoom&quot;: 0, &quot;noWrap&quot;: false, &quot;opacity&quot;: 1, &quot;subdomains&quot;: &quot;abc&quot;, &quot;tms&quot;: false}\n",
              "            ).addTo(map_73554523813a673247842beca40e5f93);\n",
              "        \n",
              "    \n",
              "            var marker_b6e9fb820e2077292d9fc3144ef85251 = L.marker(\n",
              "                [40.10891, -83.09286],\n",
              "                {}\n",
              "            ).addTo(map_73554523813a673247842beca40e5f93);\n",
              "        \n",
              "&lt;/script&gt;\n",
              "&lt;/html&gt;\" style=\"position:absolute;width:100%;height:100%;left:0;top:0;border:none !important;\" allowfullscreen webkitallowfullscreen mozallowfullscreen></iframe></div></div>"
            ]
          },
          "metadata": {},
          "execution_count": 69
        }
      ]
    },
    {
      "cell_type": "code",
      "source": [
        "for x in df[['Start_Lat','Start_Lng']].sample(100).iteritems():\n",
        "  print(x.Start_Lat,x.Start_Lng)"
      ],
      "metadata": {
        "colab": {
          "base_uri": "https://localhost:8080/",
          "height": 182
        },
        "id": "NZWkgIwAtUTT",
        "outputId": "d58426a5-edca-4929-cf95-49f013573875"
      },
      "execution_count": 70,
      "outputs": [
        {
          "output_type": "error",
          "ename": "AttributeError",
          "evalue": "ignored",
          "traceback": [
            "\u001b[0;31m---------------------------------------------------------------------------\u001b[0m",
            "\u001b[0;31mAttributeError\u001b[0m                            Traceback (most recent call last)",
            "\u001b[0;32m<ipython-input-70-2c239084eefe>\u001b[0m in \u001b[0;36m<module>\u001b[0;34m\u001b[0m\n\u001b[1;32m      1\u001b[0m \u001b[0;32mfor\u001b[0m \u001b[0mx\u001b[0m \u001b[0;32min\u001b[0m \u001b[0mdf\u001b[0m\u001b[0;34m[\u001b[0m\u001b[0;34m[\u001b[0m\u001b[0;34m'Start_Lat'\u001b[0m\u001b[0;34m,\u001b[0m\u001b[0;34m'Start_Lng'\u001b[0m\u001b[0;34m]\u001b[0m\u001b[0;34m]\u001b[0m\u001b[0;34m.\u001b[0m\u001b[0msample\u001b[0m\u001b[0;34m(\u001b[0m\u001b[0;36m100\u001b[0m\u001b[0;34m)\u001b[0m\u001b[0;34m.\u001b[0m\u001b[0miteritems\u001b[0m\u001b[0;34m(\u001b[0m\u001b[0;34m)\u001b[0m\u001b[0;34m:\u001b[0m\u001b[0;34m\u001b[0m\u001b[0;34m\u001b[0m\u001b[0m\n\u001b[0;32m----> 2\u001b[0;31m   \u001b[0mprint\u001b[0m\u001b[0;34m(\u001b[0m\u001b[0mx\u001b[0m\u001b[0;34m.\u001b[0m\u001b[0mStart_Lat\u001b[0m\u001b[0;34m,\u001b[0m\u001b[0mx\u001b[0m\u001b[0;34m.\u001b[0m\u001b[0mStart_Lng\u001b[0m\u001b[0;34m)\u001b[0m\u001b[0;34m\u001b[0m\u001b[0;34m\u001b[0m\u001b[0m\n\u001b[0m",
            "\u001b[0;31mAttributeError\u001b[0m: 'tuple' object has no attribute 'Start_Lat'"
          ]
        }
      ]
    },
    {
      "cell_type": "code",
      "source": [
        "from folium.plugins import HeatMap"
      ],
      "metadata": {
        "id": "ndnCg3iCtUG5"
      },
      "execution_count": 73,
      "outputs": []
    },
    {
      "cell_type": "code",
      "source": [
        "list(zip(list(df.Start_Lat),list(df.Start_Lng)))"
      ],
      "metadata": {
        "colab": {
          "base_uri": "https://localhost:8080/"
        },
        "id": "QHNuVdjcvDtb",
        "outputId": "4023ea0c-d624-44b3-af51-8723d38d4acf"
      },
      "execution_count": 78,
      "outputs": [
        {
          "output_type": "execute_result",
          "data": {
            "text/plain": [
              "[(40.10891, -83.09286),\n",
              " (39.86542, -84.0628),\n",
              " (39.10266, -84.52468),\n",
              " (41.06213, -81.53784),\n",
              " (39.172393, -84.49279200000002),\n",
              " (39.06324, -84.03243),\n",
              " (39.77565, -84.18603),\n",
              " (41.37531, -81.82016999999998),\n",
              " (40.702247, -84.075887),\n",
              " (40.10931, -82.96849),\n",
              " (39.19288, -84.47723),\n",
              " (39.13877, -84.53394),\n",
              " (41.4739, -81.704233),\n",
              " (39.582242, -83.677814),\n",
              " (40.151785, -81.312635),\n",
              " (40.151747, -81.312682),\n",
              " (39.97241, -82.84695),\n",
              " (39.9838, -82.85656999999998),\n",
              " (40.02664, -82.9944),\n",
              " (41.679361, -83.573037),\n",
              " (40.99613, -85.26613),\n",
              " (39.0381, -84.59243000000002),\n",
              " (40.03386, -82.99601),\n",
              " (39.85798, -84.28181),\n",
              " (39.15267, -84.5395),\n",
              " (39.30732, -85.95982),\n",
              " (39.77572, -84.04815),\n",
              " (39.97643, -83.12306),\n",
              " (39.58595, -85.82518),\n",
              " (39.3638, -85.51659000000002),\n",
              " (39.45132, -85.62516),\n",
              " (39.75067, -84.14148),\n",
              " (39.2675, -81.49929),\n",
              " (39.86025, -85.96623000000002),\n",
              " (41.95677, -83.67214),\n",
              " (38.27401, -85.74844),\n",
              " (41.95677, -83.67214),\n",
              " (40.52225, -80.06666),\n",
              " (40.487814, -80.009439),\n",
              " (40.156298, -83.018431),\n",
              " (41.47461, -81.71181999999997),\n",
              " (41.0618, -81.54608),\n",
              " (40.45112, -85.15048),\n",
              " (40.35429, -85.14993),\n",
              " (39.75855, -85.13715),\n",
              " (39.74408, -85.13749),\n",
              " (39.965148, -83.020499),\n",
              " (40.72813, -84.78965),\n",
              " (39.85223, -85.25846999999997),\n",
              " (41.46747, -81.75909),\n",
              " (41.83193, -80.10143000000002),\n",
              " (39.744287, -84.204939),\n",
              " (39.71548, -84.22033),\n",
              " (39.7504, -84.20561),\n",
              " (41.72316, -84.96444),\n",
              " (40.04376, -82.99708000000003),\n",
              " (38.1781, -85.71946),\n",
              " (38.18577, -85.80678),\n",
              " (38.27191, -85.80838),\n",
              " (39.923905, -82.87008),\n",
              " (41.035566, -81.569917),\n",
              " (39.9239, -83.68767),\n",
              " (41.851914, -80.175232),\n",
              " (39.93849, -82.84849),\n",
              " (38.96943, -80.1096),\n",
              " (41.66805, -83.57063000000002),\n",
              " (41.48339, -81.66297),\n",
              " (41.50127, -81.4804),\n",
              " (39.789093, -82.989106),\n",
              " (41.67073, -81.24561),\n",
              " (41.70846, -81.17636),\n",
              " (41.44246, -81.78485),\n",
              " (39.77128, -84.1923),\n",
              " (41.50499, -81.47417),\n",
              " (40.109653, -80.2029),\n",
              " (38.38852, -81.7687),\n",
              " (41.03572, -81.57809),\n",
              " (41.47487, -81.72095),\n",
              " (41.62845, -84.80559000000002),\n",
              " (41.62894, -84.80373),\n",
              " (41.16102, -81.78573),\n",
              " (41.628232, -84.808858),\n",
              " (41.62986, -84.76619000000002),\n",
              " (39.74729, -84.21426),\n",
              " (41.42099, -81.69051999999998),\n",
              " (41.42318, -81.84674),\n",
              " (38.79691, -84.48273),\n",
              " (38.80878, -84.49638),\n",
              " (38.30155, -85.85499),\n",
              " (38.33667, -81.65623000000002),\n",
              " (38.33614, -81.65623000000002),\n",
              " (41.0961, -81.58593),\n",
              " (41.12155, -85.18715999999998),\n",
              " (38.829993, -80.667067),\n",
              " (40.05642, -83.03097),\n",
              " (41.37717, -81.5139),\n",
              " (39.17397, -84.49031),\n",
              " (39.75513, -84.16614),\n",
              " (39.17397, -84.49031),\n",
              " (41.12624, -81.65299),\n",
              " (38.33667, -81.65623000000002),\n",
              " (41.10389, -81.5),\n",
              " (39.16417, -84.45275),\n",
              " (40.11184, -83.00883),\n",
              " (38.31922, -85.75301999999998),\n",
              " (39.09881, -84.50801),\n",
              " (41.473859, -81.708409),\n",
              " (41.039988, -81.565332),\n",
              " (41.73565, -84.99082),\n",
              " (39.26566, -84.43965),\n",
              " (41.46981, -81.81104),\n",
              " (41.25666, -81.63157),\n",
              " (40.58919, -80.09885),\n",
              " (41.06356, -81.49078),\n",
              " (41.06218, -81.50595),\n",
              " (39.17736, -84.4873),\n",
              " (38.33956, -81.60991999999997),\n",
              " (41.47889, -81.6934),\n",
              " (40.58919, -80.09885),\n",
              " (41.41119000000001, -81.64414000000002),\n",
              " (39.24907, -84.44561999999998),\n",
              " (39.28775, -84.40073000000002),\n",
              " (41.47379, -81.89631),\n",
              " (41.54941, -81.60676),\n",
              " (39.03347, -84.603),\n",
              " (39.74903, -84.20106),\n",
              " (39.89473, -83.044),\n",
              " (39.19641, -84.47331),\n",
              " (39.22461, -84.45364000000002),\n",
              " (39.15306, -84.44283),\n",
              " (39.97262, -82.98368),\n",
              " (40.535447, -80.03596),\n",
              " (40.529455, -80.03506999999998),\n",
              " (41.49647, -81.67733),\n",
              " (41.0634, -81.49079),\n",
              " (39.74284, -84.20479),\n",
              " (41.46822, -81.9476),\n",
              " (41.92479, -83.36026),\n",
              " (41.184738, -80.432713),\n",
              " (40.27317, -85.5577),\n",
              " (39.98264, -85.14301999999998),\n",
              " (40.27317, -85.5577),\n",
              " (40.42667, -85.54968000000002),\n",
              " (39.97527, -85.14018),\n",
              " (39.09889, -84.52118),\n",
              " (38.88012, -84.62527),\n",
              " (38.79256, -84.60423),\n",
              " (39.74284, -84.20479),\n",
              " (40.484222, -80.13755400000002),\n",
              " (41.20104, -80.06859),\n",
              " (39.05528, -84.39072),\n",
              " (41.623325, -83.692226),\n",
              " (40.53024, -80.00957),\n",
              " (40.06527, -82.99591),\n",
              " (40.43954, -80.00971),\n",
              " (41.422004, -81.730092),\n",
              " (39.3638, -85.51659000000002),\n",
              " (39.82083, -85.7749),\n",
              " (40.0366, -85.72561999999998),\n",
              " (39.855691, -84.29079200000002),\n",
              " (40.049152, -85.682047),\n",
              " (39.83939, -85.55752),\n",
              " (40.13386, -80.00666),\n",
              " (40.43954, -80.00971),\n",
              " (40.13386, -80.00666),\n",
              " (40.13386, -80.00666),\n",
              " (39.97859, -82.9763),\n",
              " (39.95459, -83.04255),\n",
              " (39.68291, -85.97372),\n",
              " (38.49304, -85.77156),\n",
              " (38.33428, -85.82177),\n",
              " (39.99921, -83.02875),\n",
              " (38.53844, -85.77702),\n",
              " (38.1781, -85.71946),\n",
              " (39.87433, -82.99882),\n",
              " (41.39546, -85.32855),\n",
              " (41.39469, -85.28893000000002),\n",
              " (41.90473, -83.36986),\n",
              " (40.77137000000001, -84.62203000000002),\n",
              " (40.80059, -84.61374),\n",
              " (39.87433, -82.99882),\n",
              " (40.78593, -84.61787),\n",
              " (40.80059, -84.61374),\n",
              " (41.67487, -83.57266),\n",
              " (41.47376, -81.86113),\n",
              " (38.33465, -85.75389),\n",
              " (39.14014, -84.53495),\n",
              " (41.80143, -85.34888000000002),\n",
              " (41.35761, -81.81988),\n",
              " (39.34392, -84.39043000000002),\n",
              " (39.816154, -83.18010500000003),\n",
              " (38.824929, -85.47449499999998),\n",
              " (38.82415, -85.63794),\n",
              " (40.593244, -85.150017),\n",
              " (40.600487, -85.150502),\n",
              " (41.19362, -80.2374),\n",
              " (40.55267, -85.14974000000002),\n",
              " (40.56744000000001, -85.14993),\n",
              " (40.14212, -81.55153),\n",
              " (39.94397, -82.41127),\n",
              " (39.96893, -83.11922),\n",
              " (40.6126, -80.09494000000002),\n",
              " (40.11184, -83.00883),\n",
              " (41.06347, -81.50372),\n",
              " (39.972931, -85.965783),\n",
              " (39.95459, -83.04255),\n",
              " (40.11184, -83.00883),\n",
              " (39.97241, -82.84695),\n",
              " (39.9912, -85.9188),\n",
              " (41.34965, -81.51146),\n",
              " (41.11987, -80.69004),\n",
              " (41.11851, -80.69242),\n",
              " (40.05642, -83.03097),\n",
              " (38.117487, -85.760397),\n",
              " (41.44134, -81.65055),\n",
              " (38.61531, -80.76034),\n",
              " (41.124052, -80.677589),\n",
              " (39.95085, -82.94428),\n",
              " (41.06257, -81.52228000000002),\n",
              " (40.11212, -83.03905999999998),\n",
              " (39.887033, -83.043909),\n",
              " (40.04916, -83.03336),\n",
              " (41.12906, -85.1612),\n",
              " (41.17798, -85.10323000000002),\n",
              " (38.08783, -83.90263),\n",
              " (41.63316, -83.54203000000003),\n",
              " (39.149639, -84.539381),\n",
              " (40.9605, -85.3528),\n",
              " (40.96051, -85.34522),\n",
              " (41.08204, -80.64846999999997),\n",
              " (41.61791, -83.54106999999998),\n",
              " (38.41592, -82.3465),\n",
              " (41.67571, -83.69385),\n",
              " (39.08272, -84.52264),\n",
              " (39.280947, -80.278075),\n",
              " (38.36387, -81.73867),\n",
              " (40.0187, -82.90465999999998),\n",
              " (41.53757, -81.64083000000002),\n",
              " (41.16522, -81.47454),\n",
              " (39.52352, -82.02360999999998),\n",
              " (39.517216, -82.025802),\n",
              " (40.322818, -83.071034),\n",
              " (41.73565, -84.99082),\n",
              " (39.14648, -84.45455),\n",
              " (39.82122, -85.76482),\n",
              " (41.11889, -81.65406999999998),\n",
              " (40.121557, -83.151457),\n",
              " (40.11017, -83.15876999999998),\n",
              " (41.57777, -81.54987),\n",
              " (40.121557, -83.151457),\n",
              " (40.11017, -83.15876999999998),\n",
              " (41.04592, -81.69463),\n",
              " (41.42099, -81.69051999999998),\n",
              " (39.27486, -84.346),\n",
              " (39.28266, -84.56742),\n",
              " (39.9467, -82.22232),\n",
              " (39.17397, -84.49031),\n",
              " (39.17736, -84.4873),\n",
              " (39.9467, -82.22232),\n",
              " (39.9467, -82.22232),\n",
              " (41.68518, -83.5678),\n",
              " (41.66572, -83.5652),\n",
              " (39.27125, -84.35176),\n",
              " (41.47395, -81.69931),\n",
              " (39.98505, -80.74006),\n",
              " (39.95813, -80.76219),\n",
              " (41.56544, -81.5835),\n",
              " (38.32587, -83.11389),\n",
              " (38.25869, -85.7622),\n",
              " (38.29322, -85.654625),\n",
              " (39.78609, -83.24606999999997),\n",
              " (41.53968, -81.62795),\n",
              " (39.08927, -84.5227),\n",
              " (38.25922, -85.76632),\n",
              " (41.55264, -81.60032),\n",
              " (39.02187, -84.50492),\n",
              " (41.06755, -81.57421),\n",
              " (40.49223, -80.01029),\n",
              " (41.48836, -81.66471),\n",
              " (39.95085, -82.94428),\n",
              " (41.42063, -81.80859),\n",
              " (41.06755, -81.57421),\n",
              " (40.82949, -81.39732),\n",
              " (41.40091, -81.81724),\n",
              " (41.13355, -85.13584),\n",
              " (38.870386, -84.624429),\n",
              " (41.47974, -81.6667),\n",
              " (40.30095, -80.16651999999998),\n",
              " (39.11543, -84.50003000000002),\n",
              " (41.1419, -81.47694),\n",
              " (39.14917, -84.44711),\n",
              " (39.81979000000001, -84.18908),\n",
              " (39.84509, -84.1899),\n",
              " (41.47461, -81.71181999999997),\n",
              " (39.17304, -84.47589),\n",
              " (39.1021, -84.49754),\n",
              " (41.49873, -81.67260999999998),\n",
              " (39.12627, -84.53509),\n",
              " (41.47394600000001, -81.699011),\n",
              " (39.9745, -83.09654),\n",
              " (39.85911, -84.2808),\n",
              " (39.24943, -84.36541),\n",
              " (38.31179, -85.58773000000002),\n",
              " (39.27486, -84.346),\n",
              " (39.29287, -84.31981),\n",
              " (39.15267, -84.5395),\n",
              " (41.4675, -81.49014),\n",
              " (39.26661, -84.35605),\n",
              " (39.27125, -84.35176),\n",
              " (38.20674, -85.74846),\n",
              " (40.13804, -82.97112),\n",
              " (41.47965, -81.66758),\n",
              " (39.08887, -84.52271),\n",
              " (41.6882, -83.64064),\n",
              " (40.06527, -82.99591),\n",
              " (39.86536, -84.05238),\n",
              " (38.420223, -82.293065),\n",
              " (41.47414000000001, -81.69893),\n",
              " (41.47542, -81.68721),\n",
              " (40.07297, -83.1347),\n",
              " (40.05609000000001, -80.679211),\n",
              " (38.19105, -85.71902),\n",
              " (38.25454000000001, -85.71969),\n",
              " (39.171694, -84.494399),\n",
              " (41.06239, -81.52229),\n",
              " (39.259254, -84.440978),\n",
              " (39.905178, -82.895471),\n",
              " (40.0988, -83.13331),\n",
              " (41.33991, -81.81739),\n",
              " (40.0999, -82.92089),\n",
              " (39.4728, -80.11963),\n",
              " (41.46631, -81.77065999999998),\n",
              " (38.34109, -81.70017),\n",
              " (41.160072, -85.232647),\n",
              " (41.163626, -85.24482900000002),\n",
              " (39.14014, -84.53495),\n",
              " (40.94537, -81.15473),\n",
              " (41.68591, -83.911307),\n",
              " (41.704523, -83.9136),\n",
              " (40.945772, -81.17219399999998),\n",
              " (38.82445, -82.98299),\n",
              " (38.84111, -82.98432),\n",
              " (39.00079, -84.42043000000002),\n",
              " (39.96071, -85.35383),\n",
              " (39.2675, -81.49929),\n",
              " (40.27317, -85.5577),\n",
              " (40.42667, -85.54968000000002),\n",
              " (38.130782, -81.388878),\n",
              " (38.545195, -85.778613),\n",
              " (38.362427, -81.714434),\n",
              " (38.39115, -81.58664),\n",
              " (40.08978, -82.98725999999998),\n",
              " (40.0122, -82.99188000000002),\n",
              " (41.68918, -83.53681999999998),\n",
              " (39.3781, -84.365),\n",
              " (39.11919, -84.53539),\n",
              " (39.05029, -83.77673),\n",
              " (39.04827, -83.77199),\n",
              " (40.0717, -82.90821),\n",
              " (39.09655, -84.48312),\n",
              " (40.43077, -80.02638),\n",
              " (41.443708, -85.19285),\n",
              " (41.438119, -85.15969399999999),\n",
              " (41.46747, -81.75909),\n",
              " (39.044435, -84.465864),\n",
              " (39.22461, -84.45364000000002),\n",
              " (41.104217, -81.499987),\n",
              " (41.1003, -81.4999),\n",
              " (39.1021, -84.49754),\n",
              " (41.46375, -81.69353000000002),\n",
              " (41.52134, -83.45642),\n",
              " (41.52549000000001, -83.46344),\n",
              " (41.43166, -81.68160999999998),\n",
              " (38.22363, -85.50532),\n",
              " (40.85466, -81.41646999999998),\n",
              " (38.22272, -85.50111),\n",
              " (39.12424, -84.53501),\n",
              " (39.09858, -84.51974),\n",
              " (39.63551, -84.19519),\n",
              " (40.39715, -80.10368000000003),\n",
              " (41.56709, -81.57816),\n",
              " (41.18225, -84.94275999999998),\n",
              " (39.10148, -84.52341),\n",
              " (41.55245, -83.60061999999998),\n",
              " (38.52006, -81.35221),\n",
              " (41.3513, -83.62276),\n",
              " (39.25015, -81.30566),\n",
              " (41.345031, -82.285379),\n",
              " (41.351335, -82.26144599999998),\n",
              " (38.38457, -81.804429),\n",
              " (40.41528, -80.01234000000002),\n",
              " (40.03598, -83.12479),\n",
              " (41.03669, -81.50492),\n",
              " (41.68971, -83.53045999999998),\n",
              " (39.587784, -83.723939),\n",
              " (39.626237, -83.73105),\n",
              " (41.06243, -81.49904000000002),\n",
              " (39.97262, -82.98368),\n",
              " (39.93658, -83.00941999999998),\n",
              " (41.208579, -82.807829),\n",
              " (41.4051, -81.8184),\n",
              " (39.29035, -84.39078),\n",
              " (39.90524, -82.89541),\n",
              " (40.04376, -82.99708000000003),\n",
              " (39.98793, -82.98568),\n",
              " (41.874915, -85.409527),\n",
              " (41.890234, -85.409642),\n",
              " (39.9335, -82.78939),\n",
              " (40.04916, -83.03336),\n",
              " (39.99493, -82.93332),\n",
              " (39.83727, -83.09326999999998),\n",
              " (40.98954000000001, -81.49372),\n",
              " (38.53844, -85.77702),\n",
              " (41.10389, -81.5),\n",
              " (38.577894, -85.77896),\n",
              " (41.42099, -81.69051999999998),\n",
              " (38.58054600000001, -85.77866),\n",
              " (39.833935, -84.061832),\n",
              " (38.30344, -85.88893),\n",
              " (39.93654, -83.40048),\n",
              " (39.95612, -83.37499),\n",
              " (39.17766, -84.39780999999998),\n",
              " (40.02155, -83.0354),\n",
              " (39.97518, -85.63374),\n",
              " (39.94576, -85.63454),\n",
              " (40.27744000000001, -85.72518000000002),\n",
              " (39.17304, -84.47589),\n",
              " (41.68648, -83.5669),\n",
              " (41.66267, -85.03312),\n",
              " (41.68976, -83.666),\n",
              " (39.94594, -82.9432),\n",
              " (41.4758, -81.66036),\n",
              " (41.628312, -84.812135),\n",
              " (39.96724, -83.02459),\n",
              " (41.96429000000001, -83.35018000000002),\n",
              " (41.282993, -83.638931),\n",
              " (41.63126, -83.48336),\n",
              " (41.427584, -85.8495),\n",
              " (41.471378, -85.839527),\n",
              " (41.46747, -81.75909),\n",
              " (39.18364, -84.48373000000002),\n",
              " (41.94495, -80.40234),\n",
              " (39.53078, -84.310264),\n",
              " (41.438774, -81.80341999999997),\n",
              " (39.9838, -82.85656999999998),\n",
              " (40.44413400000001, -80.028261),\n",
              " (39.97727, -83.15445),\n",
              " (39.9745, -83.09654),\n",
              " (39.97865, -83.11698),\n",
              " (39.97327, -83.12002),\n",
              " (39.22571, -84.36832),\n",
              " (39.986342, -83.118881),\n",
              " (39.73629, -84.20489),\n",
              " (41.4051, -81.8184),\n",
              " (41.41101, -81.66634),\n",
              " (39.24464, -84.44835),\n",
              " (40.11212, -83.03905999999998),\n",
              " (40.30095, -80.16651999999998),\n",
              " (41.49243, -81.67554),\n",
              " (40.1827, -80.26148),\n",
              " (39.95459, -83.04255),\n",
              " (39.97527, -85.14018),\n",
              " (39.98511, -85.14406),\n",
              " (38.29514, -85.75655),\n",
              " (39.93654, -83.40048),\n",
              " (39.11543, -84.50003000000002),\n",
              " (41.030684, -81.885739),\n",
              " (41.43166, -81.68160999999998),\n",
              " (40.6664, -80.227514),\n",
              " (40.67137, -80.22581),\n",
              " (41.305199, -81.438626),\n",
              " (40.354252, -85.843032),\n",
              " (40.402251, -85.842969),\n",
              " (41.26752000000001, -85.85673),\n",
              " (39.97307, -82.98405),\n",
              " (39.9672, -81.28699999999998),\n",
              " (39.96392, -81.27197),\n",
              " (41.52631, -83.62123000000003),\n",
              " (39.93292, -82.83025),\n",
              " (39.08272, -84.52264),\n",
              " (39.8552, -84.32502),\n",
              " (41.65404, -85.70526),\n",
              " (41.39465, -81.65326),\n",
              " (41.06211, -81.53053),\n",
              " (41.09598, -81.49976),\n",
              " (41.85222, -85.67843),\n",
              " (38.148808, -80.929665),\n",
              " (41.52447, -85.57791),\n",
              " (41.5105, -85.57781),\n",
              " (39.90524, -82.89541),\n",
              " (41.23598, -81.49325999999998),\n",
              " (38.70101, -80.66483000000002),\n",
              " (39.22498, -84.38094),\n",
              " (40.776023, -80.12718100000002),\n",
              " (38.86027, -80.65729),\n",
              " (39.88203, -83.04748000000002),\n",
              " (39.89253400000001, -83.038786),\n",
              " (39.89698, -83.03428000000002),\n",
              " (41.67439, -83.693727),\n",
              " (41.12999, -85.15503000000002),\n",
              " (39.09889, -84.52118),\n",
              " (41.52631, -83.62123000000003),\n",
              " (39.088552, -84.522724),\n",
              " (39.95423, -82.98879000000002),\n",
              " (39.21018, -84.46345),\n",
              " (39.95369, -82.96403000000002),\n",
              " (40.40934, -80.19247),\n",
              " (40.44126, -80.19314),\n",
              " (39.16161, -84.51375),\n",
              " (39.16161, -84.51375),\n",
              " (39.15141, -84.54061),\n",
              " (39.75855, -85.13715),\n",
              " (41.67571, -83.69385),\n",
              " (41.67571, -83.69385),\n",
              " (39.28805, -84.37462),\n",
              " (41.53618, -83.6176),\n",
              " (39.07202, -84.51907),\n",
              " (38.259133, -85.752672),\n",
              " (40.44425, -80.02821),\n",
              " (40.44278, -80.02468),\n",
              " (38.30155, -85.85499),\n",
              " (40.35405, -80.13756),\n",
              " (40.35449000000001, -80.13835999999998),\n",
              " (38.30344, -85.88893),\n",
              " (41.08789, -83.66011),\n",
              " (41.02454, -80.92163000000002),\n",
              " (41.02413, -80.90579),\n",
              " (39.08168, -84.7069),\n",
              " (38.18539000000001, -85.81793),\n",
              " (39.27734, -84.86438000000003),\n",
              " (39.16437, -84.43731),\n",
              " (39.748585, -84.226084),\n",
              " (39.4728, -80.11963),\n",
              " (41.187807, -80.149019),\n",
              " (41.19242, -80.15860500000002),\n",
              " (38.233483, -85.62671800000003),\n",
              " (38.33954, -81.609895),\n",
              " (40.07297, -83.1347),\n",
              " (40.08402, -83.13046),\n",
              " (38.34631, -83.40449),\n",
              " (38.35382, -83.40553),\n",
              " (39.04416, -84.46656),\n",
              " (38.41807, -81.54525),\n",
              " (38.309401, -85.847643),\n",
              " (41.64679, -83.54913),\n",
              " (38.198748, -85.733953),\n",
              " (39.97401, -82.99355),\n",
              " (39.17397, -84.49031),\n",
              " (41.68843, -83.56258000000003),\n",
              " (41.67904, -83.5732),\n",
              " (39.25249, -84.36493),\n",
              " (38.310736, -85.590395),\n",
              " (41.46941, -81.80535),\n",
              " (38.20674, -85.74846),\n",
              " (39.226317, -84.37107900000002),\n",
              " (41.68721, -83.55579),\n",
              " (40.09775, -84.22926),\n",
              " (41.42147, -81.70682),\n",
              " (38.29414600000001, -85.756847),\n",
              " (39.17304, -84.47589),\n",
              " (38.15982, -84.67308),\n",
              " (39.11675, -84.53355),\n",
              " (39.24943, -84.36541),\n",
              " (41.06146, -81.5049),\n",
              " (39.18364, -84.48373000000002),\n",
              " (39.98793, -82.98568),\n",
              " (39.95971, -83.04811),\n",
              " (39.1479, -84.53929000000002),\n",
              " (39.89555, -83.84997),\n",
              " (39.99226, -82.98517),\n",
              " (39.40983, -82.97548),\n",
              " (40.6126, -80.09494000000002),\n",
              " (39.22479000000001, -84.27783000000002),\n",
              " (39.11675, -84.53355),\n",
              " (41.43869, -81.80554000000002),\n",
              " (40.016819, -82.90411),\n",
              " (39.09757000000001, -84.51666),\n",
              " (41.06247000000001, -81.52405),\n",
              " (39.13219, -84.49464),\n",
              " (39.097654, -84.516019),\n",
              " (41.34965, -81.51146),\n",
              " (41.37717, -81.5139),\n",
              " (40.12589000000001, -80.13661),\n",
              " (40.13189000000001, -80.132407),\n",
              " (40.00507, -83.1186),\n",
              " (39.43794000000001, -82.53893000000002),\n",
              " (39.12627, -84.53509),\n",
              " (38.07759, -84.45711999999997),\n",
              " (40.09079000000001, -82.90783),\n",
              " (39.64731, -85.91696999999998),\n",
              " (39.08927, -84.5227),\n",
              " (38.26109, -85.73695),\n",
              " (38.19785, -85.70445),\n",
              " (39.05654000000001, -84.54283000000002),\n",
              " (41.42413, -81.64519),\n",
              " (39.28638, -84.42706),\n",
              " (41.37499, -83.61635),\n",
              " (41.06228, -81.50986999999998),\n",
              " (41.53907, -81.63354),\n",
              " (40.04916, -83.03336),\n",
              " (41.13613, -81.72196),\n",
              " (39.09891, -84.49181999999998),\n",
              " (39.96268, -82.84305),\n",
              " (39.17397, -84.49031),\n",
              " (39.16911, -84.42104),\n",
              " (39.003821, -80.391285),\n",
              " (39.17736, -84.4873),\n",
              " (39.14316, -84.47069),\n",
              " (39.2696, -84.34894),\n",
              " (40.521732, -81.64755),\n",
              " (40.513361, -81.651599),\n",
              " (41.52631, -83.62123000000003),\n",
              " (38.992607, -80.195782),\n",
              " (38.839151, -82.152877),\n",
              " (40.27675, -85.49916),\n",
              " (40.52168, -80.13163),\n",
              " (39.83711, -84.54392),\n",
              " (39.02296, -84.51784),\n",
              " (38.455787, -81.88205),\n",
              " (39.02397, -84.48039),\n",
              " (38.22433, -85.751),\n",
              " (39.05973, -84.42438),\n",
              " (39.27734, -84.86438000000003),\n",
              " (41.47965, -81.66758),\n",
              " (39.02257, -84.48631),\n",
              " (40.44846, -80.00755),\n",
              " (39.09891, -84.28556999999998),\n",
              " (41.06026, -81.55485999999998),\n",
              " (41.802758, -83.684687),\n",
              " (38.0791, -83.94591),\n",
              " (38.01846, -84.15159),\n",
              " (38.30344, -85.88893),\n",
              " (38.84109, -85.81618),\n",
              " (41.14181, -80.72015999999998),\n",
              " (39.14648, -84.45455),\n",
              " (41.04263, -81.50543),\n",
              " (38.21089, -85.82606),\n",
              " (39.75067, -84.14148),\n",
              " (38.28581, -85.50792),\n",
              " (39.15273300000001, -84.541403),\n",
              " (38.23585, -85.658849),\n",
              " (38.20249, -85.68697),\n",
              " (40.53491, -83.10678),\n",
              " (40.52035, -83.10043),\n",
              " (39.12965, -84.49555),\n",
              " (38.22811, -85.7514),\n",
              " (40.41233, -80.07815),\n",
              " (39.7504, -84.20561),\n",
              " (39.08272, -84.52264),\n",
              " (39.781457, -85.839651),\n",
              " (39.781457, -85.839651),\n",
              " (41.06076, -81.45923),\n",
              " (39.688148, -83.88431),\n",
              " (39.693164, -83.882745),\n",
              " (39.9488, -83.02845),\n",
              " (41.11584000000001, -81.61428000000002),\n",
              " (39.797697, -84.189677),\n",
              " (39.20326, -85.95763000000002),\n",
              " (39.24464, -84.44835),\n",
              " (39.73733, -84.25733000000002),\n",
              " (39.969853, -85.972976),\n",
              " (41.11889, -81.65406999999998),\n",
              " (39.13219, -84.49464),\n",
              " (41.458, -83.62201999999998),\n",
              " (40.09268, -83.03726),\n",
              " (40.066965, -83.289888),\n",
              " (40.045608, -83.29660799999998),\n",
              " (39.97307, -82.98405),\n",
              " (39.98248, -85.123922),\n",
              " (39.981095, -85.11027299999998),\n",
              " (40.43021, -80.02554),\n",
              " (40.43219000000001, -80.02781999999998),\n",
              " (39.976567, -83.128639),\n",
              " (41.256658, -85.363439),\n",
              " (41.37499, -83.61635),\n",
              " (41.252653, -85.347328),\n",
              " (39.93658, -83.00941999999998),\n",
              " (39.14014, -84.53495),\n",
              " (40.153014, -82.970316),\n",
              " (39.90524, -82.89541),\n",
              " (39.13219, -84.49464),\n",
              " (40.42581, -80.4294),\n",
              " (41.08789, -83.65977),\n",
              " (39.9488, -83.02845),\n",
              " (41.47585, -81.87980999999998),\n",
              " (39.1079, -84.50284),\n",
              " (38.340803, -81.680728),\n",
              " (40.96473, -85.28862),\n",
              " (38.441, -82.12679),\n",
              " (38.4413, -82.01529000000002),\n",
              " (38.441, -82.12679),\n",
              " (38.18977, -83.48379),\n",
              " (41.194131, -80.201982),\n",
              " (40.09601, -83.13626),\n",
              " (41.23632, -83.65401999999997),\n",
              " (38.1737, -84.81473000000003),\n",
              " (38.19016, -85.7616),\n",
              " (39.25249, -84.36493),\n",
              " (39.137217, -84.04718299999998),\n",
              " (39.141454, -84.016543),\n",
              " (38.344424, -81.613662),\n",
              " (41.93113, -83.35857),\n",
              " (40.89268, -84.61808),\n",
              " (40.46013, -80.19126),\n",
              " (41.119342, -80.698025),\n",
              " (41.117872, -80.693898),\n",
              " (39.15267, -84.5395),\n",
              " (38.27362, -85.80906),\n",
              " (41.458, -83.62201999999998),\n",
              " (39.35655, -84.26419),\n",
              " (38.4062, -81.54054000000002),\n",
              " (41.02525900000001, -81.5042),\n",
              " (38.27362, -85.80906),\n",
              " (38.11969000000001, -85.77235),\n",
              " (38.275406, -85.81314300000003),\n",
              " (38.27508, -85.81517099999998),\n",
              " (41.39769, -81.939),\n",
              " (39.46513, -80.13559000000002),\n",
              " (38.217994, -81.426024),\n",
              " (38.215401, -81.42437199999998),\n",
              " (39.042851, -84.612615),\n",
              " (38.26109, -85.73695),\n",
              " (39.05654000000001, -84.54283000000002),\n",
              " (41.840758, -84.361657),\n",
              " (41.841123, -84.361652),\n",
              " (41.63316, -83.54203000000003),\n",
              " (40.02874, -81.04368000000002),\n",
              " (41.43891, -81.80258),\n",
              " (41.0811, -81.50348000000002),\n",
              " (38.35575, -81.65420999999998),\n",
              " (39.94585, -82.94293),\n",
              " (41.69017, -83.5181),\n",
              " (40.11212, -83.03905999999998),\n",
              " (41.50259000000001, -81.66974),\n",
              " (39.989994, -83.02512),\n",
              " (41.480458, -81.692932),\n",
              " (39.22461, -84.45364000000002),\n",
              " (40.04376, -82.99708000000003),\n",
              " (39.93621, -82.88318000000002),\n",
              " (39.167788, -82.524172),\n",
              " (39.20655, -82.48212),\n",
              " (41.36576, -81.51602),\n",
              " (39.977322, -81.183327),\n",
              " (39.961933, -81.175436),\n",
              " (39.68292, -84.23004),\n",
              " (40.02664, -82.9944),\n",
              " (38.583372, -81.994824),\n",
              " (38.58119600000001, -82.004356),\n",
              " (40.07297, -83.1347),\n",
              " (41.58689, -83.56234),\n",
              " (38.31714, -85.57677),\n",
              " (40.07297, -83.1347),\n",
              " (39.07202, -84.51907),\n",
              " (41.46747, -81.75909),\n",
              " (40.82645, -81.39675),\n",
              " (40.82645, -81.39675),\n",
              " (39.05654000000001, -84.54283000000002),\n",
              " (39.06272, -84.65728),\n",
              " (39.03368, -84.59527),\n",
              " (40.02121, -82.99503),\n",
              " (39.866695, -84.9305),\n",
              " (39.05654000000001, -84.54283000000002),\n",
              " (39.03232, -84.59137),\n",
              " (41.04058, -81.61256999999998),\n",
              " (40.98884, -83.64875),\n",
              " (39.95658, -83.37075),\n",
              " (39.89857, -83.72139),\n",
              " (39.896448, -83.72312099999998),\n",
              " (41.47965, -81.66758),\n",
              " (39.71548, -84.22033),\n",
              " (40.0389, -85.71828000000002),\n",
              " (41.17516, -81.23116999999998),\n",
              " (41.15107, -81.21375),\n",
              " (40.0389, -85.71828000000002),\n",
              " (39.99336, -85.83861999999998),\n",
              " (40.46013, -80.19126),\n",
              " (41.68976, -83.666),\n",
              " (39.97326, -83.00690999999998),\n",
              " (39.48572, -83.94191),\n",
              " (39.83355, -85.99635),\n",
              " (39.79721, -85.97153),\n",
              " (39.98056, -83.11924),\n",
              " (41.458, -83.62243000000002),\n",
              " (39.905352, -82.995352),\n",
              " (39.99921, -83.02875),\n",
              " (40.869049, -81.95845600000001),\n",
              " (41.419021, -81.519515),\n",
              " (39.34392, -84.39043000000002),\n",
              " (39.9454, -82.60271),\n",
              " (38.353957, -81.73513100000002),\n",
              " (38.354505, -81.731585),\n",
              " (41.501623, -81.479519),\n",
              " (39.86477, -83.99871),\n",
              " (38.737813, -85.250959),\n",
              " (40.00507, -83.1186),\n",
              " (39.91978, -82.93149),\n",
              " (39.09757000000001, -84.51666),\n",
              " (41.07995, -81.50389),\n",
              " (41.63316, -83.54203000000003),\n",
              " (39.82529, -83.03175999999998),\n",
              " (39.83209, -82.99884),\n",
              " (39.83208, -83.000447),\n",
              " (38.416631, -84.861968),\n",
              " (40.55549, -80.11634000000002),\n",
              " (39.17736, -84.4873),\n",
              " (41.484589, -81.691778),\n",
              " (41.22734000000001, -81.62705),\n",
              " (39.04695, -84.57498000000002),\n",
              " (39.25595, -84.44287),\n",
              " (39.8888, -82.88181999999998),\n",
              " (39.74729, -84.21426),\n",
              " (39.97415, -83.09486),\n",
              " (39.08272, -84.52264),\n",
              " (39.949808, -83.02289300000002),\n",
              " (39.95141, -83.0137),\n",
              " (38.7056, -80.66107),\n",
              " (39.1479, -84.53929000000002),\n",
              " (41.7573, -83.48075),\n",
              " (39.98946, -85.9299),\n",
              " (39.98894, -83.025012),\n",
              " (41.110996, -80.82384),\n",
              " (41.68685900000001, -83.554005),\n",
              " (41.53907, -81.63354),\n",
              " (39.300562, -84.518869),\n",
              " (41.202543, -85.7011),\n",
              " (39.19288, -84.47723),\n",
              " (40.07297, -83.1347),\n",
              " (39.140991, -84.483618),\n",
              " (41.121599, -80.789503),\n",
              " (41.31438, -81.51286),\n",
              " (39.85922, -84.27762),\n",
              " (40.42005, -80.03531),\n",
              " (39.9589, -82.98257),\n",
              " (39.89087, -83.85382),\n",
              " (39.89862, -83.85353),\n",
              " (40.03938, -83.050567),\n",
              " (41.41218, -81.61371),\n",
              " (38.306159, -80.833765),\n",
              " (40.104, -82.94154),\n",
              " (38.24178, -85.62212),\n",
              " (41.55264, -81.60032),\n",
              " (39.99226, -82.98517),\n",
              " (38.31553, -85.58313000000003),\n",
              " (38.400331, -85.371049),\n",
              " (38.31251, -85.57741999999998),\n",
              " (38.400331, -85.371049),\n",
              " (39.88938, -82.88316),\n",
              " (38.15873, -80.90504),\n",
              " (39.9745, -83.09654),\n",
              " (41.47487, -81.72095),\n",
              " (39.26931, -84.4307),\n",
              " (38.2201, -85.82223),\n",
              " (41.48339, -81.66297),\n",
              " (39.16161, -84.51375),\n",
              " (41.42734, -82.08322),\n",
              " (41.52631, -83.62123000000003),\n",
              " (39.91732, -83.012335),\n",
              " (41.60867, -81.48891),\n",
              " (41.20554, -85.17116),\n",
              " (41.507189, -81.67124),\n",
              " (39.97415, -83.09486),\n",
              " (39.97043, -83.01961999999997),\n",
              " (39.93849, -82.84849),\n",
              " (39.89698, -83.03428000000002),\n",
              " (39.71452, -84.22281),\n",
              " (40.11468, -83.01644),\n",
              " (38.34244, -85.80447),\n",
              " (41.47036, -81.65984),\n",
              " (38.30056, -85.84703),\n",
              " (39.169389, -84.50389),\n",
              " (39.936838, -83.042661),\n",
              " (39.937567, -83.04209200000003),\n",
              " (39.9425, -82.53536),\n",
              " (39.27125, -84.35176),\n",
              " (41.398877, -83.616108),\n",
              " (39.24422, -84.30224),\n",
              " (40.412997, -80.07973299999998),\n",
              " (39.021521, -84.50784300000002),\n",
              " (41.12367, -80.76913),\n",
              " (41.073876, -83.66091999999998),\n",
              " (39.01992, -83.65886),\n",
              " (38.97914, -83.65465),\n",
              " (40.09927, -83.15793000000002),\n",
              " (39.93658, -83.00941999999998),\n",
              " (39.11543, -84.50003000000002),\n",
              " (41.474552, -81.711522),\n",
              " (39.78517, -84.18457),\n",
              " (41.47974, -81.6667),\n",
              " (38.27719, -85.69383),\n",
              " (38.495124, -85.771118),\n",
              " (39.73277, -84.20522),\n",
              " (41.458, -83.62243000000002),\n",
              " (39.045381, -84.462312),\n",
              " (41.526, -81.65974),\n",
              " (40.78725, -81.38592),\n",
              " (38.3657, -85.75495),\n",
              " (39.02575, -84.61272),\n",
              " (40.90923, -81.79765),\n",
              " (40.91649, -81.78869),\n",
              " (39.10051, -80.39199),\n",
              " (40.082643, -82.91367199999998),\n",
              " (41.47162, -81.90626),\n",
              " (40.08155, -82.91859000000002),\n",
              " (40.07976, -82.92689),\n",
              " (38.27511, -85.81238),\n",
              " (39.02908, -84.53565),\n",
              " (39.04455, -84.57798000000003),\n",
              " (39.83026, -81.45434),\n",
              " (39.81436, -81.46898),\n",
              " (38.41336, -82.3483),\n",
              " (38.20674, -85.74846),\n",
              " (38.10937, -85.70123000000002),\n",
              " (40.26758, -82.92745),\n",
              " (38.22285, -85.57436),\n",
              " (40.43827, -80.00527),\n",
              " (39.08272, -84.52264),\n",
              " (40.046599, -85.99359),\n",
              " (41.67904, -83.5732),\n",
              " (40.52225, -80.06666),\n",
              " (41.041763, -81.3932),\n",
              " (39.02541, -85.88784),\n",
              " (39.887572, -84.047499),\n",
              " (39.90803, -84.03969000000002),\n",
              " (39.8181, -81.45925),\n",
              " (39.8181, -81.45925),\n",
              " (39.81447, -81.46769),\n",
              " (41.47307, -80.36586),\n",
              " (41.460561, -80.366376),\n",
              " (39.75022, -84.19668),\n",
              " (39.16161, -84.51375),\n",
              " (39.82329, -84.166569),\n",
              " (39.818751, -84.167637),\n",
              " (39.15267, -84.5395),\n",
              " (40.480209, -85.719799),\n",
              " (39.02676, -84.61421),\n",
              " (40.480209, -85.719799),\n",
              " (40.48013, -85.72942900000002),\n",
              " (38.24863, -85.70467),\n",
              " (39.24907, -84.44561999999998),\n",
              " (39.18364, -84.48373000000002),\n",
              " (41.420898, -81.69322),\n",
              " (39.18976, -84.26285),\n",
              " (40.00921, -83.03149),\n",
              " (41.12369, -80.75595),\n",
              " (41.09705, -81.50012),\n",
              " (41.03011, -81.40292099999998),\n",
              " (39.9533, -83.0032),\n",
              " (39.91404, -83.01729),\n",
              " (39.11811, -84.49975),\n",
              " (39.73277, -84.20522),\n",
              " (41.47379, -81.69592),\n",
              " (41.47395, -81.69931),\n",
              " (39.62334, -81.83577),\n",
              " (39.98233, -82.98449000000002),\n",
              " (40.15106, -80.03243),\n",
              " (41.66332, -83.56385999999998),\n",
              " (39.35245, -84.37507),\n",
              " (41.67178, -83.6939),\n",
              " (38.38018, -82.60993),\n",
              " (39.03347, -84.603),\n",
              " (40.42116, -80.0438),\n",
              " (41.341147, -83.347543),\n",
              " (41.34131, -83.376561),\n",
              " (40.26758, -82.92745),\n",
              " (40.432459, -80.023538),\n",
              " (39.9912, -85.9188),\n",
              " (39.05654000000001, -84.54283000000002),\n",
              " (38.39328, -85.76223),\n",
              " (39.97165800000001, -80.017133),\n",
              " (39.98381, -80.01011),\n",
              " (39.84457, -85.51639399999998),\n",
              " (38.399528, -85.76430500000002),\n",
              " (38.38981, -81.76937),\n",
              " (41.47965, -81.66758),\n",
              " (39.97859, -82.9763),\n",
              " (40.68109000000001, -80.24616999999998),\n",
              " (41.47487, -81.72095),\n",
              " (40.68109000000001, -80.24616999999998),\n",
              " (40.1412, -82.97121),\n",
              " (39.85942, -84.27778),\n",
              " (39.10838, -84.50296999999998),\n",
              " (39.32662, -84.42002),\n",
              " (39.24907, -84.44561999999998),\n",
              " (41.11959, -81.64568),\n",
              " (39.04455, -84.57798000000003),\n",
              " (38.26109, -85.73695),\n",
              " (38.21911, -85.50582),\n",
              " (39.94976, -83.04032),\n",
              " (38.82584, -120.029214),\n",
              " (37.358209, -121.840017),\n",
              " (37.881943, -122.307987),\n",
              " (37.881038, -122.307788),\n",
              " (38.518811, -121.101664),\n",
              " (38.518811, -121.101664),\n",
              " (36.9903, -119.71146),\n",
              " (37.42592, -122.09879),\n",
              " (37.75745, -122.21131),\n",
              " (37.31648, -121.96746),\n",
              " (37.44415, -122.2688),\n",
              " (37.71981, -121.65943),\n",
              " ...]"
            ]
          },
          "metadata": {},
          "execution_count": 78
        }
      ]
    },
    {
      "cell_type": "code",
      "source": [
        "map = folium.Map()\n",
        "HeatMap(list(zip(list(df.Start_Lat),list(df.Start_Lng)))).add_to(map)\n",
        "map"
      ],
      "metadata": {
        "id": "iHYPXE1Jugz-"
      },
      "execution_count": 80,
      "outputs": []
    },
    {
      "cell_type": "markdown",
      "source": [
        "since it is a lot of data to be plotted on the heatmap so i will be using 0.1 10 percantage of sample data to plot on"
      ],
      "metadata": {
        "id": "e9kKDInlv0iM"
      }
    },
    {
      "cell_type": "code",
      "source": [
        "map = folium.Map()\n",
        "# taking 0.01 percentage of sample data from df to plot\n",
        "sample_df = df.sample(int(0.001*len(df)))\n",
        "lat_long_pair = list(zip(list(sample_df.Start_Lat),list(sample_df.Start_Lng)))\n",
        "HeatMap(lat_long_pair).add_to(map) \n",
        "map"
      ],
      "metadata": {
        "colab": {
          "base_uri": "https://localhost:8080/",
          "height": 866
        },
        "id": "zbAWZj5sugeV",
        "outputId": "14a59123-4af9-4e6e-e9df-ba9effc337bb"
      },
      "execution_count": 87,
      "outputs": [
        {
          "output_type": "execute_result",
          "data": {
            "text/plain": [
              "<folium.folium.Map at 0x7f95227a9490>"
            ],
            "text/html": [
              "<div style=\"width:100%;\"><div style=\"position:relative;width:100%;height:0;padding-bottom:60%;\"><span style=\"color:#565656\">Make this Notebook Trusted to load map: File -> Trust Notebook</span><iframe srcdoc=\"&lt;!DOCTYPE html&gt;\n",
              "&lt;html&gt;\n",
              "&lt;head&gt;\n",
              "    \n",
              "    &lt;meta http-equiv=&quot;content-type&quot; content=&quot;text/html; charset=UTF-8&quot; /&gt;\n",
              "    \n",
              "        &lt;script&gt;\n",
              "            L_NO_TOUCH = false;\n",
              "            L_DISABLE_3D = false;\n",
              "        &lt;/script&gt;\n",
              "    \n",
              "    &lt;style&gt;html, body {width: 100%;height: 100%;margin: 0;padding: 0;}&lt;/style&gt;\n",
              "    &lt;style&gt;#map {position:absolute;top:0;bottom:0;right:0;left:0;}&lt;/style&gt;\n",
              "    &lt;script src=&quot;https://cdn.jsdelivr.net/npm/leaflet@1.6.0/dist/leaflet.js&quot;&gt;&lt;/script&gt;\n",
              "    &lt;script src=&quot;https://code.jquery.com/jquery-1.12.4.min.js&quot;&gt;&lt;/script&gt;\n",
              "    &lt;script src=&quot;https://maxcdn.bootstrapcdn.com/bootstrap/3.2.0/js/bootstrap.min.js&quot;&gt;&lt;/script&gt;\n",
              "    &lt;script src=&quot;https://cdnjs.cloudflare.com/ajax/libs/Leaflet.awesome-markers/2.0.2/leaflet.awesome-markers.js&quot;&gt;&lt;/script&gt;\n",
              "    &lt;link rel=&quot;stylesheet&quot; href=&quot;https://cdn.jsdelivr.net/npm/leaflet@1.6.0/dist/leaflet.css&quot;/&gt;\n",
              "    &lt;link rel=&quot;stylesheet&quot; href=&quot;https://maxcdn.bootstrapcdn.com/bootstrap/3.2.0/css/bootstrap.min.css&quot;/&gt;\n",
              "    &lt;link rel=&quot;stylesheet&quot; href=&quot;https://maxcdn.bootstrapcdn.com/bootstrap/3.2.0/css/bootstrap-theme.min.css&quot;/&gt;\n",
              "    &lt;link rel=&quot;stylesheet&quot; href=&quot;https://maxcdn.bootstrapcdn.com/font-awesome/4.6.3/css/font-awesome.min.css&quot;/&gt;\n",
              "    &lt;link rel=&quot;stylesheet&quot; href=&quot;https://cdnjs.cloudflare.com/ajax/libs/Leaflet.awesome-markers/2.0.2/leaflet.awesome-markers.css&quot;/&gt;\n",
              "    &lt;link rel=&quot;stylesheet&quot; href=&quot;https://cdn.jsdelivr.net/gh/python-visualization/folium/folium/templates/leaflet.awesome.rotate.min.css&quot;/&gt;\n",
              "    \n",
              "            &lt;meta name=&quot;viewport&quot; content=&quot;width=device-width,\n",
              "                initial-scale=1.0, maximum-scale=1.0, user-scalable=no&quot; /&gt;\n",
              "            &lt;style&gt;\n",
              "                #map_32cb15647663bad788e59ba8540c2dea {\n",
              "                    position: relative;\n",
              "                    width: 100.0%;\n",
              "                    height: 100.0%;\n",
              "                    left: 0.0%;\n",
              "                    top: 0.0%;\n",
              "                }\n",
              "            &lt;/style&gt;\n",
              "        \n",
              "    &lt;script src=&quot;https://cdn.jsdelivr.net/gh/python-visualization/folium@master/folium/templates/leaflet_heat.min.js&quot;&gt;&lt;/script&gt;\n",
              "&lt;/head&gt;\n",
              "&lt;body&gt;\n",
              "    \n",
              "    \n",
              "            &lt;div class=&quot;folium-map&quot; id=&quot;map_32cb15647663bad788e59ba8540c2dea&quot; &gt;&lt;/div&gt;\n",
              "        \n",
              "&lt;/body&gt;\n",
              "&lt;script&gt;\n",
              "    \n",
              "    \n",
              "            var map_32cb15647663bad788e59ba8540c2dea = L.map(\n",
              "                &quot;map_32cb15647663bad788e59ba8540c2dea&quot;,\n",
              "                {\n",
              "                    center: [0, 0],\n",
              "                    crs: L.CRS.EPSG3857,\n",
              "                    zoom: 1,\n",
              "                    zoomControl: true,\n",
              "                    preferCanvas: false,\n",
              "                }\n",
              "            );\n",
              "\n",
              "            \n",
              "\n",
              "        \n",
              "    \n",
              "            var tile_layer_5335793a5ede5d7fdde0ba025e8b7eae = L.tileLayer(\n",
              "                &quot;https://{s}.tile.openstreetmap.org/{z}/{x}/{y}.png&quot;,\n",
              "                {&quot;attribution&quot;: &quot;Data by \\u0026copy; \\u003ca href=\\&quot;http://openstreetmap.org\\&quot;\\u003eOpenStreetMap\\u003c/a\\u003e, under \\u003ca href=\\&quot;http://www.openstreetmap.org/copyright\\&quot;\\u003eODbL\\u003c/a\\u003e.&quot;, &quot;detectRetina&quot;: false, &quot;maxNativeZoom&quot;: 18, &quot;maxZoom&quot;: 18, &quot;minZoom&quot;: 0, &quot;noWrap&quot;: false, &quot;opacity&quot;: 1, &quot;subdomains&quot;: &quot;abc&quot;, &quot;tms&quot;: false}\n",
              "            ).addTo(map_32cb15647663bad788e59ba8540c2dea);\n",
              "        \n",
              "    \n",
              "            var heat_map_52114ff6eff026e4dbcf2dabc648fd94 = L.heatLayer(\n",
              "                [[32.84455, -117.11893], [33.41236, -84.16237], [33.877725, -118.133913], [33.416872, -84.603125], [38.933052, -94.630235], [28.609575, -81.415572], [34.235927000000004, -117.219801], [44.05438, -123.35045], [39.66075, -104.83926], [34.130031, -117.925573], [25.794325, -80.238373], [33.57855, -84.3503], [35.18647, -80.92121], [34.135582, -117.996607], [36.878024, -76.491161], [39.125862, -121.571663], [43.14949, -123.3721], [39.165594, -122.411257], [36.086037, -86.69996400000002], [26.315286, -81.804932], [38.889, -76.84567], [32.194608, -110.84108700000002], [33.974340000000005, -118.22652], [34.543423, -120.195586], [33.925158, -118.210103], [29.025619, -82.168243], [39.145005, -122.07858600000002], [33.391167, -117.233747], [39.431266, -76.26530699999998], [25.782772, -80.359978], [32.237281, -110.928127], [45.39154, -92.85681], [32.916677, -96.817006], [39.118655, -77.078136], [44.83253300000001, -117.538479], [45.80175, -119.43225], [42.962746, -85.589939], [34.707334, -82.242662], [34.01073, -118.1588], [26.16471, -80.203079], [34.021931, -118.164527], [43.61218, -70.36486], [38.33391, -85.82248], [44.48597, -92.979494], [38.92069, -77.49731], [32.786541, -96.805243], [33.929953999999995, -118.281052], [27.916518, -82.765467], [42.72908, -73.699496], [37.320717, -77.756112], [36.735437, -119.889749], [37.849201, -122.489611], [34.060631, -117.545181], [25.551691, -80.37208299999998], [33.460724, -112.012544], [34.179483000000005, -118.393432], [40.892415, -76.913349], [33.87592, -118.16321], [33.92564, -118.32161], [34.60693, -82.527893], [34.016341, -118.483554], [38.60384000000001, -121.50682], [37.470513, -77.428411], [42.876953, -78.87049300000002], [38.419943, -121.393851], [37.81494, -121.993459], [32.909224, -96.745455], [34.407376, -118.579367], [40.571812, -74.190169], [29.676506, -95.481855], [33.348301, -117.519475], [35.564303, -121.081552], [33.908505, -84.429777], [32.216887, -98.209667], [45.271295, -118.028115], [32.811582, -96.651323], [40.76876, -73.88205], [41.318784, -73.748198], [44.066237, -123.049074], [37.614, -76.43324], [33.818822999999995, -81.189764], [38.550839, -121.428681], [33.789526, -81.477772], [38.724923, -77.893029], [41.85731, -88.14627], [42.486447, -83.270218], [34.150312, -117.478963], [40.870353, -73.978053], [25.888174, -80.164039], [27.821027, -82.679603], [27.775945, -82.335061], [29.125472, -82.21033800000002], [30.93585, -84.52183000000002], [29.590999, -81.879994], [30.399037, -91.017308], [41.79241, -87.58034], [39.8678, -84.92442], [35.850886, -80.112718], [33.773235, -117.827056], [38.735741, -120.666888], [25.714569, -80.414261], [34.07264, -117.7761], [39.43309, -75.86115], [39.902661, -123.751466], [28.78673, -81.35013000000002], [25.883893, -80.243208], [39.799128, -86.034263], [29.963161, -90.112869], [25.938449, -80.188624], [40.199984, -74.753217], [34.06899, -118.46328], [37.21113, -76.58428], [34.201759, -118.21948799999998], [34.054256, -118.004167], [47.75333, -122.18625], [34.156461, -118.247684], [35.401385, -119.080224], [40.491704, -74.392622], [43.08986, -88.00415], [39.809974, -86.275288], [45.682325, -118.732225], [25.912986, -80.211771], [38.705595, -120.599402], [39.959695, -75.18083299999998], [34.067612, -118.708308], [35.39867, -82.50593], [33.864644, -118.326397], [30.435454, -87.270725], [30.387125, -87.084354], [34.0687, -117.839494], [43.13519, -86.2108], [36.829358, -76.314856], [45.420836, -122.5721], [45.11075200000001, -123.324647], [40.708558, -73.819532], [45.432713, -122.654933], [43.111993, -85.608762], [47.530139, -122.27], [35.029383, -82.10053], [36.447689, -119.108762], [45.087361, -123.404106], [28.447605, -81.401664], [35.71497, -119.23597], [30.302071999999995, -81.640883], [38.879959, -121.113281], [34.98665, -85.20204], [25.808789, -80.25039100000002], [45.708876, -111.061532], [25.885305, -80.164902], [36.60178, -119.657071], [33.9344, -117.55588], [33.977097, -117.920116], [38.351935, -121.340446], [38.69287, -121.351608], [33.946939, -118.368242], [34.42672, -117.38018999999998], [37.410794, -121.147766], [34.031265000000005, -117.914742], [45.460373, -122.57903799999998], [33.237215, -87.56470300000002], [33.981294, -118.07541299999998], [47.777679, -122.325799], [41.216599, -111.948324], [43.086834, -78.889531], [38.220449, -81.44844], [35.640039, -78.832223], [47.197265, -121.060897], [37.978597, -120.336916], [34.334628, -119.139664], [34.051306, -118.222148], [40.800962, -73.279394], [32.68269, -97.24062], [37.032367, -76.366129], [39.868623, -75.308479], [25.881818, -80.242974], [40.178446, -75.432232], [45.535476, -122.584701], [25.940383, -80.191086], [29.722899, -95.37608], [36.112258, -86.811112], [28.45247, -80.98398], [47.436935, -122.218558], [25.684099, -80.400543], [32.654253000000004, -117.070301], [37.079666, -119.334469], [39.175868, -78.05206899999997], [34.028288, -118.274325], [35.880864, -84.508155], [29.369826, -98.517246], [37.702256, -121.744729], [34.058341, -118.244351], [33.737455, -117.98831], [34.15278, -118.34437], [29.65806, -95.5834], [45.17798, -93.306766], [39.90395, -75.19784], [27.987297, -82.827696], [43.06217, -88.4473], [33.823807, -118.290215], [33.29005, -92.67398], [45.04322, -123.20711], [40.85333, -73.96133], [44.044342, -116.97918], [33.984905, -118.13992], [37.25536500000001, -121.864013], [38.881698, -111.572438], [34.015601000000004, -118.134554], [28.554372, -81.39560300000002], [30.45877, -81.64273100000003], [25.89842, -80.34046], [38.917323, -76.976713], [34.09152, -118.14149], [34.029709999999994, -118.224728], [28.482248, -81.396664], [39.343163, -76.68383], [38.654361, -121.036698], [33.967651000000004, -118.162393], [39.789637, -75.049077], [47.046171, -122.831299], [37.333542, -122.07273899999998], [40.68905, -73.809101], [42.49561, -82.92294], [27.83753, -82.72840699999998], [42.896483, -123.24228], [37.217849, -77.388092], [43.126365, -77.642696], [36.00300700000001, -105.933297], [33.819018, -117.717272], [33.912338, -84.37913], [28.438076, -81.367304], [34.612541, -83.224928], [25.845246, -80.225351], [38.807619, -77.155416], [36.726141, -76.632871], [43.179048, -77.616364], [36.317317, -86.713207], [40.090354, -75.13350600000003], [38.879449, -77.246792], [39.23451, -120.754695], [38.475177, -121.396231], [36.157614, -86.759833], [38.766149, -76.994472], [43.070558, -120.827475], [38.47291, -77.952793], [40.72434000000001, -111.94425], [38.727074, -121.287602], [40.803858, -124.153687], [40.676729, -74.00138199999998], [39.768642, -104.99389], [43.073327, -75.505655], [34.023706, -118.436611], [35.806082, -78.724695], [33.87201, -118.28513], [38.30032, -77.50444], [40.68716, -74.27345], [36.079026, -86.96085], [37.87237, -122.30533], [25.686817, -80.31416], [38.84816, -77.42255300000002], [33.994071000000005, -117.885299], [44.861801, -93.511301], [39.715962, -105.001959], [29.698409, -95.471994], [32.112339, -86.45882900000002], [26.09254, -80.22421700000002], [45.61754000000001, -119.476713], [33.997245, -117.83954], [29.499240000000004, -95.11167], [40.019406, -75.14625799999997], [37.500836, -77.283039], [39.242355, -94.521102], [36.25644000000001, -86.75788], [36.783799, -119.784681], [39.04726, -94.67876], [40.652747, -74.450792], [33.887322999999995, -118.343818], [37.08335200000001, -120.346931], [30.443417, -87.285271], [29.67786, -95.41142], [39.046682, -94.433682], [32.630757, -86.491445], [27.11178300000001, -82.31984200000002], [45.387305, -122.750898], [33.875778000000004, -118.344169], [33.38395, -117.57883], [36.75354, -120.168395], [37.82617, -122.27674], [44.906815, -93.27463], [41.435052, -122.387056], [30.447594, -91.138859], [28.659604, -81.822529], [45.26991500000001, -122.31434099999998], [44.474225, -117.341331], [38.84101, -77.12120999999998], [25.973355, -80.18275600000003], [33.8772, -118.14545], [36.298156, -94.174825], [42.33117, -71.06211], [39.856628, -75.357102], [35.171013, -80.807859], [32.749747, -97.310518], [34.322969, -117.482229], [40.090215, -75.093692], [41.19349, -111.1173], [34.33373, -119.087131], [29.44176, -98.478516], [36.067211, -95.922077], [36.268391, -115.2788], [42.857825, -78.720421], [34.134219, -117.635417], [40.76742, -73.57316999999998], [25.966722, -80.16575300000002], [25.942465, -80.18829699999998], [38.22278, -85.57359], [41.38593, -73.600175], [34.049648, -118.263811], [44.853773, -93.39464], [47.62695, -122.32838], [34.03535, -118.328909], [37.749698, -122.151348], [33.825348, -118.218544], [35.9475, -80.8512], [34.000727000000005, -117.426695], [40.5935, -111.9027], [30.466963, -86.92863], [32.693020000000004, -117.121694], [34.133931, -79.772576], [45.08849, -93.42281], [44.950915, -93.105], [32.776340000000005, -96.62405], [45.325163, -121.711107], [25.76182, -80.337716], [34.01547, -118.0555], [38.085919, -78.991924], [39.1737, -84.49091999999997], [35.1155, -80.82398], [45.691899, -121.686451], [35.021884, -82.34615699999998], [41.217755, -75.47789300000002], [30.430191, -91.056703], [36.342625, -117.481849], [33.09385, -87.67268], [28.44907000000001, -81.264953], [30.251702, -81.45865500000002], [38.243576, -122.268718], [45.192813, -123.193553], [37.30165, -121.81545], [41.702872, -93.57633], [32.917732, -96.745165], [34.0806, -118.29402], [25.598565, -80.35525200000002], [40.889214, -73.815186], [42.874078, -78.859892], [45.50442, -122.95535], [42.642252, -122.80897], [27.91971, -82.60977], [38.592451, -121.406648], [36.0776, -79.94981], [45.28923, -122.76928999999998], [32.749603, -96.916858], [34.140025, -80.754522], [37.638013, -121.324409], [33.349069, -111.954463], [33.982403000000005, -117.891853], [35.634266, -80.000668], [33.892571999999994, -118.284462], [37.699597, -121.785043], [39.862354, -75.100565], [36.142414, -86.710277], [40.74034, -112.189174], [47.45872, -122.26294], [40.454331, -80.11117800000002], [33.090716, -79.927284], [37.045581, -122.055687], [25.88204, -80.353983], [45.564819, -94.1425], [35.33462100000001, -80.715699], [28.385901, -81.505319], [38.0977, -103.8307], [28.612235, -81.41769599999998], [39.869192, -75.041911], [43.71697800000001, -94.135177], [33.147524, -96.649344], [38.867257, -77.04871700000002], [36.11736, -95.922358], [47.44868, -111.28978700000002], [42.25182, -73.88238], [26.162854, -80.202991], [40.32685, -104.418235], [34.577222, -118.700556], [37.629822, -77.458646], [33.763472, -117.865201], [40.823895, -73.822189], [38.061028, -112.694651], [34.067713, -117.592109], [34.227920000000005, -118.39076], [33.163368, -117.342155], [33.483596, -86.82621800000004], [34.006558, -117.821862], [25.626391, -80.412993], [40.29771, -122.321446], [36.07239600000001, -79.267827], [37.75041, -121.57626], [33.956433000000004, -117.306314], [36.25717, -115.24813], [33.925069, -118.20989], [38.608393, -121.328874], [33.92167, -117.28874], [44.103122, -92.513755], [38.903692, -77.943931], [39.53414, -77.920006], [34.01465, -118.16834], [40.69986, -111.88549], [41.341499, -72.974056], [43.312321, -121.76775], [40.86661, -73.93211], [34.013193, -118.158398], [43.115322, -77.59698900000002], [34.8745, -120.413307], [35.23515, -113.99372], [43.45611, -123.32533], [30.44135, -91.138245], [30.441326, -91.012227], [40.640476, -74.20525400000002], [38.540304, -77.34916199999998], [45.53377, -122.62556], [39.689151, -84.22049399999999], [38.141497, -122.236703], [36.202409, -119.818498], [40.434537, -80.008075], [30.65180100000001, -87.75689], [28.858813, -82.09164], [45.030801, -110.70731200000002], [45.37039, -122.70579], [40.68285, -73.669764], [33.133990000000004, -97.04373], [39.905949, -74.975662], [28.454852, -81.474517], [37.53708, -77.2783], [43.976454, -124.069748], [33.972873, -117.694683], [39.76117, -105.00477], [42.15421, -88.12832], [38.031469, -121.258006], [34.112967, -117.302809], [40.04163, -75.49528000000002], [38.175687, -120.392762], [41.605737, -89.181888], [39.869367, -75.31503000000002], [38.584811, -121.503027], [42.261139, -74.398173], [37.470924, -120.940055], [34.00202, -117.834878], [40.533109, -75.4049], [35.777518, -78.204303], [25.928819, -80.26080400000002], [43.060305, -83.802741], [40.500282, -111.41318400000002], [37.70078, -122.02652], [34.038463, -118.02102], [35.42653, -80.91781], [33.806102, -117.905886], [36.627656, -121.58757], [34.083347, -118.474629], [45.093573, -93.188038], [28.473451, -81.396745], [33.488756, -112.264007], [32.449311, -84.928275], [45.02011, -93.05144], [33.94981, -117.38563], [40.15318, -75.35220100000002], [39.734963, -105.363725], [30.519262, -87.296876], [38.994845, -78.255583], [42.73535, -123.3705], [33.681020000000004, -117.85278], [38.801135, -121.020231], [38.022798, -121.965869], [40.72827, -73.97176999999998], [40.442359, -111.483969], [34.05125, -118.26109], [48.070548, -122.817403], [30.8245, -88.0699], [41.85981500000001, -72.71119300000002], [37.558857, -77.415436], [33.206678000000004, -117.384711], [43.058525, -77.486288], [37.110813, -76.456215], [38.126217, -122.228404], [40.20205, -75.2554], [25.59865, -80.35243299999998], [39.28868, -76.6353], [37.81904, -122.25362], [45.069512, -93.297454], [45.513689, -122.701698], [34.451526, -119.76178], [34.907841999999995, -82.24811], [37.663455, -122.076532], [32.74127, -96.826469], [34.155508000000005, -118.401024], [32.91722, -96.76663], [33.865855, -117.261232], [47.598942, -95.811134], [36.12616, -115.18043], [27.981497, -82.35120699999997], [42.955051, -76.98943], [42.47603, -83.11779], [29.154963, -82.19382], [41.76169, -87.62589], [34.044229, -118.167042], [40.941408, -73.751374], [25.575622, -80.372399], [34.067417, -117.435747], [33.193899, -87.47272099999998], [34.509949, -93.195601], [40.74318, -74.15639], [44.809263, -94.712011], [40.070089, -76.31583], [29.921084000000004, -90.02744], [28.478040000000004, -82.48056], [39.330338, -120.187193], [25.732155, -80.38143000000002], [35.401582, -119.40073], [35.80207, -78.40160999999998], [38.974089, -92.509283], [33.732768, -117.989652], [39.813995, -84.247289], [28.069724, -82.738976], [37.266944, -77.322367], [36.003023, -83.780096], [42.76073, -73.757733], [45.43257, -122.57927], [37.874444, -122.306292], [26.696634000000003, -81.852981], [37.944713, -122.514715], [37.694796, -113.062622], [43.987555, -117.092267], [30.222433, -81.514145], [40.768858, -123.12188], [34.06629, -117.119166], [34.071938, -118.266923], [39.986275, -76.668573], [33.848308, -84.36823000000003], [26.37208, -80.17079], [46.511752, -114.066749], [39.152099, -77.54042700000002], [30.367392, -97.789496], [32.412626, -93.797311], [30.615389, -87.323114], [32.699721999999994, -117.094699], [33.716190000000005, -84.252139], [30.090168, -90.446931], [40.89868, -74.70243], [37.058281, -120.597923], [32.769677, -96.682628], [37.623046, -77.50338199999999], [35.18582, -80.746942], [33.916181, -81.061557], [39.224601, -76.518552], [41.81068, -87.63031], [36.03853, -86.601963], [43.142024, -77.543968], [36.875817, -76.19801600000002], [33.965843, -118.225193], [40.649317, -74.199911], [39.831701, -75.427424], [36.738442, -119.823621], [28.516699, -81.38821], [33.845974, -118.092568], [33.882282000000004, -117.588033], [33.925105, -80.285691], [42.760656, -73.756668], [27.877086, -82.326802], [38.867708, -77.315586], [42.04016, -121.87148], [42.151835, -122.626072], [38.228621, -78.9768], [36.108767, -86.744084], [35.383471, -119.198784], [32.737651, -97.062182], [28.190801, -82.397188], [45.76376, -108.4884], [44.809935, -123.027519], [27.38857, -82.45208000000002], [35.428075, -97.48604], [40.810205, -74.18089499999998], [43.092308, -75.899502], [42.262054, -71.045161], [47.446464, -122.21608700000002], [36.645104, -81.98736600000002], [39.499765, -119.998308], [38.354368, -121.978342], [40.26552, -103.81936], [33.51079, -86.79238000000002], [38.364204, -76.977456], [37.8459, -122.24781000000002], [37.305861, -79.308648], [47.707433, -122.330074], [34.079407, -117.738386], [38.679287, -121.22573], [38.56455, -121.3364], [41.75009, -72.71515], [33.054327, -80.165249], [34.153197, -118.367553], [33.025792, -83.905838], [43.264502, -123.2098], [33.462215, -112.260685], [34.969551, -81.903479], [39.729748, -86.26556], [30.306516, -81.644726], [38.8688, -77.047], [44.696522, -123.05198], [30.27447, -97.743068], [30.31571, -81.672876], [44.909698, -93.065053], [34.094749, -117.98796000000002], [33.972873, -117.694683], [33.951981, -118.218226], [40.76873, -73.94898], [34.038141, -118.182254], [34.11758, -117.30239], [33.572066, -81.525309], [28.194876, -82.386227], [34.154552, -118.468054], [27.962038, -82.746131], [34.085614, -117.689069], [39.16134, -76.7214], [41.14165300000001, -73.430696], [37.257224, -121.954604], [37.939771, -122.324942], [34.210781, -118.347084], [43.110126, -75.18095100000002], [34.030892, -118.194223], [34.027588, -118.452593], [33.774079, -118.041311], [36.538585, -117.213939], [45.53196, -122.63329], [29.57248, -98.32804], [41.09994, -112.00054], [36.0987, -86.76356], [37.809467, -120.303549], [39.759149, -84.16991], [38.675876, -121.952115], [30.327909, -86.126325], [44.097097, -123.128742], [33.87048, -117.742998], [44.310251, -93.308784], [39.364342, -77.39981999999998], [37.739737, -121.39824], [33.980709000000004, -117.340377], [29.734539, -95.386916], [40.201486, -75.167816], [33.916293, -118.104641], [40.773557, -76.215537], [40.638797, -77.479632], [42.39197, -83.0042], [35.248163, -82.323871], [35.64464500000001, -120.399782], [37.257009, -121.795753], [28.452655, -80.931607], [33.470073, -112.038735], [38.87698, -77.27486], [40.701293, -73.993802], [45.51521, -122.87955], [33.821822999999995, -117.519468], [33.350396999999994, -111.78964], [42.24475, -88.03486600000002], [32.716087, -117.117919], [32.677571, -96.731189], [30.249154, -97.767348], [34.072038, -117.907502], [35.80782, -78.615332], [36.224882, -115.27899], [40.367621, -76.938704], [34.13565, -117.96663], [41.56372, -73.058274], [25.700184, -80.40880200000002], [34.112315, -117.881452], [34.671274, -92.417474], [44.90585, -93.909963], [30.20077, -85.624895], [37.250172, -93.26609], [34.04827, -118.266073], [36.984823, -77.39286899999998], [41.75284, -71.43878000000002], [32.205031, -82.363096], [39.17665, -94.56266], [33.476591, -112.043809], [25.627116, -80.3418], [35.83691, -78.66492], [39.368769, -76.717559], [34.953298, -80.85039599999998], [45.27644, -122.7727], [35.80148, -78.5151], [34.225059, -117.409632], [44.027076, -123.832264], [35.706564, -82.57042], [33.98669, -117.869901], [33.18945, -117.36142], [28.45818, -81.398674], [26.012781, -80.343242], [30.58207, -87.17975899999998], [33.799765, -117.359399], [28.551194, -81.475778], [47.42378, -122.22127], [39.741064, -105.496342], [33.95701, -117.549091], [41.995083, -73.875603], [26.689390000000003, -81.901336], [43.664157, -123.437854], [34.004369, -117.403968], [42.18265, -87.95546], [40.748283, -73.614856], [36.940197, -121.797801], [41.275023, -112.02609], [45.48273, -122.56581], [36.619679, -119.574761], [42.218791, -73.914017], [38.83684, -77.446967], [35.3058, -80.7496], [30.474346, -83.884037], [30.429006, -83.452416], [32.19216, -110.8752], [29.797349, -95.569883], [40.73475, -73.76697], [35.082183, -89.897205], [40.428669, -74.230195], [37.319194, -122.048395], [29.484925, -81.558351], [34.237714000000004, -117.270197], [34.155691, -118.241573], [32.365972, -86.271372], [42.42847, -83.0942], [25.890784, -80.372129], [34.030419, -117.616142], [34.438681, -118.610551], [47.77188, -122.32031], [40.179934, -75.440747], [38.83544000000001, -77.18321999999998], [42.47603, -83.11779], [32.33747, -111.02949], [39.720374, -80.53195600000002], [25.948267, -80.194227], [38.39946, -81.89968], [32.768197, -96.806372], [34.172307, -118.570928], [28.552652, -81.443467], [34.373113000000004, -80.04531999999998], [40.85333, -73.96133], [47.371187, -122.781985], [28.088104, -82.456497], [45.54332700000001, -122.516457], [33.46258, -112.204131], [40.85333, -73.96133], [30.324568, -91.008477], [28.371674, -81.50954], [40.454758, -74.399906], [33.90312, -118.06242], [39.921311, -104.98759], [33.913377000000004, -118.125], [25.461523, -80.487913], [25.704188, -80.29095799999997], [25.810799, -80.36940600000001], [29.93756, -95.46695], [37.974424, -77.49271], [25.990036, -80.166009], [30.439673, -91.18884], [38.775024, -77.688152], [25.809545, -80.25865300000002], [25.915279, -80.292721], [33.77828, -117.86037], [35.017836, -85.178308], [27.808191, -82.728555], [41.14786, -112.06445], [35.830505, -78.618788], [32.83999, -117.22241499999998], [29.967197, -90.065313], [41.04153, -73.79359000000002], [38.563522, -121.638466], [32.925134, -96.78748], [43.11519000000001, -76.14551], [37.821924, -122.259336], [39.862679, -76.225184], [35.396372, -118.934458], [44.773659, -117.809795], [35.11257, -80.88483000000002], [38.002857, -122.280813], [39.872592, -75.078409], [37.95923, -122.3308], [32.745185, -117.188503], [29.990886, -90.058725], [37.770333, -121.173764], [36.546773, -119.57514], [27.771967, -80.55076], [46.341307, -67.841889], [39.438639, -120.020842], [39.39491, -76.54515], [34.235229, -117.66141], [43.33622, -124.19852], [38.859444, -77.362037], [38.568531, -121.469146], [28.33282800000001, -81.49005], [25.925838, -80.16800699999997], [32.717172, -117.117894], [28.218055, -82.458596], [38.953043, -94.908755], [42.4655, -87.88169], [40.860933, -73.975657], [34.01957, -118.05037], [38.717336, -121.37551299999998], [34.995421, -85.235389], [40.425069, -111.48977], [41.81712, -88.07167], [25.657503, -80.397675], [39.976673, -75.19733599999998], [33.063802, -96.691501], [30.42382000000001, -91.14654], [43.19594, -88.12711999999998], [41.66191, -88.11239], [27.406197, -82.56868], [43.832103, -94.427941], [41.77097, -72.67856], [36.830838, -76.303342], [41.698427, -72.64422900000002], [25.885611, -80.164811], [29.81145900000001, -95.48503], [38.029227, -122.537463], [35.863689, -78.71361999999998], [29.72737, -95.5576], [41.045881, -73.76954], [25.902931, -80.235629], [34.7619, -92.26222], [33.869015000000005, -117.730573], [47.57693, -122.31978], [34.43868, -82.66334599999998], [35.307966, -77.96378], [33.968971, -118.372467], [43.314317, -123.347657], [39.270962, -76.722089], [40.37524000000001, -104.99217], [38.9343, -94.68639], [41.383405, -87.326234], [46.722564, -92.234392], [37.326692, -121.94071], [29.98682, -95.276008], [38.57533, -121.467118], [37.617032, -122.15443700000002], [25.901241, -80.18698499999998], [38.523826, -121.467222], [47.301972, -122.573712], [43.680599, -94.504877], [30.237692, -97.725747], [38.18532, -109.38149], [34.315657, -118.960941], [37.621437, -122.07731499999998], [40.530637, -122.109925], [38.76999, -90.493751], [38.103826, -122.601333], [45.022016, -93.400651], [35.00646, -89.98988], [28.452192, -81.400388], [35.897773, -78.60933399999998], [35.115902, -80.986954], [38.880231, -122.613065], [32.583764, -117.088583], [40.317924, -74.305808], [41.51728, -73.0492], [37.514716, -122.108005], [29.427197, -98.500758], [38.51038, -121.46457], [40.937225, -124.100922], [34.999969, -119.41167], [36.16129, -95.99525], [33.83935, -118.26354], [37.649462, -122.09132], [34.156918, -118.448685], [27.857458, -82.700249], [42.24717, -87.87169], [37.823127, -122.291554], [37.458819, -122.137895], [33.410395, -117.162236], [37.105046, -121.014994], [37.90192, -121.25481299999998], [29.63968, -95.24215], [39.14674, -84.45402], [26.62072, -80.17385999999998], [38.12916, -77.51255], [34.73855, -92.26221], [33.17334, -117.348856], [34.277333, -119.29838], [42.0141, -91.66671], [44.894941, -93.13136], [35.25626, -80.65425], [34.001494, -117.351933], [36.446913, -119.485434], [35.78863, -78.64715], [41.932208, -72.594813], [37.356888, -121.869014], [34.8857, -82.45630799999998], [35.81208, -80.861136], [25.572286, -80.377155], [25.703319, -80.290735], [38.859405, -77.369934], [37.809088, -120.665399], [34.053044, -118.228279], [40.2258, -111.6767], [40.128923, -75.325491], [33.078062, -80.259731], [28.551918, -81.49074], [28.39573900000001, -81.254103], [40.633978000000006, -75.470588], [40.861705, -73.974584], [33.773638, -118.007314], [35.08478, -80.87385], [43.080139, -121.82507], [38.520495, -122.656524], [25.684604, -80.400559], [43.4143, -71.9015], [34.452907, -117.06318], [39.30464, -76.58551], [32.698413, -96.628264], [40.13041, -75.304036], [30.454193, -91.167315], [37.450415, -77.44124000000002], [33.183377, -117.291363], [25.781565, -80.355276], [43.063411, -76.159082], [39.014607, -76.907547], [37.64876, -122.09684], [34.471398, -81.924223], [46.120281, -92.887995], [38.916121, -120.690873], [32.468555, -93.80687], [32.861913, -96.665626], [33.48520300000001, -111.888601], [36.748959, -119.776073], [38.482276, -121.334878], [33.86567, -118.1975], [38.944612, -94.374114], [41.524829, -72.799882], [28.200424, -80.596662], [43.85515, -117.60595], [27.462663, -82.62431600000002], [40.515292, -78.365596], [45.122105, -93.482582], [36.832146, -77.939679], [27.286641, -82.53076300000002], [38.790549, -121.291681], [31.24502, -89.326432], [39.28765, -77.32972], [35.81569000000001, -78.69215600000003], [26.039775, -80.21391700000002], [37.327697, -120.85248500000002], [36.054995, -118.988352], [43.157404, -77.67154000000002], [34.105228000000004, -118.253814], [28.633618, -81.387519], [35.57139, -82.96263], [38.90081, -77.0706], [39.142778, -123.196098], [39.80963, -104.98308], [32.106653, -86.464129], [43.14378, -77.632841], [47.638671, -122.007619], [26.533879, -80.073604], [44.512777, -93.288392], [25.80803, -80.31314499999998], [29.841006, -95.51502], [40.739623, -73.846779], [26.558436, -80.07001899999999], [32.721025, -117.117043], [37.36548, -121.90501], [38.1566, -85.56099], [34.128062, -117.687526], [35.891511, -78.56056600000002], [39.27956500000001, -76.727389], [39.70121, -121.785689], [34.031109, -118.435277], [33.858209, -117.331341], [36.350006, -119.049539], [33.941178, -118.096711], [38.754142, -121.264051], [34.030468, -117.59341299999998], [40.126288, -86.454438], [40.31202, -111.717433], [44.229551, -93.277771], [44.9649, -93.25141], [37.754289, -121.36178999999998], [27.5593, -80.674699], [42.986639, -85.67759699999998], [41.439552, -75.699177], [37.57835, -120.941637], [34.010285, -117.961181], [39.237741, -120.029731], [36.116238, -86.81054499999998], [44.924602, -95.705167], [30.288351, -81.989303], [36.648779, -119.781829], [33.743846000000005, -84.356978], [45.063796, -93.301029], [42.503639, -122.903669], [41.363257, -78.553573], [38.639514, -121.383389], [30.448412, -91.249307], [40.335484, -75.938125], [25.768967, -80.415436], [26.040118, -80.163577], [33.677605, -114.061104], [38.871983, -77.161465], [34.157877, -117.352942], [45.04412, -123.95376], [28.48095, -81.458694], [26.146076, -80.451217], [39.43972, -77.40553], [33.797055, -117.896165], [44.783991, -123.22893899999998], [38.896044, -77.214799], [41.68398, -87.72006], [38.325642, -121.297387], [38.567086, -121.507984], [33.500964, -81.941728], [30.39006, -97.646829], [36.923836, -120.062831], [33.181399, -97.101127], [33.52366, -112.0996], [45.214993, -93.416327], [36.191872, -86.780587], [33.77664, -117.90086], [35.880457, -84.232445], [38.636422, -121.411475], [25.797175, -80.320798], [41.860583, -77.547737], [39.341739, -120.341535], [35.82959, -78.75954], [25.921625, -80.155017], [34.073705, -81.156626], [32.980351, -117.253123], [25.689166, -80.35015200000002], [38.41273, -81.5625], [36.1109, -86.74446999999998], [45.690969, -121.772965], [42.833309, -73.931848], [31.201809, -90.362088], [32.786906, -96.791409], [29.969505, -90.06862], [33.961654, -118.281522], [38.840108, -76.866701], [38.886677, -77.013312], [34.107336, -117.53113], [33.910976, -117.88374], [30.507328, -87.071737], [39.221288, -121.457905], [33.483344, -112.196523], [37.147897, -93.271914], [28.191273, -81.14591800000002], [35.155726, -80.775423], [28.080488, -81.994309], [34.025094, -118.041122], [39.53718, -119.783943], [42.18498, -83.73895], [42.79439, -86.08719], [44.110625, -123.179128], [33.876456, -118.100626], [45.572651, -93.211323], [40.665669, -111.901231], [32.250359, -110.98694], [32.865527, -117.233678], [25.65616, -80.416814], [39.797748, -86.116772], [27.871141, -82.347404], [28.451369, -81.488116], [25.889339, -80.165094], [45.22477, -123.08138999999998], [34.422725, -119.660773], [35.097005, -80.940947], [42.91421, -78.76655], [37.806631, -120.669289], [39.47887, -104.8724], [35.44037, -97.53016], [35.557969, -119.358505], [25.94267300000001, -80.203561], [28.829803, -81.325383], [33.115592, -97.030218], [33.857124, -117.98131399999998], [37.484092, -122.239942], [43.702427, -124.09687], [37.65992, -122.10354], [35.601548, -119.326929], [33.045338, -80.09446], [33.84973, -118.285063], [39.837445, -75.099438], [39.70396, -86.09142], [41.763356, -72.695363], [38.579141, -121.560624], [28.453387, -81.40002700000002], [38.685554, -77.22791], [34.152405, -81.25354399999998], [39.058134, -77.073452], [29.449241, -95.994149], [33.89171, -84.45661], [29.845547, -95.390047], [32.993327, -117.25633899999998], [37.881275, -122.050402], [35.7776, -119.252734], [35.254572, -82.407276], [48.236797, -122.319127], [42.221056, -73.831563], [28.02085, -82.185138], [33.87679, -118.10739], [36.861111, -121.583056], [36.923587, -120.056026], [38.660909, -121.355163], [30.368297, -91.07174], [34.87807, -82.04763], [33.989208000000005, -118.062964], [38.55163, -121.4324], [28.499039, -81.285341], [42.74691, -84.473291], [28.425243, -81.474407], [29.918503, -90.044641], [45.857111, -84.73176], [35.975066, -78.54005699999998], [27.806528000000004, -82.676727], [33.98407, -118.2807], [34.2572, -118.60605], [37.54583, -77.54911], [35.235868, -80.839086], [32.905083000000005, -85.898196], [39.232231, -76.64960500000002], [34.937599, -118.145108], [28.423977, -81.404782], [34.073291, -80.985536], [28.876909, -81.282445], [36.758483, -121.745893], [34.030476, -117.584593], [25.654473, -80.41564], [32.821290000000005, -96.87032], [37.32914, -122.01124], [34.014607, -117.55011], [39.410015, -76.414004], [44.858834, -93.328915], [38.253157, -122.33096100000002], [32.787112, -117.114131], [29.134892, -81.352501], [35.146393, -80.924829], [30.438935, -91.187305], [38.664697, -121.336711], [26.639952, -81.566078], [47.42256, -115.633281], [36.774495, -76.45059599999998], [34.064091999999995, -117.296571], [32.591489, -93.332945], [33.88413, -118.028821], [39.590618, -86.229564], [33.919262, -118.306744], [44.876396, -93.350375], [43.094192, -75.806893], [37.835037, -122.009117], [34.062104, -118.457146], [37.616577, -121.029885], [36.836027, -119.777829], [41.07449, -85.23647], [29.47995, -98.36166], [28.187655, -82.454325], [29.816138, -95.262332], [38.594466, -121.383079], [36.268646, -119.181101], [34.133792, -118.275485], [36.543728, -119.289242], [34.130642, -81.385869], [35.82550399999999, -78.370231], [40.113551, -76.249629], [35.97142, -119.357695], [36.210894, -119.296083], [38.663757, -121.343475], [30.175077, -97.833024], [41.61688, -72.69593499999998], [30.40764, -91.101797], [34.05165, -118.21391], [38.218249, -85.65809300000002], [34.0833, -118.2217], [37.406786, -77.68282099999998], [33.821361, -118.290326], [26.936662, -80.150439], [45.36589, -93.960223], [34.071183000000005, -118.144316], [35.338912, -118.84319], [32.856845, -96.888261], [38.55389, -121.40801], [34.565759, -80.03502900000002], [45.124662, -93.48369], [38.94041, -94.57836], [40.036845, -76.300985], [35.88178900000001, -78.571089], [45.531173, -122.686847], [35.22372199999999, -80.634688], [32.86821, -96.66777], [33.547270000000005, -117.67304], [42.752661, -73.769633], [37.524814, -122.007716], [38.744208, -121.19611299999998], [28.451381, -81.215862], [45.547031, -120.692206], [28.44748, -81.466024], [38.981546, -122.972357], [38.94009000000001, -104.739465], [37.951182, -120.417093], [40.7584, -73.85457], [38.876679, -76.968766], [33.389204, -86.795912], [32.497228, -82.978376], [36.766521, -119.778592], [33.87041, -117.74437], [33.675968, -79.109551], [47.05645, -93.92611], [28.47929, -81.44853], [33.957524, -118.229876], [45.02997, -123.95583], [39.336505, -78.052605], [25.6973, -80.382152], [32.23573, -110.858], [40.774767, -73.62550999999998], [37.534093, -122.278094], [39.92692, -86.06636], [32.802873, -96.626514], [34.034489, -81.013139], [34.235984, -118.413358], [38.638989, -121.336718], [40.789838, -73.792139], [34.301842, -79.629307], [33.832004, -118.084271], [35.849949, -78.579598], [40.69662, -111.941447], [38.763153, -77.459025], [38.271302, -121.454023], [35.86139, -78.680836], [33.115808, -117.098996], [33.462092, -112.059006], [25.941566, -80.306811], [41.288921, -78.502651], [33.689371, -117.767804], [33.762023, -117.472419], [27.440967, -82.459136], [38.57572, -77.315488], [39.28459, -76.54473], [40.769639, -73.880432], [34.118147, -117.842081], [45.11466, -93.18833], [32.843920000000004, -96.63466], [25.687828, -80.365871], [29.736754, -95.418795], [45.549662, -94.199575], [44.06185, -121.30705], [25.73315400000001, -80.314212], [28.055769, -82.35363199999998], [25.8588, -80.20801999999998], [36.254239, -120.252455], [37.045656, -94.496715], [34.434714, -82.142676], [41.836913, -71.518002], [47.28175, -122.30913], [34.086846, -117.685669], [34.034929, -118.025842], [25.768453, -80.336301], [34.730905, -118.237239], [42.745409, -73.77583299999998], [37.974361, -78.208011], [32.810109999999995, -96.803444], [42.89382, -83.6295], [34.06734, -117.98257], [34.121164, -117.832242], [48.385433, -114.352135], [33.149288, -117.33492], [39.095979, -94.556324], [40.956607, -73.830414], [44.91141, -92.98417], [30.16751, -81.53939], [29.954671, -90.084729], [37.893613, -121.282762], [32.710921, -117.093621], [41.473926, -73.648551], [25.83495, -80.38682], [37.65256, -77.424784], [41.687687, -91.90515], [32.7434, -97.06227], [39.996596, -75.196851], [33.668217, -117.753673], [40.568941, -79.727684], [33.182111, -117.230933], [37.729462, -122.186741], [43.273926, -73.639625], [39.828411, -86.033796], [35.708183, -79.816769], [47.289607, -93.424807], [29.931898, -95.392365], [36.153257, -86.854069], [32.81198, -96.85786], [34.273378, -118.5904], [44.905453, -93.065661], [25.947071, -80.201266], [32.969541, -96.920102], [38.509364, -121.521776], [30.334664, -81.669628], [34.054356, -118.004333], [38.653162, -90.507027], [34.777351, -92.258456], [38.397639, -77.43549399999998], [33.929041, -81.05549599999998], [33.87375, -118.2216], [34.689966, -82.834282], [28.96006, -82.12356], [45.50365, -122.67455], [40.066724, -79.249499], [42.812029, -123.257985], [40.735749, -73.858841], [33.622214, -84.42721], [32.2507, -111.0136], [35.142816, -80.8765], [39.012504, -76.495817], [29.92222000000001, -81.413901], [39.947236, -75.116316], [46.23506, -123.87196000000002], [34.976144, -81.982523], [41.24425, -111.97827], [37.757118, -122.412351], [33.661, -117.74837], [25.68383900000001, -80.40053499999998], [46.880402, -99.641679], [39.122756, -121.57852], [34.03143, -118.03037], [42.745615, -73.91825899999998], [37.73007, -122.43918], [28.098939, -80.699027], [47.771742, -122.320388], [39.392173, -77.325224], [33.815425, -118.184967], [42.437599, -122.757507], [45.021143, -117.924545], [37.605497, -77.51610500000002], [25.708543, -80.284349], [45.52661, -123.08425], [40.69837, -74.25426999999998], [34.727283, -80.702711], [44.58356, -123.06174], [28.488786, -81.417497], [36.853455, -80.86294699999998], [34.091359000000004, -119.065757], [40.29115, -74.78415], [37.489305, -121.929256], [36.079951, -78.76726], [36.798163, -119.519607], [38.446486, -121.186752], [39.796825, -121.956793], [32.657307, -97.321374], [33.462671, -112.196127], [34.140262, -118.369691], [37.638298, -120.759559], [38.642447, -121.163585], [37.384106, -77.654113], [41.95356, -87.88176], [28.482218, -81.420294], [47.64528, -122.34728], [37.55939, -77.48914], [34.13387, -118.35445], [43.171286, -77.68069100000002], [33.0906, -97.02795], [28.54733, -81.24005], [38.879226, -77.255859], [34.496371, -118.616459], [29.588355, -98.619313], [34.470442, -117.34599], [26.723738, -80.091286], [34.069179, -117.970076], [37.841401, -122.297368], [33.599032, -80.654313], [28.60049, -81.3862], [42.798861, -73.764966], [39.62045, -104.89949], [37.7769, -79.97283], [38.80351, -90.47573], [28.594619, -81.20814399999998], [38.953388, -76.726766], [34.15573, -118.42777], [37.250295, -113.343822], [34.1563, -118.25498], [36.18019, -86.44211], [29.69173, -95.28362], [30.468723, -87.23733399999998], [43.156732, -77.684717], [29.91602, -81.340347], [33.500259, -81.393846], [43.079126, -77.431101], [44.28504, -124.1103], [42.74404000000001, -71.49067], [43.721133, -116.4582], [33.810455, -80.024833], [28.568381, -81.207821], [25.766396, -80.368765], [34.436716, -80.027546], [47.724609, -122.190133], [36.85485, -76.343651], [27.996581, -82.555515], [41.95646, -87.73608], [35.024306, -85.318481], [35.068644, -81.758962], [26.7108, -80.07975], [27.380899, -82.486847], [37.56909, -77.478665], [34.029734999999995, -84.048416], [34.165248, -79.764624], [32.963333, -80.59616], [34.26576, -118.44871], [34.121568, -117.69844], [32.662587, -97.286854], [25.872782, -80.32336600000002], [34.004622999999995, -117.550178], [43.863011, -123.015064], [42.342149, -122.87397], [38.597894, -121.415434], [44.88977, -93.35351], [25.847279, -80.24995600000003], [33.392225, -112.078723], [33.398549, -111.967618], [34.892511, -82.289872], [40.24619000000001, -77.02811], [34.087253999999994, -117.650813], [40.7659, -73.90352], [35.093157, -85.308858], [42.43501, -87.82564], [47.24149, -122.34068], [38.009932, -121.320103], [29.991095, -90.061081], [28.005141, -82.308531], [40.10165, -75.29054000000002], [35.889789, -78.562477], [40.658445, -75.39323], [28.449055, -81.470923], [33.87605, -84.27490999999998], [32.624792, -117.093885], [34.247769, -118.425791], [40.74789000000001, -74.1641], [34.110517, -118.334407], [47.977806, -102.365145], [30.448699, -91.138913], [37.881746, -122.307966], [33.60465, -86.80818000000002], [35.155261, -80.731685], [41.862698, -87.644322], [37.147154, -93.282111], [34.13646, -117.57176], [41.294687, -72.76916800000002], [34.0679, -118.02912], [40.462155, -80.03142199999998], [40.26003, -75.351574], [32.929619, -117.240825], [44.94876, -92.95907], [39.82701, -75.43441], [33.85977800000001, -118.284579], [39.023276, -123.316179], [36.628556, -121.838], [25.745513, -80.439097], [45.175781, -121.675799], [25.702118, -80.414712], [33.63805, -83.98169], [34.155120000000004, -118.27029], [33.343151, -111.893316], [33.817743, -117.818413], [40.71768400000001, -111.837809], [35.030149, -120.477822], [45.316724, -123.025383], [26.096154, -80.239115], [29.296237, -81.978226], [29.078648, -82.075559], [43.806838, -122.570669], [39.30377, -76.6079], [44.970128, -93.321754], [43.05189, -89.27763], [45.606747, -121.192492], [36.21086500000001, -119.233426], [27.996487, -82.546094], [36.783476, -80.83034], [34.102662, -117.30088700000002], [25.767491, -80.368853], [32.835724, -86.662052], [45.971864, -92.978716], [41.87543, -87.67274], [41.254393, -77.044175], [38.947774, -121.098935], [35.040718, -85.244817], [40.74006, -73.78995], [33.098942, -81.52874200000002], [35.29095, -118.749064], [38.090854, -122.22761], [38.165078, -122.5779], [38.966971, -92.367671], [27.889786, -82.71257299999998], [37.553331, -77.444541], [25.685105, -80.42156999999997], [32.906003000000005, -96.769075], [39.342562, -76.64721], [44.635819, -123.06212], [27.937587, -82.282321], [38.85914, -77.2202], [42.48826, -82.91715], [47.619412, -114.241856], [36.963297, -81.087416], [28.713731, -81.34227299999998], [42.903119, -72.470381], [38.042308, -103.387085], [32.69925, -117.14], [34.272354, -119.213901], [28.450001, -81.468858], [37.525518, -120.887681], [34.12505, -117.69178], [42.929206, -83.63205], [37.23247, -77.534141], [35.45777000000001, -97.52902], [34.006956, -117.964227], [34.85964, -82.26586], [28.603712, -81.40718000000003], [33.799259, -80.357584], [35.727292, -81.563497], [34.690512, -92.338526], [33.740717, -117.833716], [25.891907, -80.211051], [30.51907700000001, -87.284076], [40.198903, -121.07147], [45.84976, -95.49165], [33.982172, -118.378183], [44.59255, -121.14789], [44.657089, -119.145529], [38.674289, -121.347032], [45.49004, -122.56857], [35.912792, -78.681934], [38.658174, -121.050742], [40.7276, -74.02104], [32.835658, -96.874922], [41.037148, -77.514716], [26.682195, -81.897481], [44.88987, -122.92677], [29.95065, -95.38962], [29.94161, -90.07163], [25.930556, -80.293503], [37.586647, -122.335035], [39.250276, -121.651073], [25.686389, -80.35009699999998], [39.33124, -76.48921999999997], [46.97353, -123.74445], [27.442656, -82.530252], [41.013153, -73.717263], [34.072174, -118.065735], [40.73858, -73.42309], [45.06408, -93.18622], [25.943451, -80.30708800000002], [41.84789, -87.95785], [39.271013, -76.647672], [26.381, -80.111136], [40.799111, -73.91873199999998], [43.60363, -86.39021], [28.449055, -81.470923], [34.147911, -118.081926], [35.078197, -89.962416], [33.38527, -117.227607], [36.15407, -86.82257], [34.028343, -117.331035], [38.845285, -76.862636], [32.760485, -117.162806], [28.582092, -81.375349], [36.606413, -120.587815], [34.303383000000004, -118.479548], [35.017688, -80.8504], [29.67322, -95.570299], [43.915485, -92.426208], [33.781939, -117.880929], [43.03212, -87.96091], [28.027828000000003, -82.209008], [26.332521000000003, -81.806173], [32.66362, -97.28869], [33.891715000000005, -117.646811], [43.15449, -77.68115999999998], [37.749163, -121.137719], [34.173018, -118.544734], [37.703594, -121.075043], [42.015991, -73.735919], [39.726516, -104.264464], [25.78473, -80.36859], [47.27431, -122.5587], [37.6646, -121.32447], [45.046037, -122.974873], [45.469547, -122.680453], [29.95432700000001, -90.086923], [39.936237, -75.142093], [39.097927, -75.959311], [28.51840300000001, -81.28935600000001], [33.928541, -118.230391], [28.33094, -81.589167], [33.883026, -118.350166], [36.517803, -119.50038], [35.012558, -80.947941], [29.732737, -95.441493], [34.095536, -118.244025], [28.489779, -81.41731], [33.876546000000005, -112.146624], [35.148053000000004, -80.829296], [25.818361, -80.252762], [25.953483, -80.178426], [29.974593, -90.079419], [43.091694, -75.93133], [30.192940000000004, -97.77888], [40.79871, -74.18989], [47.29608, -122.25658], [34.337443, -79.18184699999998], [42.47678, -83.10741999999998], [34.06698, -117.33586], [27.83907, -82.72865], [28.489895, -81.458762], [34.137471000000005, -117.326742], [29.78559000000001, -95.717642], [43.038494, -83.732232], [42.145668, -83.24204499999998], [47.20138, -122.2698], [29.356316, -82.221368], [34.2659, -118.472252], [40.08502100000001, -75.388787], [34.151136, -118.153846], [34.921544, -81.986565], [40.609964, -75.527433], [37.586522, -77.47315400000002], [28.0242, -82.23949], [39.37207100000001, -85.942429], [33.689248, -117.885641], [34.039109, -118.00168899999998], [34.12393, -117.91351], [30.2887, -81.6275], [32.69423, -96.84444], [38.630015, -121.401516], [34.079367, -118.291686], [34.012219, -118.418573], [44.969397, -93.287756], [45.88986, -94.888046], [43.102802, -75.223474], [44.2694, -94.34664], [32.909162, -96.699467], [25.702455, -80.332105], [25.950942, -80.18128100000001], [34.030401, -117.62305], [28.55271, -81.436092], [42.849017, -76.595046], [45.29192000000001, -93.556147], [35.92485, -119.280825], [34.048427000000004, -118.439729], [33.884893, -117.521492], [33.544731, -86.759439], [39.503305, -121.495246], [25.95927, -80.163455], [39.309429, -123.795834], [44.2849, -92.669087], [37.72707, -111.5235], [25.716156, -80.43126], [33.87976, -118.020692], [32.474601, -93.798266], [40.68889, -111.95165], [38.704071, -121.313479], [41.112914, -76.902792], [34.186681, -118.39646100000002], [25.947571, -80.148185], [37.53761, -122.07083], [33.34673, -80.57784699999998], [39.05651, -84.54286], [43.18713, -77.59085999999998], [27.337756, -82.465216], [30.188707, -85.755945], [35.705341, -78.6106], [38.603201, -121.382901], [40.577793, -75.853501], [32.452835, -93.703735], [25.685045, -80.428016], [32.76372, -97.31758], [32.92455, -96.78246], [44.89039, -93.30868], [39.037024, -78.383247], [28.789619, -81.349006], [39.39503, -76.687134], [37.855261, -122.300397], [41.23745, -122.265976], [38.952337, -92.556413], [35.81163, -78.60274], [40.65304, -111.92376000000002], [44.10185, -123.17089], [25.76088, -80.418865], [30.441469, -87.235973], [35.045376, -85.279053], [25.909499, -80.236108], [33.422263, -86.814611], [40.42922100000001, -79.942887], [37.43713, -77.60059], [41.871946, -87.912313], [30.382735, -97.688299], [38.398997, -78.9095], [40.97733, -73.6982], [40.949596, -73.747047], [33.696283, -117.632834], [39.096275, -94.574807], [42.900951, -85.51644], [39.43942, -77.405883], [40.619934, -122.365465], [25.940849, -80.245233], [25.822058, -80.240645], [40.787891, -74.049214], [43.02996, -83.595603], [34.62867, -83.59549], [37.324676, -121.887498], [38.85918, -77.340386], [33.790911, -118.285313], [30.259104, -81.410418], [33.462649, -112.171257], [26.432723, -81.777271], [40.738452, -113.850084], [40.219112, -76.787749], [44.789117, -93.406958], [39.934663, -120.881861], [25.711901, -80.296913], [32.948931, -117.105234], [33.773671, -84.39004], [47.568622, -122.106052], [40.742689, -74.21446], [42.27079000000001, -84.4318], [34.035940000000004, -118.32232], [35.076992, -81.72733199999998], [45.564304, -94.347077], [33.818083, -117.876166], [32.536657, -82.91945600000003], [30.905645, -87.315822], [29.785147, -95.670307], [34.23444, -119.165293], [33.924597, -118.104039], [48.13918, -122.18666], [30.43011, -81.57609000000002], [40.97432, -77.634338], [35.117666, -80.930502], [37.12841, -122.117111], [30.275863, -97.599931], [28.447931, -81.470943], [44.953941, -93.090173], [42.338619, -79.58391999999998], [38.120225, -84.60199], [34.839201, -92.161215], [34.671346, -82.528562], [42.24828400000001, -83.18981600000002], [25.869378, -80.20384399999998], [30.534106, -87.092496], [28.35741, -81.49181], [32.507221, -93.767548], [37.787349, -122.247952], [33.295637, -91.636979], [30.439764, -97.67056], [33.99405, -117.89254], [25.943633, -80.205311], [41.765162, -88.038744], [39.58057, -104.88926], [38.898422, -77.068054], [40.81225900000001, -76.83534499999998], [39.53414, -77.920006], [36.624373, -121.841246], [28.56897, -81.403757], [34.167501, -117.458069], [40.991552, -80.12714], [33.463034, -112.177624], [33.790988, -118.293567], [45.211642, -109.243056], [29.987341, -90.030125], [41.555947, -72.104612], [45.191662, -93.395304], [26.78788, -80.09911], [28.98198, -81.979114], [35.157619, -80.733972], [40.461979, -118.285305], [32.668136, -96.864405], [35.839238, -78.675899], [40.1481, -82.97069], [33.719775, -117.795048], [36.772454, -119.85333500000002], [36.756959, -120.024361], [40.414654, -74.446449], [34.155567, -118.431243], [44.970889, -93.433172], [34.803689, -91.922296], [40.30686, -76.88667099999998], [41.183262, -111.949129], [26.136734, -80.1695], [41.03981, -81.50502], [28.54887, -81.20859], [40.725916, -74.227103], [37.769006, -120.940951], [36.775027, -76.368809], [25.802143, -80.25153], [32.925609, -96.805544], [31.77866, -106.39258999999998], [47.719211, -122.286313], [36.327055, -119.30765], [37.91458400000001, -122.317505], [33.930692, -118.364841], [26.336537, -80.117343], [42.45547, -71.75228], [44.41204000000001, -117.30828], [34.037581, -118.086252], [37.358522, -77.414615], [41.003377, -73.800905], [37.608443, -77.530807], [34.14904, -118.04553], [25.70852, -80.35990699999998], [25.733363, -80.367765], [39.453932, -76.316152], [30.046709000000003, -81.775175], [35.795993, -78.604858], [34.837709999999994, -82.28967], [33.910975, -118.168819], [28.62516, -81.319787], [35.0878, -80.84525], [28.60347, -81.31129200000002], [29.076059000000004, -82.074058], [43.70607800000001, -116.675857], [41.48055, -88.19744], [41.55654000000001, -73.05566], [30.315345, -81.756123], [34.060731, -118.455972], [38.464676, -81.444908], [37.42635, -122.13921], [41.93565200000001, -79.59522700000002], [40.251917, -77.030426], [28.449891, -81.482946], [26.933793, -82.28838], [39.16536, -94.55932], [34.04438, -117.55004], [33.362479, -86.658732], [38.529958, -121.473037], [30.584634, -83.438779], [36.24554000000001, -86.74592], [38.576585, -77.316478], [33.864644, -118.326397], [34.140958000000005, -118.709618], [33.878153000000005, -117.88046], [47.04023, -122.8694], [37.423609, -121.915912], [36.977702, -122.031731], [25.963024, -80.15508100000002], [42.38525, -83.15781], [33.929718, -118.112412], [36.735917, -119.556397], [33.879217, -117.561916], [32.57797, -96.82248], [34.416872, -119.585977], [37.50456, -121.96379], [37.42014, -113.63146], [44.33049000000001, -88.6025], [38.349419, -119.386292], [38.563254, -121.385831], [32.765553000000004, -117.128446], [39.319139, -120.61021], [46.570528, -95.09326], [45.65816, -109.305778], [40.053332, -105.102688], [40.120332, -75.339393], [44.76615, -92.85842], [30.170871, -97.690848], [40.588883, -111.900743], [39.160472, -94.589441], [27.431863, -82.411925], [38.492329, -121.799809], [40.83423, -111.923759], [39.791095, -84.223212], [25.447784, -80.477175], [32.93968, -112.04928], [44.092803, -123.102165], [39.01536, -77.12218], [33.92819, -118.29621000000002], [35.798941, -78.494629], [30.273676, -81.768857], [33.91144, -117.283179], [33.689319, -117.623484], [35.44512, -80.61272], [35.24755, -80.90505], [28.022035, -82.250357], [40.84487100000001, -73.92049300000002], [40.096148, -75.35772], [37.932759, -121.651469], [35.16454, -80.874921], [30.48647, -84.031087], [31.364983, -89.354095], [36.17412, -80.15298], [33.385441, -111.933073], [37.67423, -122.12357], [40.426561, -85.549664], [27.952969, -81.890688], [37.970418, -121.92193799999998], [29.43269, -98.64697], [34.053219, -118.230357], [33.428942, -112.099837], [32.754797, -117.201757], [34.05322, -118.25892], [44.72678, -121.23482], [29.673746, -81.86462399999998], [35.236847, -80.737803], [37.55439000000001, -77.446265], [35.089728, -85.218025], [41.8504, -87.80233], [37.187493, -121.688949], [43.441089, -121.338897], [40.726286, -73.764277], [30.450739, -91.141228], [35.81831, -78.60829], [32.7178, -117.14783], [34.133245, -79.889104], [44.948812, -92.953594], [43.05428, -76.12199], [29.045052, -82.576663], [43.74724000000001, -87.76143], [35.12183, -85.29612], [35.90899500000001, -84.12097299999998], [41.223798, -96.081512], [33.92474, -81.068361], [28.493219, -81.417321], [34.07163, -118.11023], [30.431449, -91.174558], [27.75916, -82.72227099999998], [41.98632, -87.86878], [34.290671, -118.364877], [41.236828, -73.026005], [34.689774, -92.318602], [37.542197, -121.270688], [39.694098, -105.876626], [45.09932, -123.34793], [40.03475, -75.07114], [38.944317, -121.099423], [29.736418, -95.521042], [34.036261, -118.321182], [34.030483000000004, -117.662941], [40.804381, -73.91829399999997], [25.768653, -80.19996], [40.726376, -74.140263], [39.86984, -86.28217], [38.117891, -79.05089], [30.281456, -97.741], [37.007304, -121.51813500000002], [37.974923, -122.299458], [30.421267, -97.619296], [38.759487, -90.534827], [41.96161, -80.3434], [33.961504, -118.234722], [39.872654, -75.388191], [41.695706, -92.590812], [39.557954, -75.738104], [43.103324, -83.707987], [33.386113, -117.227598], [38.559351, -121.372622], [41.51126, -88.09057], [38.947008, -76.825775], [28.448027000000003, -81.419493], [37.546865, -77.28444499999998], [42.946247, -83.77124], [34.881699, -82.437333], [36.4724, -79.734888], [38.655278, -121.03227], [37.41258, -122.07936], [41.688957, -72.648767], [34.047822, -118.266564], [33.669704, -81.665775], [43.927813, -92.288213], [38.495989, -121.427485], [34.922992, -81.970938], [39.528712, -119.72174], [34.04956, -118.21399], [35.092615, -85.058195], [33.916416, -84.289672], [40.27561, -75.392101], [28.699201, -81.571217], [33.945468, -118.367632], [41.210017, -78.572743], [25.940336, -80.1887], [38.686455, -121.07998899999998], [42.928465, -78.766382], [40.640519, -73.877531], [34.120203000000004, -117.716627], [35.23777000000001, -118.932094], [41.171968, -73.190513], [25.700791, -80.382289], [34.813152, -110.138765], [37.14435, -121.98468], [35.914864, -86.866796], [34.839548, -82.444609], [32.858055, -96.66566], [30.242538, -81.514553], [29.969797, -95.534647], [30.419844, -91.084567], [40.706279, -74.250065], [34.023717, -118.427751], [30.449038, -91.161985], [34.00417, -117.407968], [37.505789, -122.118609], [30.281734000000004, -97.685309], [43.645722, -94.447248], [33.765931, -117.937649], [34.074472, -117.545031], [40.695767, -73.998225], [44.665283, -123.222207], [45.009335, -93.120806], [25.80677, -80.264075], [42.57529, -87.95294], [42.331789, -83.14240500000002], [43.710311, -120.313893], [34.360971, -118.505716], [38.652938, -77.282027], [40.792145, -77.862044], [45.05355, -122.97038], [25.67345, -80.432766], [45.86032, -95.42992], [32.612904, -96.822898], [42.36396, -87.96357900000002], [40.783428, -73.532165], [32.725625, -117.073437], [35.592869, -82.436562], [34.971419, -120.42543899999998], [28.539228, -81.283559], [35.147124, -81.213549], [38.575495, -121.378253], [34.100157, -79.955093], [37.473564, -122.210744], [35.080201, -85.228488], [41.91459, -87.94], [34.530662, -92.678443], [26.24765, -80.16676], [35.903867, -78.774343], [34.01038, -117.429], [36.058997, -83.373584], [36.757808, -76.294393], [38.55405, -90.2625], [45.112277, -104.613007], [38.894781, -77.014287], [40.71709, -73.82655], [35.864566, -78.714899], [39.155257, -121.060531], [42.835275, -124.47837], [29.702445, -95.301522], [35.155481, -80.851609], [33.602509999999995, -114.514135], [33.85378, -117.928351], [45.05953, -93.14716], [34.240245, -117.429572], [35.595543, -82.40011899999998], [32.674819, -117.083304], [39.531437, -119.734108], [32.930440000000004, -96.75804], [30.658675, -87.88893], [33.98873, -118.291463], [42.395553, -122.032628], [30.420995, -91.140545], [40.65326500000001, -111.456524], [35.132721000000004, -90.481349], [34.8846, -92.10748], [30.491981, -87.22335600000002], [32.273121, -110.978225], [43.545269, -124.212077], [34.064409999999995, -117.30159], [34.067399, -117.571285], [39.001067, -120.995532], [28.146043, -81.46503100000002], [29.998768, -90.030111], [34.266090000000005, -118.47224], [25.882785, -80.245746], [35.396972, -119.14588], [42.53052, -88.97534], [43.56535, -91.28037], [25.733769, -80.367768], [34.167433, -118.158138], [42.12755900000001, -76.26973000000002], [28.03654, -82.0613], [47.46886, -122.20892], [35.104131, -120.613295], [41.86597, -87.64442], [39.106618, -94.573348], [36.804208, -76.197086], [38.55544, -121.44092], [39.669868, -75.600348], [40.71705, -73.82215], [40.962977, -77.668302], [34.134768, -117.62063], [34.365781, -118.50627], [32.147240000000004, -85.06241999999997], [41.87206, -87.74495999999998], [39.798538, -84.292722], [25.651277, -80.334391], [33.744392, -112.124275], [38.946411, -120.100429], [33.68908, -117.33459], [39.9862, -104.918781], [36.41574, -119.636746], [34.897587, -82.16538800000002], [27.94596, -82.46276], [37.523322, -79.710335], [41.967899, -91.55186], [32.958502, -97.310628], [38.517539, -121.463604], [33.557728000000004, -112.113064], [39.918567, -76.188528], [33.53888, -84.26599], [38.6401, -121.1961], [27.96767, -82.54803000000003], [33.182747, -117.218579], [36.055766, -79.12406], [44.754738, -124.058699], [36.119731, -86.802302], [41.494609, -120.573796], [44.052461, -123.100444], [32.717645000000005, -96.682907], [29.98940300000001, -90.087751], [45.6607, -94.68877], [25.890169, -80.188806], [34.538215, -92.669538], [38.889466, -121.016049], [40.76659, -73.68664], [45.710839, -121.549333], [41.778821, -71.42570400000002], [25.883893, -80.243208], [29.830595, -81.381536], [40.023724, -74.824561], [29.69655, -95.30588], [37.209937, -93.330518], [25.805408, -80.337177], [32.759121, -117.204511], [38.018754, -121.935017], [37.551785, -120.911138], [39.240898, -76.59669], [37.451287, -121.892591], [45.474121, -123.844239], [45.50365, -122.67455], [33.236843, -117.22625], [38.80668, -104.82239], [30.384840000000004, -81.55715], [38.67705, -90.44958], [28.635594, -81.3877], [36.81032, -121.673301], [41.549877, -122.907692], [33.42366, -117.608481], [34.081, -117.734371], [40.262092, -74.51218399999998], [36.481429, -119.56856], [40.52982, -80.07236], [28.450336, -81.410188], [38.700082, -122.895099], [40.510257, -112.003147], [32.930222, -96.768912], [34.73976500000001, -86.600234], [28.192607, -82.46838699999998], [29.529958, -95.387535], [38.632621, -120.566055], [32.420817, -93.705368], [41.20688, -74.02285], [34.0368, -118.377555], [48.312543, -115.497449], [40.69551, -73.51954], [40.420981, -80.094454], [25.81245, -80.21472], [37.385645, -79.082483], [39.157322, -76.60214], [35.953785, -85.299212], [39.321961, -77.360578], [43.12442, -75.57791], [34.103881, -118.711343], [39.633586, -104.906788], [34.453563, -119.709394], [25.595491, -80.478492], [45.20648, -123.88991], [36.890633, -76.42777099999998], [32.72951, -117.06535], [30.948089000000003, -87.86175300000002], [37.83032, -122.47974], [33.932320000000004, -118.34844], [27.564922, -82.514437], [25.569839, -80.37825], [34.2729, -118.3572], [25.642258, -80.334766], [38.423451, -75.056241], [26.040118, -80.163577], [25.92777, -80.20465], [33.797979999999995, -118.109174], [38.6295, -90.51438], [39.03232, -94.288536], [34.225988, -82.196685], [33.190827, -117.362558], [32.70449, -96.58003], [33.842696000000004, -117.954759], [27.85107, -82.795416], [37.632317, -77.53972900000002], [39.825448, -85.689554], [46.953752, -114.135567], [28.75969000000001, -81.26630300000002], [33.642183, -117.697598], [25.602323, -80.35254300000003], [30.404543, -97.640566], [40.768686, -73.882166], [35.16041, -81.472192], [37.467575, -122.152845], [34.00433, -118.06374], [29.296138, -82.203841], [44.89045, -93.28325], [37.14623, -121.98619], [34.01927, -117.49856], [44.9489, -92.92586], [32.85667, -96.64959], [29.897961, -95.431552], [43.01389, -85.6759], [25.806911, -80.31311600000002], [39.095161, -121.546093], [41.357444, -73.63838], [39.582205, -122.128619], [39.86221, -86.14599], [40.71771, -111.95335], [34.200664, -118.473461], [25.480603, -80.509825], [40.698841, -73.520625], [37.4997, -77.53426], [25.769738, -80.33244499999998], [27.91971, -82.60977], [33.962983, -118.244427], [34.06554000000001, -117.99992], [33.93525, -118.016796], [42.968113, -121.82662], [37.244091, -77.390745], [25.884164, -80.243217], [34.06898, -118.21689], [38.999256, -122.516795], [34.146505, -118.765736], [38.835538, -121.168921], [28.105638, -82.502482], [39.74009, -105.00521], [45.233346, -93.553583], [34.067618, -117.571033], [38.942431, -121.09731399999998], [33.831459, -117.53088], [35.780463, -78.621365], [32.218712, -111.104376], [34.172307, -118.570928], [37.05993, -120.97313], [33.119388, -117.083548], [37.49618, -122.367876], [38.667036, -76.875548], [33.993031, -117.355411], [45.156435, -121.652625], [34.185779, -117.40956], [42.132989, -122.633829], [48.416507, -122.644776], [35.14909, -80.80162299999998], [39.889329, -104.987679], [34.135114, -117.607846], [45.90767, -123.799831], [38.960206, -121.098], [25.733235, -80.33408399999998], [39.079259, -77.17049], [39.05608, -94.63004], [38.201167, -120.899205], [29.132641, -81.123014], [40.208283, -74.098473], [33.971004, -117.330435], [36.874746, -76.197475], [37.852484, -122.29986], [36.14369, -86.68871999999998], [42.724623, -84.50773199999998], [33.49093, -112.112957], [45.411138, -122.74412], [43.04528, -76.11469], [25.940783, -80.30677299999998], [30.243907, -97.735149], [37.844885, -122.227202], [40.907045, -124.042242], [32.228586, -110.92669], [39.074413, -76.63112], [36.34158, -119.807968], [43.20863, -77.46098], [38.819225, -111.329147], [28.577281, -81.416306], [36.160411, -119.33237], [38.755913, -76.993271], [25.80702, -80.20572], [39.09269000000001, -94.59094], [34.132659999999994, -117.95165], [42.19225, -121.59568], [34.172715000000004, -81.31052700000002], [48.350793, -114.241006], [27.995690000000003, -82.32628000000003], [28.552445, -81.442784], [41.098748, -74.03745500000002], [25.536512, -80.408711], [30.495533, -87.221991], [44.969992, -93.312005], [25.68855, -80.47868000000003], [32.756264, -96.752784], [35.848172, -78.580223], [40.68503, -73.57345], [30.742353, -85.153032], [43.673204, -92.068402], [30.440997, -84.32575899999998], [25.992879, -80.16609], [42.457326, -87.869552], [42.222455, -73.73496999999998], [39.205301, -119.788774], [45.374983, -93.994269], [36.07525, -95.97578], [37.536284, -77.426397], [34.68215, -82.206629], [25.948105, -80.14874], [32.991988, -81.421684], [38.652709, -121.29214], [37.97281, -122.0615], [40.79912, -73.48383000000003], [26.38466, -80.106787], [34.250051, -79.82509], [34.88977, -82.46864000000002], [33.92321, -118.20573], [30.69147700000001, -86.114369], [37.740673, -121.12271], [39.365118, -78.047271], [43.094075, -76.16635600000002], [25.936851, -80.18856099999998], [39.835651, -75.419622], [25.659734, -80.416025], [33.428913, -112.098293], [37.374271, -77.345802], [33.46735, -112.2686], [42.21549, -124.37354], [29.775406, -95.421898], [33.341278, -117.509765], [40.762607, -73.83935], [29.221271999999995, -82.069969], [33.87636, -118.08778], [32.746367, -96.824501], [41.038431, -78.389711], [34.036981, -118.312787], [34.011453, -84.332015], [44.0978, -123.15627], [42.269436, -85.50954200000002], [37.793223, -121.298092], [41.686638, -91.499327], [39.241965, -81.40049300000003], [34.240982, -80.74411500000002], [42.343057, -96.329294], [38.344076, -85.713068], [44.05218, -123.10041], [34.198177, -119.142207], [43.244068, -77.791525], [38.16456, -122.577282], [34.120135999999995, -117.837183], [37.359812, -77.436014], [34.67881, -82.556793], [37.929857, -121.295446], [43.661481, -123.73793], [32.77941, -117.0695], [38.62445, -90.20641], [34.01957, -118.05037], [42.28339, -88.15597], [44.420996, -121.866284], [29.93458900000001, -90.123189], [40.83602, -73.87392], [45.2855, -122.76949], [37.944921, -122.48581], [25.807752, -80.321045], [30.490447, -86.119763], [30.458486, -91.167505], [42.341081, -87.963603], [44.830866, -124.056989], [34.440795, -77.85915200000002], [34.611739, -118.271124], [34.477911, -91.484553], [38.641311, -77.28833900000002], [30.443038, -85.874512], [39.013241, -77.144921], [41.569669, -87.386276], [41.601952, -87.181738], [35.219428, -80.78067], [28.513874, -81.764669], [36.153956, -86.757311], [40.644553, -111.9343], [42.903483, -83.533378], [45.276358, -122.77233], [35.67613400000001, -81.385032], [35.127334999999995, -80.998587], [41.136567, -111.924808], [33.741556, -78.949652], [33.945113, -118.368275], [39.592076, -77.81046500000002], [37.896, -121.766615], [44.63734, -94.04241], [25.890213, -80.187688], [40.480142, -76.53008100000002], [28.087989, -82.46094000000002], [36.0987, -86.76356], [45.463453, -122.699121], [41.949371, -80.32825], [39.665826, -75.685919], [32.772806, -117.128924], [38.076, -104.70759], [34.830576, -78.98091600000002], [37.382326, -79.864728], [36.80849, -119.772383], [38.68398300000001, -121.4636], [40.8824, -121.661557], [40.340013, -78.396846], [34.07489, -117.29564], [34.073961, -117.617179], [40.75292, -74.19440999999998], [42.4261, -123.16497], [34.025434999999995, -117.116314], [37.641174, -121.009049], [41.043011, -124.111931], [25.899633, -80.18226999999997], [28.373897, -81.390303], [45.53598, -122.66773], [34.498969, -118.625704], [39.1515, -84.54082], [33.633071, -80.842853], [42.42396, -123.16329], [38.305533, -121.319253], [34.033461, -81.125268], [34.081485, -117.728209], [34.071904, -117.946442], [29.810507, -82.313313], [33.89623, -118.18767], [39.20663, -77.273312], [39.97724, -75.19991], [32.32663, -86.29974], [40.913994, -78.24727], [42.46165300000001, -123.316522], [41.680766, -72.653306], [32.844546, -117.118931], [28.42485, -81.404787], [40.32956, -111.61897], [38.945681, -76.766816], [33.553628, -117.126229], [42.91264, -112.45647], [33.509397, -84.42949399999998], [32.751998, -117.013292], [40.487161, -111.895419], [34.736646, -83.053655], [40.837638, -73.930251], [32.929721, -80.661937], [33.739794, -78.882175], [42.51657, -73.592854], [45.035398, -92.930416], [28.18607, -82.43802], [38.069505, -122.227601], [34.909575, -82.521745], [27.542607, -82.467683], [34.629025, -120.188224], [44.230774, -121.204358], [28.509396, -81.421021], [39.785345, -86.13808], [25.76972300000001, -80.33341300000002], [44.62609000000001, -123.06186], [40.453188, -122.270303], [32.713431, -117.131655], [45.281833, -93.560984], [32.996016999999995, -117.257585], [40.73681, -111.90444], [38.92035, -109.94273], [39.73537, -84.08758], [40.594147, -111.436134], [47.092971, -117.379326], [30.190702, -81.556926], [28.085197, -82.700075], [34.01465, -118.16834], [32.235895, -110.980662], [33.745889, -118.006074], [30.36519, -90.09363], [40.362664, -111.560886], [40.662256, -74.184547], [39.258295, -94.5959], [38.590992, -121.287185], [39.043134, -122.753308], [46.442124, -94.302552], [34.287125, -82.04632600000002], [40.865889, -74.005955], [37.348912, -120.878244], [29.424859, -98.649471], [34.038475, -117.550058], [38.53605, -122.647955], [33.972555, -118.079507], [25.895833, -80.32458100000002], [32.703369, -96.279255], [32.712922, -96.829579], [40.120868, -75.306945], [28.392874, -81.37246999999998], [42.81049, -88.27726], [34.138023, -117.240972], [45.56583, -94.20598], [35.89237199999999, -78.558448], [42.190301, -88.10718100000004], [42.48765, -83.23294], [36.175671, -86.01660799999998], [33.930881, -118.368253], [41.86175, -87.64454], [37.23439000000001, -113.36926], [39.230343, -77.532554], [33.98214, -83.92511], [25.73317, -80.33577], [26.78788, -80.09911], [40.225406, -86.612626], [32.789457, -96.813389], [38.863803, -77.336529], [32.813913, -96.812203], [44.966033, -93.262542], [34.420627, -117.207266], [35.849588, -80.118308], [30.28936, -97.664884], [38.84414500000001, -77.00760600000002], [25.733249, -80.33381899999998], [25.565997, -80.38181800000002], [40.277113, -75.26086], [43.05953, -76.18589], [38.844233, -77.43871], [34.055434000000005, -118.240423], [41.56731, -87.3275], [43.224709, -75.44581], [41.926885, -91.643732], [37.891191, -122.150169], [30.672126, -85.686745], [33.676909, -111.925414], [33.526373, -117.711385], [44.190428, -123.20258], [33.876588, -117.659913], [33.998259999999995, -117.369414], [38.232421, -122.25932], [43.882561, -70.08244], [34.9392, -81.94475200000002], [25.810476, -80.162521], [47.761325, -122.184367], [34.0767, -117.74506], [39.779243, -84.235984], [42.86578, -73.79394], [36.13802800000001, -86.805047], [29.730751, -95.407037], [34.332715, -118.506184], [25.78261, -80.22655], [34.232378999999995, -118.473204], [33.941019, -117.252608], [39.70243, -86.11232], [34.020495000000004, -118.194105], [26.399811, -81.810737], [35.77719000000001, -78.525248], [33.008472999999995, -80.107961], [41.68556, -87.66197], [39.78555, -104.89963], [28.608742, -81.30809], [34.11331, -118.267218], [38.581623, -121.413815], [32.675259999999994, -117.108947], [37.885417, -120.49914], [37.798401, -122.216956], [40.173457, -122.261021], [28.475225, -81.367871], [43.334842, -71.009212], [33.394682, -111.788223], [30.44758, -91.17991], [40.307282, -79.59555], [25.89671400000001, -80.25801899999998], [37.76271, -121.43945], [34.857890999999995, -82.22508], [34.068757, -118.042956], [34.047822, -118.266564], [42.195725, -74.104799], [40.622538, -86.616607], [34.069171999999995, -80.930367], [26.336599, -81.751102], [25.747491, -80.33884499999998], [40.150325, -75.141347], [40.72573, -111.95691], [33.93248, -118.27972], [39.8993, -104.98796000000002], [25.693619, -80.34593000000002], [39.979206, -75.203876], [34.13177, -117.681759], [33.955063, -118.291566], [41.65501, -70.98803000000002], [44.979856, -121.477333], [33.46537, -111.78964], [33.859282, -118.290432], [45.498808, -122.67285], [47.056779, -122.7645], [34.14915, -118.80394], [32.840688, -96.907125], [39.349883, -76.74740899999998], [37.74496, -122.40522], [41.88201, -87.64598000000002], [44.862015, -93.305333], [41.83824, -87.63169], [33.84661, -118.20561], [34.340886, -118.522839], [25.564802, -80.506668], [40.441447, -79.82884], [28.03041, -82.74689000000002], [40.788989, -73.779585], [40.351849, -77.211345], [29.707771, -95.553757], [36.03802, -86.64671], [32.752229, -96.856826], [38.560302, -121.457306], [39.4442, -87.496042], [34.05754, -118.25466000000002], [33.687225, -117.874084], [33.386515, -111.578572], [34.151204, -118.281179], [35.144206, -80.92853199999998], [39.11947, -94.68061], [38.35384000000001, -78.929525], [41.953836, -121.469789], [43.10622, -89.28556999999998], [42.199061, -120.612511], [28.551140000000004, -81.20429], [34.356683000000004, -79.384997], [45.194372, -121.690326], [45.302015, -121.744835], [39.48724, -86.01516], [36.255578, -119.940912], [36.152583, -86.63450300000002], [25.603575, -80.351962], [33.422483, -86.814061], [38.789043, -75.590805], [35.56558, -97.63842], [40.816, -73.080164], [33.988325, -117.90536000000002], [37.47302, -77.52512], [27.03697, -80.23304], [45.46465, -94.32384], [44.919688, -93.271528], [37.489166, -121.943778], [37.287926, -120.324155], [44.1671, -93.82852], [37.056742, -120.895414], [34.085859, -118.987227], [34.120922, -117.904638], [32.277788, -95.306403], [39.51499, -74.78142], [45.24525, -122.942687], [32.230762, -80.857874], [35.138008, -80.93603], [45.82718, -119.58269], [41.30806, -72.91453], [38.631004, -121.52003700000002], [40.551684, -112.298009], [39.82147, -77.23306], [32.889678, -96.898186], [37.188055, -121.786249], [44.86207, -93.22307], [39.41255, -84.1564], [34.699611, -82.889447], [33.75199, -117.18546], [41.245111, -73.10241500000002], [30.487714, -91.136201], [40.25815, -76.83797], [37.960751, -121.3337], [29.97992600000001, -90.070578], [41.7375, -72.739824], [32.583746000000005, -117.097341], [29.688640000000003, -82.372281], [34.0048, -84.5646], [35.203256, -80.744061], [36.47699, -87.141717], [45.241818, -117.932654], [29.506121000000004, -82.298736], [39.06863, -94.51091], [35.242621, -80.780005], [33.911245, -118.172382], [34.122125, -117.695843], [37.44774, -77.52096999999998], [25.685457, -80.384718], [38.736901, -120.710919], [39.85492, -76.079959], [32.63335, -96.8231], [34.04583, -118.257949], [39.645291, -106.382149], [35.454, -80.87198000000002], [45.06646, -93.19735], [39.335146, -121.598071], [42.17528, -88.07425699999996], [33.89277, -118.36408], [33.896206, -118.285992], [33.461859999999994, -112.077298], [35.89312899999999, -78.559405], [37.400357, -120.759518], [33.526529, -86.659909], [28.527685, -81.52279200000002], [28.581458, -81.451578], [33.914454, -117.286024], [34.033694, -117.958554], [40.746688, -73.764177], [37.970799, -122.320338], [38.111819, -121.395739], [28.829791, -81.324649], [37.57209, -77.44528000000003], [33.854236, -117.941825], [41.377869, -72.90552], [30.693935, -88.12507099999998], [39.6081, -75.71531999999998], [41.044921, -73.566807], [38.70396, -121.371491], [39.096244, -94.566021], [33.49135, -112.11296000000002], [29.959514, -90.11652], [33.886186, -118.032699], [42.44734, -71.36025], [30.144503000000004, -97.572331], [40.123173, -75.359864], [34.848189, -118.869107], [25.81225, -80.313429], [39.669092, -75.958052], [26.034193, -80.164037], [40.133079, -75.109864], [32.83185, -96.63149], [39.920959, -86.269095], [28.08909, -81.96561], [34.936023, -82.229765], [41.52847, -71.98071999999998], [33.057342, -117.070955], [32.19169, -110.7898], [36.173268, -86.791389], [30.43144, -91.05185], [38.957186, -93.148237], [47.713998, -122.326852], [39.612311, -77.798238], [39.74208, -84.20491], [30.38533, -81.670103], [25.657368, -80.41592], [41.765505, -71.482496], [33.672634, -112.024294], [39.171933, -76.733786], [25.865788, -80.242363], [41.344674, -96.013029], [41.098748, -74.03745500000002], [40.012817, -75.05876500000002], [29.92504000000001, -90.10182], [39.557765, -107.246378], [28.78685, -81.21274], [38.79039, -77.167968], [28.552617, -81.447034], [39.846822, -74.224373], [32.57289, -111.32297], [38.8369, -77.447058], [33.930163, -118.36852], [32.750191, -117.123074], [34.1524, -118.09495], [41.517867, -73.980873], [30.400663, -91.053059], [25.926024, -80.150675], [45.822316, -122.688749], [34.128598, -118.09179], [27.339118, -82.46377], [39.0988, -94.60964], [44.748782, -124.05135], [30.193648, -85.624932], [34.222378000000006, -119.136183], [40.737079, -73.931089], [33.98936, -118.40025], [34.072176, -118.065723], [32.742834, -117.111144], [40.911766, -73.88465500000002], [42.232563, -123.642133], [36.16779, -115.12236], [37.191005, -77.35875899999998], [34.595154, -82.749478], [32.70942, -117.148514], [33.27082, -80.56922], [44.298065, -92.97982], [36.729702, -119.467489], [25.66642, -80.32374], [46.235522, -112.133099], [38.963173, -76.867035], [38.786558, -120.208406], [25.964614, -80.172463], [37.717705, -121.53266], [25.913108, -80.160775], [27.338848, -82.463854], [33.93327, -116.993167], [36.763319, -76.537402], [36.978997, -121.912149], [34.03126, -117.91473], [39.113312, -94.615234], [25.761068, -80.41421600000002], [33.990414, -81.061325], [37.425003, -122.31377], [33.604296999999995, -78.988462], [28.596371, -81.398359], [40.634401, -73.73966999999998], [38.81876, -77.22235], [33.924258, -118.229231], [32.94096, -112.73431], [33.720094, -117.971872], [33.745709000000005, -117.833005], [32.06488, -81.13738000000002], [39.44155, -77.97365], [47.618534, -122.338493], [27.955697, -82.504695], [38.97573, -77.077078], [33.870023, -117.67088], [29.65836, -95.355493], [32.716609000000005, -80.860394], [37.108894, -80.45133100000002], [35.383498, -119.157063], [38.928859, -76.930554], [33.750039, -118.274788], [40.74195, -73.897596], [33.896214, -118.187654], [35.26418, -118.65831], [38.363166, -81.67023], [30.169801, -97.787427], [38.928816, -77.039725], [34.081906, -117.299007], [39.25705, -84.44238], [25.941223, -80.205048], [34.068869, -117.839455], [33.69771, -84.42095], [35.018285, -94.119426], [38.558127, -121.386402], [40.1419, -85.33953000000002], [32.398705, -93.691269], [30.456234, -84.344872], [33.963159999999995, -118.28106], [39.2321, -76.64886], [27.78186, -82.6612], [32.874343, -81.046028], [33.824290000000005, -117.7164], [29.945469, -90.08665], [30.580534000000004, -84.277412], [32.75715, -117.223556], [40.712336, -112.091792], [37.600053, -120.126968], [39.923676, -86.236139], [41.755943, -72.650048], [40.80227, -72.86102], [38.49664, -121.242252], [32.942622, -96.903458], [33.741684, -84.42026700000002], [30.08858, -82.366122], [43.051747, -76.1418], [36.918686, -76.271585], [32.252590000000005, -80.97094200000002], [43.227567, -73.84942099999998], [40.334889, -79.61563699999998]],\n",
              "                {&quot;blur&quot;: 15, &quot;maxZoom&quot;: 18, &quot;minOpacity&quot;: 0.5, &quot;radius&quot;: 25}\n",
              "            ).addTo(map_32cb15647663bad788e59ba8540c2dea);\n",
              "        \n",
              "&lt;/script&gt;\n",
              "&lt;/html&gt;\" style=\"position:absolute;width:100%;height:100%;left:0;top:0;border:none !important;\" allowfullscreen webkitallowfullscreen mozallowfullscreen></iframe></div></div>"
            ]
          },
          "metadata": {},
          "execution_count": 87
        }
      ]
    },
    {
      "cell_type": "code",
      "source": [],
      "metadata": {
        "id": "5QHSnbfDQ3Io"
      },
      "execution_count": null,
      "outputs": []
    },
    {
      "cell_type": "markdown",
      "source": [
        "### Ask and Answer Questions about the data\n",
        "- Q. Where are most of the accidents taking place (Colder weather or warmer) ?\n",
        "\n",
        "- Q. Which states have the most accidents ? How about per capita ?\n",
        "\n",
        "- Q. Why doesn't NY show up in the data . If yes why count is lower if it is most populated city. (Data for NY is not given in the dataset) ANSWERED\n",
        "\n",
        "- Q. Among the top 100 cities in number of accidents , which state do they belong.\n",
        "\n",
        "- Q. What time of the day are the accident frequent .? (Between 3 to 5 PM) ANSWERED\n",
        "\n",
        "- Q. Which day of the week has most accident ?\n",
        "\n",
        "- Q. Which month do have most accidents ?\n",
        "\n",
        "- Q. Trend of the accidents "
      ],
      "metadata": {
        "id": "yLIbXItEc3Nx"
      }
    },
    {
      "cell_type": "markdown",
      "source": [
        "# Summary and Conclusion\n",
        "## Insights : No data for NY\n",
        "## less then 5% cities have more than 1000 yearly accidents \n",
        "## over 1200+ cities have reported one accident."
      ],
      "metadata": {
        "id": "XyTBmb7XgvMH"
      }
    },
    {
      "cell_type": "code",
      "source": [],
      "metadata": {
        "id": "RgXATKXvQ3GI"
      },
      "execution_count": null,
      "outputs": []
    },
    {
      "cell_type": "code",
      "source": [],
      "metadata": {
        "id": "ajwvqu2kQ3DJ"
      },
      "execution_count": null,
      "outputs": []
    },
    {
      "cell_type": "code",
      "source": [],
      "metadata": {
        "id": "QYNC2__lQ3Ag"
      },
      "execution_count": null,
      "outputs": []
    }
  ]
}